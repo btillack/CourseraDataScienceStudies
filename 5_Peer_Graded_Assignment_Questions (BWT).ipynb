{
 "cells": [
  {
   "cell_type": "markdown",
   "metadata": {},
   "source": [
    "<center>\n",
    "    <img src=\"https://cf-courses-data.s3.us.cloud-object-storage.appdomain.cloud/IBMDeveloperSkillsNetwork-DV0101EN-SkillsNetwork/labs/Module%204/logo.png\" width=\"300\" alt=\"cognitiveclass.ai logo\" />\n",
    "</center>\n"
   ]
  },
  {
   "cell_type": "markdown",
   "metadata": {},
   "source": [
    "# Assignment\n",
    "\n",
    "-   [Story](#story)\n",
    "-   [Components of the report items](#components-of-the-report-items)\n",
    "-   [Expected layout](#expected-layout)\n",
    "-   [Requirements to create the dashboard](#requirements-to-create-the-dashboard)\n",
    "-   [What is new in this exercise compared to other labs?](#what-is-new-in-this-exercise-compared-to-other-labs?)\n",
    "-   [Review](#review)\n",
    "-   [Hints to complete TODOs](#hints-to-complete-todos)\n",
    "-   [Application](#application)\n",
    "\n",
    "## Story:\n",
    "\n",
    "As a data analyst, you have been given a task to monitor and report US domestic airline flights performance. Goal is to analyze the performance of the reporting airline to improve fight reliability thereby improving customer relaibility.\n",
    "\n",
    "Below are the key report items,\n",
    "\n",
    "-   Yearly airline performance report \n",
    "-   Yearly average flight delay statistics\n",
    "\n",
    "_NOTE:_ Year range is between 2005 and 2020.\n",
    "\n",
    "## Components of the report items\n",
    "\n",
    "1.  Yearly airline performance report \n",
    "\n",
    "    For the chosen year provide,\n",
    "\n",
    "    -   Number of flights under different cancellation categories using bar chart.\n",
    "    -   Average flight time by reporting airline using line chart.\n",
    "    -   Percentage of diverted airport landings per reporting airline using pie chart.\n",
    "    -   Number of flights flying from each state using choropleth map.\n",
    "    -   Number of flights flying to each state from each reporting airline using treemap chart.\n",
    "2.  Yearly average flight delay statistics\n",
    "\n",
    "    For the chosen year provide,\n",
    "\n",
    "    -   Monthly average carrier delay by reporting airline for the given year.\n",
    "    -   Monthly average weather delay by reporting airline for the given year.\n",
    "    -   Monthly average natioanl air system delay by reporting airline for the given year.\n",
    "    -   Monthly average security delay by reporting airline for the given year.\n",
    "    -   Monthly average late aircraft delay by reporting airline for the given year.\n",
    "\n",
    "    _NOTE:_ You have worked created the same dashboard components in `Flight Delay Time Statistics Dashboard` section. We will be reusing the same.\n",
    "\n",
    "## Expected Layout\n",
    "\n",
    "<center>\n",
    "    <img src=\"https://cf-courses-data.s3.us.cloud-object-storage.appdomain.cloud/IBMDeveloperSkillsNetwork-DV0101EN-SkillsNetwork/labs/Module%205/Layout.png\" width=\"2000\" alt=\"cognitiveclass.ai logo\"/>\n",
    "</center>\n"
   ]
  },
  {
   "cell_type": "markdown",
   "metadata": {},
   "source": [
    "## Requirements to create the dashboard\n",
    "\n",
    "-   Create dropdown using the reference [here](https://dash.plotly.com/dash-core-components/dropdown?utm_email=Email&utm_source=Nurture&utm_content=000026UJ&utm_term=10006555&utm_campaign=PLACEHOLDER&utm_id=SkillsNetwork-Courses-IBMDeveloperSkillsNetwork-DV0101EN-SkillsNetwork-20297740)\n",
    "-   Create two HTML divisions that can accomodate two components (in one division) side by side. One is HTML heading and the other one is dropdown.\n",
    "-   Add graph components. \n",
    "-   Callback function to compute data, create graph and return to the layout.\n"
   ]
  },
  {
   "cell_type": "markdown",
   "metadata": {},
   "source": [
    "## What's new in this exercise compared to other labs?\n",
    "\n",
    "-   Make sure the layout is clean without any defualt graphs or graph layouts. We will do this by 3 changes:\n",
    "\n",
    "    1.  Add `app.config.suppress_callback_exceptions = True` right after `app = JupyterDash(__name__)`.\n",
    "    2.  Having empty html.Div and use the callback to Output the dcc.graph as the Children of that Div. \n",
    "    3.  Add a state variable in addition to callback decorator input and output parameter. This will allow us to pass extra values without firing the callbacks. \n",
    "        Here, we need to pass two inputs `chart type` and `year`. Input is read only after user entering all the information.\n",
    "\n",
    "-   Use new html display style `flex` to arrange the dropdown menu with description.\n",
    "\n",
    "-   Update app run step to avoid getting error message before initiating callback.\n",
    "\n",
    "_NOTE:_ These steps are only for review.\n"
   ]
  },
  {
   "cell_type": "markdown",
   "metadata": {},
   "source": [
    "## Review\n",
    "\n",
    "Search/Look for review to know how commands are used and computations are carried out. There are 7 review items.\n",
    "\n",
    "-   REVIEW1: Clear the layout and do not display exception till callback gets executed.\n",
    "-   REVIEW2: Dropdown creation.\n",
    "-   REVIEW3: Observe how we add an empty division and providing an id that will be updated during callback.\n",
    "-   REVIEW4: Holding output state till user enters all the form information. In this case, it will be chart type and year.\n",
    "-   REVIEW5: Number of flights flying from each state using choropleth\n",
    "-   REVIEW6: Return dcc.Graph component to the empty division\n",
    "-   REVIEW7: This covers chart type 2 and we have completed this exercise under Flight Delay Time Statistics Dashboard section\n",
    "\n",
    "## Hints to complete TODOs\n",
    "\n",
    "### TODO1\n",
    "\n",
    "Reference [link](https://dash.plotly.com/dash-html-components/h1?utm_email=Email&utm_source=Nurture&utm_content=000026UJ&utm_term=10006555&utm_campaign=PLACEHOLDER&utm_id=SkillsNetwork-Courses-IBMDeveloperSkillsNetwork-DV0101EN-SkillsNetwork-20297740)\n",
    "\n",
    "-   Provide title of the dash application title as `US Domestic Airline Flights Performance`.\n",
    "-   Make the heading center aligned, set color as `#503D36`, and font size as `24`.\n",
    "    Sample: style={'textAlign': 'left', 'color': '#000000', 'font-size': 0}\n",
    "\n",
    "### TODO2\n",
    "\n",
    "Reference [link](https://dash.plotly.com/dash-core-components/dropdown?utm_email=Email&utm_source=Nurture&utm_content=000026UJ&utm_term=10006555&utm_campaign=PLACEHOLDER&utm_id=SkillsNetwork-Courses-IBMDeveloperSkillsNetwork-DV0101EN-SkillsNetwork-20297740)\n",
    "\n",
    "Create a dropdown menu and add two chart options to it.\n",
    "\n",
    "Parameters to be updated in `dcc.Dropdown`:\n",
    "\n",
    "-   Set `id` as `input-type`.\n",
    "-   Set `options` to list containing dictionaries with key as `label` and user provided value for labels in `value`. \n",
    "\n",
    "    _1st dictionary_\n",
    "\n",
    "    -   label: Yearly Airline Performance Report\n",
    "    -   value: OPT1\n",
    "\n",
    "    _2nd dictionary_\n",
    "\n",
    "    -   label: Yearly Airline Delay Report\n",
    "    -   value: OPT2\n",
    "-   Set placeholder to `Select a report type`.\n",
    "-   Set width as `80%`, padding as `3px`, font size as `20px`, text-align-last as `center` inside style parameter dictionary.\n",
    "\n",
    "#### Skeleton:\n",
    "\n",
    "```\n",
    "  dcc.Dropdown(id='....', \n",
    "                   options=[\n",
    "                           {'label': '....', 'value': '...'},\n",
    "                           {'label': '....', 'value': '...'}\n",
    "                           ],\n",
    "                  placeholder='....',\n",
    "                  style={....})\n",
    "```\n",
    "\n",
    "### TODO3\n",
    "\n",
    "Add a division with two empty divisions inside. For reference, observe how code under `REVIEW` has been structured.\n",
    "\n",
    "Provide division ids as `plot4` and `plot5`. Display style as `flex`.\n",
    "\n",
    "#### Skeleton\n",
    "\n",
    "```\n",
    "html.Div([\n",
    "         html.Div([ ], id='....'),\n",
    "         html.Div([ ], id='....')\n",
    "         ], style={....})\n",
    "```\n",
    "\n",
    "### TODO4\n",
    "\n",
    "Our layout has 5 outputs so we need to create 5 output components. Review how input components are constructured to fill in for output component.\n",
    "\n",
    "It is a list with 5 output parameters with component id and property. Here, the component property will be `children` as we have created empty division and passing in `dcc.Graph` after computation.\n",
    "\n",
    "Component ids will be `plot1` , `plot2`, `plot2`, `plot4`, and `plot5`.\n",
    "\n",
    "#### Skeleton\n",
    "\n",
    "```\n",
    "[Output(component_id='plot1', component_property='children'),\n",
    " Output(....),\n",
    " Output(....),\n",
    " Output(....),\n",
    " Output(....)]\n",
    "```\n",
    "\n",
    "### TODO5\n",
    "\n",
    "Deals with creating line plots using returned dataframes from the above step using `plotly.express`. Link for reference is [here](https://plotly.com/python/line-charts/?utm_email=Email&utm_source=Nurture&utm_content=000026UJ&utm_term=10006555&utm_campaign=PLACEHOLDER&utm_id=SkillsNetwork-Courses-IBMDeveloperSkillsNetwork-DV0101EN-SkillsNetwork-20297740)\n",
    "\n",
    "Average flight time by reporting airline\n",
    "\n",
    "-   Set figure name as `line_fig`, data as `line_data`, x as `Month`, y as `AirTime`, color as `Reporting_Airline` and `title` as `Average monthly flight time (minutes) by airline`.\n",
    "\n",
    "#### Skeleton\n",
    "\n",
    "```\n",
    "carrier_fig = px.line(avg_car, x='Month', y='CarrierDelay', color='Reporting_Airline', title='Average carrrier delay time (minutes) by airline')`\n",
    "```\n",
    "\n",
    ")\n",
    "\n",
    "### TODO6\n",
    "\n",
    "Deals with creating treemap plot using returned dataframes from the above step using `plotly.express`. Link for reference is [here](https://plotly.com/python/treemaps/?utm_email=Email&utm_source=Nurture&utm_content=000026UJ&utm_term=10006555&utm_campaign=PLACEHOLDER&utm_id=SkillsNetwork-Courses-IBMDeveloperSkillsNetwork-DV0101EN-SkillsNetwork-20297740)\n",
    "\n",
    "Number of flights flying to each state from each reporting airline\n",
    "\n",
    "-   Set figure name as `tree_fig`, data as `tree_data`, path as `['DestState', 'Reporting_Airline']`, values as `Flights`, colors as `Flights`, color_continuous_scale as `'RdBu'`, and title as `'Flight count by airline to destination state'`\n",
    "\n",
    "#### Skeleton\n",
    "\n",
    "```\n",
    "tree_fig = px.treemap(data, path=['...', '...'], \n",
    "                      values='...',\n",
    "                      color='...',\n",
    "                      color_continuous_scale='...',\n",
    "                      title='...'\n",
    "                )\n",
    "```\n"
   ]
  },
  {
   "cell_type": "markdown",
   "metadata": {},
   "source": [
    "## Application\n"
   ]
  },
  {
   "cell_type": "code",
   "execution_count": 1,
   "metadata": {},
   "outputs": [
    {
     "data": {
      "text/html": [
       "\n",
       "<style>\n",
       "    div#notebook-container    { width: 95%; }\n",
       "    div#menubar-container     { width: 65%; }\n",
       "    div#maintoolbar-container { width: 99%; }\n",
       "</style>\n"
      ],
      "text/plain": [
       "<IPython.core.display.HTML object>"
      ]
     },
     "metadata": {},
     "output_type": "display_data"
    }
   ],
   "source": [
    "from IPython.display import display, HTML\n",
    "display(HTML(data=\"\"\"\n",
    "<style>\n",
    "    div#notebook-container    { width: 95%; }\n",
    "    div#menubar-container     { width: 65%; }\n",
    "    div#maintoolbar-container { width: 99%; }\n",
    "</style>\n",
    "\"\"\"))"
   ]
  },
  {
   "cell_type": "code",
   "execution_count": 2,
   "metadata": {},
   "outputs": [
    {
     "name": "stdout",
     "output_type": "stream",
     "text": [
      "Requirement already satisfied: dash==1.20.0 in /Users/BoTi/opt/anaconda3/lib/python3.8/site-packages (1.20.0)\n",
      "Requirement already satisfied: future in /Users/BoTi/opt/anaconda3/lib/python3.8/site-packages (from dash==1.20.0) (0.18.2)\n",
      "Requirement already satisfied: flask-compress in /Users/BoTi/opt/anaconda3/lib/python3.8/site-packages (from dash==1.20.0) (1.9.0)\n",
      "Requirement already satisfied: plotly in /Users/BoTi/opt/anaconda3/lib/python3.8/site-packages (from dash==1.20.0) (4.14.3)\n",
      "Requirement already satisfied: dash-html-components==1.1.3 in /Users/BoTi/opt/anaconda3/lib/python3.8/site-packages (from dash==1.20.0) (1.1.3)\n",
      "Requirement already satisfied: dash-table==4.11.3 in /Users/BoTi/opt/anaconda3/lib/python3.8/site-packages (from dash==1.20.0) (4.11.3)\n",
      "Requirement already satisfied: dash-renderer==1.9.1 in /Users/BoTi/opt/anaconda3/lib/python3.8/site-packages (from dash==1.20.0) (1.9.1)\n",
      "Requirement already satisfied: dash-core-components==1.16.0 in /Users/BoTi/opt/anaconda3/lib/python3.8/site-packages (from dash==1.20.0) (1.16.0)\n",
      "Requirement already satisfied: Flask>=1.0.4 in /Users/BoTi/opt/anaconda3/lib/python3.8/site-packages (from dash==1.20.0) (1.1.2)\n",
      "Requirement already satisfied: brotli in /Users/BoTi/opt/anaconda3/lib/python3.8/site-packages (from flask-compress->dash==1.20.0) (1.0.9)\n",
      "Requirement already satisfied: six in /Users/BoTi/opt/anaconda3/lib/python3.8/site-packages (from plotly->dash==1.20.0) (1.15.0)\n",
      "Requirement already satisfied: retrying>=1.3.3 in /Users/BoTi/opt/anaconda3/lib/python3.8/site-packages (from plotly->dash==1.20.0) (1.3.3)\n",
      "Requirement already satisfied: Werkzeug>=0.15 in /Users/BoTi/opt/anaconda3/lib/python3.8/site-packages (from Flask>=1.0.4->dash==1.20.0) (1.0.1)\n",
      "Requirement already satisfied: itsdangerous>=0.24 in /Users/BoTi/opt/anaconda3/lib/python3.8/site-packages (from Flask>=1.0.4->dash==1.20.0) (1.1.0)\n",
      "Requirement already satisfied: Jinja2>=2.10.1 in /Users/BoTi/opt/anaconda3/lib/python3.8/site-packages (from Flask>=1.0.4->dash==1.20.0) (2.11.2)\n",
      "Requirement already satisfied: click>=5.1 in /Users/BoTi/opt/anaconda3/lib/python3.8/site-packages (from Flask>=1.0.4->dash==1.20.0) (7.1.2)\n",
      "Requirement already satisfied: MarkupSafe>=0.23 in /Users/BoTi/opt/anaconda3/lib/python3.8/site-packages (from Jinja2>=2.10.1->Flask>=1.0.4->dash==1.20.0) (1.1.1)\n",
      "Dash Version= 1.20.0\n",
      "install/import done\n"
     ]
    }
   ],
   "source": [
    "# Import required libraries\n",
    "import pandas as pd\n",
    "!pip install dash=='1.20.0'\n",
    "import dash\n",
    "print('Dash Version=', dash.__version__)\n",
    "import dash_html_components as html\n",
    "import dash_core_components as dcc\n",
    "from dash.dependencies import Input, Output, State\n",
    "from jupyter_dash import JupyterDash\n",
    "import plotly.graph_objects as go\n",
    "import plotly.express as px\n",
    "from dash import no_update\n",
    "print (\"install/import done\")"
   ]
  },
  {
   "cell_type": "markdown",
   "metadata": {},
   "source": [
    "## Summary\n",
    "\n",
    "Congratulations for completing your dash and plotly assignment. \n",
    "\n",
    "More information about the libraries can be found [here](https://dash.plotly.com/?utm_email=Email&utm_source=Nurture&utm_content=000026UJ&utm_term=10006555&utm_campaign=PLACEHOLDER&utm_id=SkillsNetwork-Courses-IBMDeveloperSkillsNetwork-DV0101EN-SkillsNetwork-20297740)\n"
   ]
  },
  {
   "cell_type": "code",
   "execution_count": 74,
   "metadata": {},
   "outputs": [
    {
     "data": {
      "text/html": [
       "\n",
       "        <iframe\n",
       "            width=\"100%\"\n",
       "            height=\"650\"\n",
       "            src=\"http://localhost:8050/\"\n",
       "            frameborder=\"0\"\n",
       "            allowfullscreen\n",
       "        ></iframe>\n",
       "        "
      ],
      "text/plain": [
       "<IPython.lib.display.IFrame at 0x7ff12a91ceb0>"
      ]
     },
     "metadata": {},
     "output_type": "display_data"
    }
   ],
   "source": [
    "\n",
    "\n",
    "# Create a dash application\n",
    "app = JupyterDash(__name__)\n",
    "JupyterDash.infer_jupyter_proxy_config()\n",
    "\n",
    "# REVIEW1: Clear the layout and do not display exception till callback gets executed\n",
    "app.config.suppress_callback_exceptions = True\n",
    "\n",
    "# Read the airline data into pandas dataframe\n",
    "airline_data =  pd.read_csv('https://cf-courses-data.s3.us.cloud-object-storage.appdomain.cloud/IBMDeveloperSkillsNetwork-DV0101EN-SkillsNetwork/Data%20Files/airline_data.csv', \n",
    "                            encoding = \"ISO-8859-1\",\n",
    "                            dtype={'Div1Airport': str, 'Div1TailNum': str, \n",
    "                                   'Div2Airport': str, 'Div2TailNum': str})\n",
    "\n",
    "\n",
    "# List of years \n",
    "year_list = [i for i in range(2005, 2021, 1)]\n",
    "\n",
    "\"\"\"Compute graph data for creating yearly airline performance report \n",
    "\n",
    "Function that takes airline data as input and create 5 dataframes based on the grouping condition to be used for plottling charts and grphs.\n",
    "\n",
    "Argument:\n",
    "     \n",
    "    df: Filtered dataframe\n",
    "    \n",
    "Returns:\n",
    "   Dataframes to create graph. \n",
    "\"\"\"\n",
    "def compute_data_choice_1(df):\n",
    "    # Cancellation Category Count\n",
    "    bar_data = df.groupby(['Month','CancellationCode'])['Flights'].sum().reset_index()\n",
    "    # Average flight time by reporting airline\n",
    "    line_data = df.groupby(['Month','Reporting_Airline'])['AirTime'].mean().reset_index()\n",
    "    # Diverted Airport Landings\n",
    "    div_data = df[df['DivAirportLandings'] != 0.0]\n",
    "    # Source state count\n",
    "    map_data = df.groupby(['OriginState'])['Flights'].sum().reset_index()\n",
    "    # Destination state count\n",
    "    tree_data = df.groupby(['DestState', 'Reporting_Airline'])['Flights'].sum().reset_index()\n",
    "    return bar_data, line_data, div_data, map_data, tree_data\n",
    "\n",
    "\n",
    "\"\"\"Compute graph data for creating yearly airline delay report\n",
    "\n",
    "This function takes in airline data and selected year as an input and performs computation for creating charts and plots.\n",
    "\n",
    "Arguments:\n",
    "    df: Input airline data.\n",
    "    \n",
    "Returns:\n",
    "    Computed average dataframes for carrier delay, weather delay, NAS delay, security delay, and late aircraft delay.\n",
    "\"\"\"\n",
    "def compute_data_choice_2(df):\n",
    "    # Compute delay averages\n",
    "    avg_car = df.groupby(['Month','Reporting_Airline'])['CarrierDelay'].mean().reset_index()\n",
    "    avg_weather = df.groupby(['Month','Reporting_Airline'])['WeatherDelay'].mean().reset_index()\n",
    "    avg_NAS = df.groupby(['Month','Reporting_Airline'])['NASDelay'].mean().reset_index()\n",
    "    avg_sec = df.groupby(['Month','Reporting_Airline'])['SecurityDelay'].mean().reset_index()\n",
    "    avg_late = df.groupby(['Month','Reporting_Airline'])['LateAircraftDelay'].mean().reset_index()\n",
    "#   print('Compute data 2 done')\n",
    "    return avg_car, avg_weather, avg_NAS, avg_sec, avg_late\n",
    "\n",
    "\n",
    "# Application layout\n",
    "app.layout = html.Div(children=[ \n",
    "    html.H1(children='US Domestic Flights Performance',\n",
    "           style = {\n",
    "               'textAlign':'center',\n",
    "               'color':'#503D36',\n",
    "               'font_size':'24px'\n",
    "           }),\n",
    "                                # TODO1: Add title to the dashboard ^^^^^\n",
    "                              \n",
    "    \n",
    "                                # REVIEW2: Dropdown creation\n",
    "                                # Create an outer division \n",
    "                                html.Div([\n",
    "                                    # Add an division\n",
    "                                    html.Div([\n",
    "                                        # Create an division for adding dropdown helper text for report type\n",
    "                                        html.Div(\n",
    "                                            [\n",
    "                                            html.H2('Report Type:', style={'margin-right': '2em'}),\n",
    "                                            ]\n",
    "                                        ),\n",
    "                                        # TODO2: Add a dropdown\n",
    "                                        dcc.Dropdown(id='input-rep',\n",
    "                                                    options=[\n",
    "                                                        {'label':'Yearly Airline Performance Report','value':'OPT1'},\n",
    "                                                        {'label':'Yearly Airline Delay Report','value':'OPT2'}],\n",
    "                                                     placeholder='Select a report type',\n",
    "                                                     style = { 'width':'80%', 'padding':'3px','font_size':'20px','text-align-last' : 'center'}\n",
    "                                                    )\n",
    "                                    # Place them next to each other using the division style\n",
    "                                    ], style={'display':'flex'}),\n",
    "                                    \n",
    "                                   # Add next division \n",
    "                                   html.Div([\n",
    "                                       # Create an division for adding dropdown helper text for choosing year\n",
    "                                        html.Div(\n",
    "                                            [\n",
    "                                            html.H2('Choose Year:', style={'margin-right': '2em'})\n",
    "                                            ]\n",
    "                                        ),\n",
    "                                        dcc.Dropdown(id='input-year', \n",
    "                                                     # Update dropdown values using list comphrehension\n",
    "                                                     options=[{'label': i, 'value': i} for i in year_list],\n",
    "                                                     placeholder=\"Select a year\",\n",
    "                                                     style={'width':'80%', 'padding':'3px', 'font-size': '20px', 'text-align-last' : 'center'}),\n",
    "                                            # Place them next to each other using the division style\n",
    "                                            ], style={'display': 'flex'}),  \n",
    "                                          ]),\n",
    "                                \n",
    "                                # Add Computed graphs\n",
    "                                # REVIEW3: Observe how we add an empty division and providing an id that will be updated during callback\n",
    "                                html.Div([ ], id='plot1'),\n",
    "    \n",
    "                                html.Div([\n",
    "                                        html.Div([ ], id='plot2'),\n",
    "                                        html.Div([ ], id='plot3')\n",
    "                                ], style={'display': 'flex'}),\n",
    "                                \n",
    "                                # TODO3: Add a division with two empty divisions inside. See above disvision for example.\n",
    "                                html.Div([\n",
    "                                    html.Div([ ], id= 'plot4'),\n",
    "                                    html.Div([ ], id= 'plot5')\n",
    "                                ], style={'display':'flex'})\n",
    "])\n",
    "\n",
    "\n",
    "# Callback function definition\n",
    "# TODO4: Add 5 ouput components\n",
    "@app.callback( [Output(component_id='plot1', component_property='children'),\n",
    "               Output(component_id='plot2', component_property='children'),\n",
    "               Output(component_id='plot3', component_property='children'),\n",
    "               Output(component_id='plot4', component_property='children'),\n",
    "               Output(component_id='plot5', component_property='children')],\n",
    "               [Input(component_id='input-rep', component_property='value'),\n",
    "                Input(component_id='input-year', component_property='value')],\n",
    "               # REVIEW4: Holding output state till user enters all the form information. In this case, it will be chart type and year\n",
    "               [State(\"plot1\", \"children\"), State(\"plot2\", \"children\"),\n",
    "                State(\"plot3\", \"children\"), State(\"plot4\", \"children\"),\n",
    "                State(\"plot5\", \"children\")\n",
    "               ])\n",
    "\n",
    "\n",
    "\n",
    "# Add computation to callback function and return graph\n",
    "def get_graph(chart, year, children1, children2, c3, c4, c5):\n",
    "        \n",
    "        # Select data\n",
    "        df =  airline_data[airline_data['Year']==int(year)]\n",
    "\n",
    "       \n",
    "        if chart == 'OPT2':\n",
    "            # REVIEW7: This covers chart type 2 and we have completed this exercise under Flight Delay Time Statistics Dashboard section\n",
    "            # Compute required information for creating graph from the data\n",
    "            avg_car, avg_weather, avg_NAS, avg_sec, avg_late = compute_data_choice_2(df)\n",
    "            \n",
    "            # Create graph\n",
    "            carrier_fig = px.line(avg_car, x='Month', y='CarrierDelay', color='Reporting_Airline', title='Average carrrier delay time (minutes) by airline')\n",
    "            weather_fig = px.line(avg_weather, x='Month', y='WeatherDelay', color='Reporting_Airline', title='Average weather delay time (minutes) by airline')\n",
    "            nas_fig = px.line(avg_NAS, x='Month', y='NASDelay', color='Reporting_Airline', title='Average NAS delay time (minutes) by airline')\n",
    "            sec_fig = px.line(avg_sec, x='Month', y='SecurityDelay', color='Reporting_Airline', title='Average security delay time (minutes) by airline')\n",
    "            late_fig = px.line(avg_late, x='Month', y='LateAircraftDelay', color='Reporting_Airline', title='Average late aircraft delay time (minutes) by airline')\n",
    "            \n",
    "            return[dcc.Graph(figure=carrier_fig), \n",
    "                   dcc.Graph(figure=weather_fig), \n",
    "                   dcc.Graph(figure=nas_fig), \n",
    "                   dcc.Graph(figure=sec_fig), \n",
    "                   dcc.Graph(figure=late_fig)]\n",
    "\n",
    "        if chart == 'OPT1':\n",
    "            \n",
    "            # Compute required information for creating graph from the data\n",
    "            bar_data, line_data, div_data, map_data, tree_data = compute_data_choice_1(df)\n",
    "            \n",
    "            \n",
    "            # Number of flights under different cancellation categories\n",
    "            bar_fig = px.bar(bar_data, x='Month', y='Flights', color='CancellationCode', title='Monthly Flight Cancellation')\n",
    "            \n",
    "            # TODO5: Average flight time by reporting airline\n",
    "            carrier_fig = px.line(avg_car, x='Month', y='CarrierDelay', color='Reporting_Airline',title='Average carrier delay time in minutes by airline')\n",
    "            \n",
    "            # Percentage of diverted airport landings per reporting airline\n",
    "            pie_fig = px.pie(div_data, values='Flights', names='Reporting_Airline', title='% of flights by reporting airline')\n",
    "            \n",
    "            # REVIEW5: Number of flights flying from each state using choropleth\n",
    "            map_fig = px.choropleth(map_data,  # Input data\n",
    "                    locations='OriginState', \n",
    "                    color='Flights',  \n",
    "                    hover_data=['OriginState', 'Flights'], \n",
    "                    locationmode = 'USA-states', # Set to plot as US States\n",
    "                    color_continuous_scale='GnBu',\n",
    "                    range_color=[0, map_data['Flights'].max()]) \n",
    "            map_fig.update_layout(\n",
    "                    title_text = 'Number of flights from origin state', \n",
    "                    geo_scope='usa') # Plot only the USA instead of globe\n",
    "            \n",
    "            # TODO6: Number of flights flying to each state from each reporting airline\n",
    "            tree_fig=px.treemap(tree_data, path=['DestState','Reporting_Airline'],\n",
    "                               values='Flights',\n",
    "                               color='Flights',\n",
    "                               color_continuous_scale='RdBu',\n",
    "                               title='Flights count by airline to destination state')\n",
    "            \n",
    "            # REVIEW6: Return dcc.Graph component to the empty division\n",
    "            return [dcc.Graph(figure=tree_fig), \n",
    "                    dcc.Graph(figure=pie_fig),\n",
    "                    dcc.Graph(figure=map_fig),\n",
    "                    dcc.Graph(figure=bar_fig),\n",
    "                    dcc.Graph(figure=line_fig)]\n",
    "       \n",
    "           \n",
    "\n",
    "\n",
    "# Run the app\n",
    "if __name__ == '__main__':\n",
    "    # REVIEW8: Adding dev_tools_ui=False, dev_tools_props_check=False can prevent error appearing before calling callback function\n",
    "    app.run_server(mode=\"inline\", host=\"localhost\", debug=True, dev_tools_ui=False, dev_tools_props_check=False)"
   ]
  },
  {
   "cell_type": "code",
   "execution_count": 39,
   "metadata": {},
   "outputs": [],
   "source": [
    "tree_fig=px.treemap(tree_data, path=['DestState','Reporting_Airline'],\n",
    "                               values='Flights',\n",
    "                               color='Flights',\n",
    "                               color_continuous_scale='RdBu',\n",
    "                               title='Flights count by airline to destination state')"
   ]
  },
  {
   "cell_type": "code",
   "execution_count": 40,
   "metadata": {},
   "outputs": [
    {
     "data": {
      "application/vnd.plotly.v1+json": {
       "config": {
        "plotlyServerURL": "https://plot.ly"
       },
       "data": [
        {
         "branchvalues": "total",
         "customdata": [
          [
           5
          ],
          [
           2
          ],
          [
           3
          ],
          [
           4
          ],
          [
           23
          ],
          [
           1
          ],
          [
           4
          ],
          [
           8
          ],
          [
           13
          ],
          [
           2
          ],
          [
           2
          ],
          [
           1
          ],
          [
           1
          ],
          [
           45
          ],
          [
           13
          ],
          [
           5
          ],
          [
           1
          ],
          [
           5
          ],
          [
           2
          ],
          [
           28
          ],
          [
           10
          ],
          [
           2
          ],
          [
           16
          ],
          [
           1
          ],
          [
           6
          ],
          [
           3
          ],
          [
           29
          ],
          [
           6
          ],
          [
           11
          ],
          [
           1
          ],
          [
           7
          ],
          [
           2
          ],
          [
           9
          ],
          [
           10
          ],
          [
           69
          ],
          [
           332
          ],
          [
           51
          ],
          [
           13
          ],
          [
           300
          ],
          [
           45
          ],
          [
           19
          ],
          [
           7
          ],
          [
           1
          ],
          [
           363
          ],
          [
           11
          ],
          [
           4
          ],
          [
           10
          ],
          [
           15
          ],
          [
           65
          ],
          [
           20
          ],
          [
           26
          ],
          [
           24
          ],
          [
           78
          ],
          [
           126
          ],
          [
           4
          ],
          [
           40
          ],
          [
           9
          ],
          [
           51
          ],
          [
           156
          ],
          [
           31
          ],
          [
           33
          ],
          [
           13
          ],
          [
           74
          ],
          [
           37
          ],
          [
           10
          ],
          [
           1
          ],
          [
           77
          ],
          [
           860
          ],
          [
           11
          ],
          [
           94
          ],
          [
           10
          ],
          [
           33
          ],
          [
           4
          ],
          [
           1
          ],
          [
           167
          ],
          [
           14
          ],
          [
           170
          ],
          [
           10
          ],
          [
           6
          ],
          [
           3
          ],
          [
           11
          ],
          [
           3
          ],
          [
           7
          ],
          [
           1
          ],
          [
           3
          ],
          [
           2
          ],
          [
           1
          ],
          [
           3
          ],
          [
           2
          ],
          [
           12
          ],
          [
           2
          ],
          [
           76
          ],
          [
           4
          ],
          [
           3
          ],
          [
           5
          ],
          [
           205
          ],
          [
           5
          ],
          [
           58
          ],
          [
           3
          ],
          [
           4
          ],
          [
           112
          ],
          [
           3
          ],
          [
           5
          ],
          [
           6
          ],
          [
           79
          ],
          [
           3
          ],
          [
           2
          ],
          [
           5
          ],
          [
           12
          ],
          [
           1
          ],
          [
           6
          ],
          [
           124
          ],
          [
           1
          ],
          [
           1
          ],
          [
           5
          ],
          [
           19
          ],
          [
           1
          ],
          [
           12
          ],
          [
           3
          ],
          [
           21
          ],
          [
           4
          ],
          [
           4
          ],
          [
           3
          ],
          [
           14
          ],
          [
           67
          ],
          [
           75
          ],
          [
           3
          ],
          [
           109
          ],
          [
           21
          ],
          [
           6
          ],
          [
           22
          ],
          [
           8
          ],
          [
           1
          ],
          [
           2
          ],
          [
           24
          ],
          [
           29
          ],
          [
           12
          ],
          [
           2
          ],
          [
           8
          ],
          [
           8
          ],
          [
           9
          ],
          [
           2
          ],
          [
           11
          ],
          [
           4
          ],
          [
           5
          ],
          [
           1
          ],
          [
           190
          ],
          [
           5
          ],
          [
           13
          ],
          [
           27
          ],
          [
           96
          ],
          [
           10
          ],
          [
           1
          ],
          [
           10
          ],
          [
           5
          ],
          [
           3
          ],
          [
           4
          ],
          [
           1
          ],
          [
           3
          ],
          [
           3
          ],
          [
           336
          ],
          [
           7
          ],
          [
           28
          ],
          [
           1
          ],
          [
           1
          ],
          [
           17
          ],
          [
           1
          ],
          [
           3
          ],
          [
           4
          ],
          [
           2
          ],
          [
           9
          ],
          [
           1
          ],
          [
           13
          ],
          [
           1
          ],
          [
           2
          ],
          [
           2
          ],
          [
           1
          ],
          [
           9
          ],
          [
           1
          ],
          [
           3
          ],
          [
           1
          ],
          [
           3
          ],
          [
           29
          ],
          [
           12
          ],
          [
           39
          ],
          [
           23
          ],
          [
           45
          ],
          [
           224
          ],
          [
           41
          ],
          [
           26
          ],
          [
           331
          ],
          [
           906
          ],
          [
           22
          ],
          [
           2
          ],
          [
           4
          ],
          [
           34
          ],
          [
           17
          ],
          [
           4
          ],
          [
           208
          ],
          [
           52
          ],
          [
           71
          ],
          [
           31
          ],
          [
           6
          ],
          [
           94
          ],
          [
           94
          ],
          [
           34
          ],
          [
           22
          ],
          [
           18
          ],
          [
           43
          ],
          [
           3
          ],
          [
           5
          ],
          [
           23
          ],
          [
           10
          ],
          [
           47
          ],
          [
           209
          ],
          [
           42
          ],
          [
           19
          ],
          [
           24
          ],
          [
           38
          ],
          [
           6
          ],
          [
           5
          ],
          [
           21
          ],
          [
           1
          ],
          [
           69
          ],
          [
           242
          ],
          [
           181
          ],
          [
           102
          ],
          [
           3
          ],
          [
           47
          ],
          [
           21
          ],
          [
           1
          ],
          [
           8
          ],
          [
           1
          ],
          [
           1
          ],
          [
           1
          ],
          [
           29
          ],
          [
           41
          ],
          [
           1
          ],
          [
           1
          ],
          [
           4
          ],
          [
           1
          ],
          [
           2
          ],
          [
           3
          ],
          [
           1
          ],
          [
           2
          ],
          [
           1
          ],
          [
           12
          ],
          [
           2
          ],
          [
           5
          ],
          [
           2
          ],
          [
           2
          ],
          [
           2
          ],
          [
           4
          ],
          [
           34
          ],
          [
           15
          ],
          [
           1
          ],
          [
           13
          ],
          [
           1
          ],
          [
           34
          ],
          [
           227
          ],
          [
           3
          ],
          [
           47
          ],
          [
           13
          ],
          [
           8
          ],
          [
           31
          ],
          [
           25
          ],
          [
           2
          ],
          [
           2
          ],
          [
           27
          ],
          [
           3
          ],
          [
           13
          ],
          [
           13
          ],
          [
           1
          ],
          [
           34
          ],
          [
           1
          ],
          [
           5
          ],
          [
           2
          ],
          [
           30
          ],
          [
           1
          ],
          [
           25
          ],
          [
           25
          ],
          [
           15
          ],
          [
           6
          ],
          [
           3
          ],
          [
           22
          ],
          [
           2
          ],
          [
           32
          ],
          [
           120
          ],
          [
           5
          ],
          [
           38
          ],
          [
           3
          ],
          [
           8
          ],
          [
           5
          ],
          [
           4
          ],
          [
           9
          ],
          [
           65
          ],
          [
           1
          ],
          [
           9
          ],
          [
           3
          ],
          [
           5
          ],
          [
           2
          ],
          [
           2
          ],
          [
           1
          ],
          [
           2
          ],
          [
           5
          ],
          [
           1
          ],
          [
           1
          ],
          [
           1
          ],
          [
           1
          ],
          [
           4
          ],
          [
           4
          ],
          [
           5
          ],
          [
           1
          ],
          [
           1
          ],
          [
           3
          ],
          [
           1
          ],
          [
           8
          ],
          [
           2
          ],
          [
           3
          ],
          [
           8
          ],
          [
           2
          ],
          [
           4
          ],
          [
           1
          ],
          [
           58
          ],
          [
           118
          ],
          [
           11
          ],
          [
           5
          ],
          [
           2
          ],
          [
           4
          ],
          [
           7
          ],
          [
           18
          ],
          [
           1
          ],
          [
           8
          ],
          [
           3
          ],
          [
           6
          ],
          [
           1
          ],
          [
           6
          ],
          [
           3
          ],
          [
           3
          ],
          [
           16
          ],
          [
           10
          ],
          [
           12
          ],
          [
           3
          ],
          [
           1
          ],
          [
           1
          ],
          [
           12
          ],
          [
           17
          ],
          [
           2
          ],
          [
           11
          ],
          [
           2
          ],
          [
           4
          ],
          [
           9
          ],
          [
           2
          ],
          [
           1
          ],
          [
           1
          ],
          [
           1
          ],
          [
           1
          ],
          [
           1
          ],
          [
           3
          ],
          [
           1
          ],
          [
           4
          ],
          [
           2
          ],
          [
           1
          ],
          [
           1
          ],
          [
           1
          ],
          [
           1
          ],
          [
           9
          ],
          [
           145
          ],
          [
           2
          ],
          [
           2
          ],
          [
           4
          ],
          [
           169
          ],
          [
           99
          ],
          [
           7
          ],
          [
           7
          ],
          [
           1
          ],
          [
           2
          ],
          [
           7
          ],
          [
           4
          ],
          [
           2
          ],
          [
           6
          ],
          [
           2
          ],
          [
           3
          ],
          [
           3
          ],
          [
           14
          ],
          [
           6
          ],
          [
           4
          ],
          [
           4
          ],
          [
           96
          ],
          [
           9
          ],
          [
           16
          ],
          [
           9
          ],
          [
           3
          ],
          [
           16
          ],
          [
           4
          ],
          [
           2
          ],
          [
           7
          ],
          [
           1
          ],
          [
           1
          ],
          [
           18
          ],
          [
           1
          ],
          [
           5
          ],
          [
           1
          ],
          [
           1
          ],
          [
           1
          ],
          [
           10
          ],
          [
           33
          ],
          [
           94
          ],
          [
           5
          ],
          [
           4
          ],
          [
           40
          ],
          [
           6
          ],
          [
           20
          ],
          [
           215
          ],
          [
           15
          ],
          [
           3
          ],
          [
           18
          ],
          [
           15
          ],
          [
           15
          ],
          [
           2
          ],
          [
           3
          ],
          [
           19
          ],
          [
           3
          ],
          [
           20
          ],
          [
           11
          ],
          [
           40
          ],
          [
           7
          ],
          [
           5
          ],
          [
           1
          ],
          [
           2
          ],
          [
           66
          ],
          [
           29
          ],
          [
           20
          ],
          [
           17
          ],
          [
           9
          ],
          [
           2
          ],
          [
           17
          ],
          [
           279
          ],
          [
           1
          ],
          [
           25
          ],
          [
           25
          ],
          [
           8
          ],
          [
           7
          ],
          [
           26
          ],
          [
           4
          ],
          [
           12
          ],
          [
           3
          ],
          [
           2
          ],
          [
           4
          ],
          [
           6
          ],
          [
           2
          ],
          [
           4
          ],
          [
           14
          ],
          [
           2
          ],
          [
           6
          ],
          [
           1
          ],
          [
           4
          ],
          [
           2
          ],
          [
           1
          ],
          [
           11
          ],
          [
           1
          ],
          [
           1
          ],
          [
           6
          ],
          [
           5
          ],
          [
           6
          ],
          [
           11
          ],
          [
           46
          ],
          [
           19
          ],
          [
           11
          ],
          [
           53
          ],
          [
           15
          ],
          [
           5
          ],
          [
           10
          ],
          [
           1
          ],
          [
           41
          ],
          [
           17
          ],
          [
           1
          ],
          [
           9
          ],
          [
           5
          ],
          [
           24
          ],
          [
           6
          ],
          [
           367
          ],
          [
           328
          ],
          [
           33
          ],
          [
           6
          ],
          [
           14
          ],
          [
           10
          ],
          [
           21
          ],
          [
           11
          ],
          [
           2
          ],
          [
           14
          ],
          [
           3
          ],
          [
           13
          ],
          [
           43
          ],
          [
           30
          ],
          [
           2
          ],
          [
           8
          ],
          [
           31
          ],
          [
           1
          ],
          [
           2
          ],
          [
           1
          ],
          [
           6
          ],
          [
           150
          ],
          [
           30
          ],
          [
           3
          ],
          [
           32
          ],
          [
           20
          ],
          [
           45
          ],
          [
           6
          ],
          [
           1
          ],
          [
           1
          ],
          [
           1
          ],
          [
           10
          ],
          [
           15
          ],
          [
           6
          ],
          [
           5
          ],
          [
           1
          ],
          [
           1
          ],
          [
           79
          ],
          [
           2
          ],
          [
           7
          ],
          [
           3
          ],
          [
           11
          ],
          [
           4
          ],
          [
           1
          ],
          [
           49
          ],
          [
           2
          ],
          [
           1
          ],
          [
           41
          ],
          [
           9
          ],
          [
           1
          ],
          [
           13
          ],
          [
           1
          ],
          [
           9
          ],
          [
           10
          ],
          [
           1
          ],
          [
           1
          ],
          [
           25
          ],
          [
           1
          ],
          [
           3
          ],
          [
           4
          ],
          [
           2
          ],
          [
           47
          ],
          [
           418
          ],
          [
           173
          ],
          [
           2
          ],
          [
           19
          ],
          [
           8
          ],
          [
           36
          ],
          [
           121
          ],
          [
           8
          ],
          [
           6
          ],
          [
           13
          ],
          [
           1
          ],
          [
           1
          ],
          [
           42
          ],
          [
           41
          ],
          [
           14
          ],
          [
           34
          ],
          [
           6
          ],
          [
           18
          ],
          [
           9
          ],
          [
           1
          ],
          [
           11
          ],
          [
           20
          ],
          [
           13
          ],
          [
           11
          ],
          [
           6
          ],
          [
           62
          ],
          [
           7
          ],
          [
           13
          ],
          [
           26
          ],
          [
           66
          ],
          [
           160
          ],
          [
           7
          ],
          [
           39
          ],
          [
           36
          ],
          [
           3
          ],
          [
           14
          ],
          [
           3
          ],
          [
           1
          ],
          [
           7
          ],
          [
           1
          ],
          [
           1
          ],
          [
           6
          ],
          [
           1
          ],
          [
           1
          ],
          [
           15
          ],
          [
           1
          ],
          [
           1
          ],
          [
           3
          ],
          [
           1
          ],
          [
           3
          ],
          [
           15
          ],
          [
           2
          ],
          [
           2
          ],
          [
           1
          ],
          [
           3
          ],
          [
           1
          ],
          [
           2
          ],
          [
           11
          ],
          [
           30
          ],
          [
           4
          ],
          [
           13
          ],
          [
           8
          ],
          [
           2
          ],
          [
           1
          ],
          [
           1
          ],
          [
           2
          ],
          [
           3
          ],
          [
           12
          ],
          [
           1
          ],
          [
           1
          ],
          [
           4
          ],
          [
           1
          ],
          [
           4
          ],
          [
           3
          ],
          [
           4
          ],
          [
           36
          ],
          [
           7
          ],
          [
           2
          ],
          [
           44
          ],
          [
           11
          ],
          [
           1
          ],
          [
           5
          ],
          [
           14
          ],
          [
           4
          ],
          [
           3
          ],
          [
           4
          ],
          [
           9
          ],
          [
           7
          ],
          [
           3
          ],
          [
           1
          ],
          [
           10
          ],
          [
           210
          ],
          [
           3
          ],
          [
           8
          ],
          [
           3
          ],
          [
           4
          ],
          [
           5
          ],
          [
           36
          ],
          [
           8
          ],
          [
           8
          ],
          [
           3
          ],
          [
           8
          ],
          [
           2
          ],
          [
           2
          ],
          [
           5
          ],
          [
           15
          ],
          [
           2
          ],
          [
           16
          ],
          [
           6
          ],
          [
           4
          ],
          [
           3
          ],
          [
           4
          ],
          [
           19
          ],
          [
           1
          ],
          [
           1
          ],
          [
           1
          ],
          [
           1
          ],
          [
           3
          ],
          [
           1
          ],
          [
           4
          ],
          [
           1
          ],
          [
           1
          ],
          [
           44
          ],
          [
           555
          ],
          [
           348
          ],
          [
           7
          ],
          [
           79
          ],
          [
           24
          ],
          [
           37
          ],
          [
           11
          ],
          [
           16
          ],
          [
           510
          ],
          [
           6
          ],
          [
           3
          ],
          [
           6
          ],
          [
           11
          ],
          [
           44
          ],
          [
           16
          ],
          [
           1
          ],
          [
           29
          ],
          [
           30
          ],
          [
           24
          ],
          [
           8
          ],
          [
           13
          ],
          [
           2
          ],
          [
           24
          ],
          [
           4
          ],
          [
           90
          ],
          [
           2
          ],
          [
           54
          ],
          [
           72
          ],
          [
           34
          ],
          [
           6
          ],
          [
           41
          ],
          [
           40
          ],
          [
           7
          ],
          [
           3
          ],
          [
           5
          ],
          [
           1
          ],
          [
           10
          ],
          [
           125
          ],
          [
           10
          ],
          [
           138
          ],
          [
           5
          ],
          [
           60
          ],
          [
           6
          ],
          [
           3
          ],
          [
           5
          ],
          [
           1
          ],
          [
           94
          ],
          [
           140
          ],
          [
           13
          ],
          [
           21
          ],
          [
           208
          ],
          [
           26
          ],
          [
           1
          ],
          [
           31
          ],
          [
           22
          ],
          [
           15
          ],
          [
           13
          ],
          [
           74
          ],
          [
           68
          ],
          [
           6
          ],
          [
           22
          ],
          [
           7
          ],
          [
           21
          ],
          [
           426
          ],
          [
           10
          ],
          [
           29
          ],
          [
           4
          ],
          [
           38
          ],
          [
           195
          ],
          [
           63
          ],
          [
           5
          ],
          [
           473
          ],
          [
           4
          ],
          [
           19
          ],
          [
           17
          ],
          [
           27
          ],
          [
           42
          ],
          [
           3
          ],
          [
           163
          ],
          [
           1
          ],
          [
           4
          ],
          [
           19
          ],
          [
           6
          ],
          [
           6
          ],
          [
           25
          ],
          [
           1
          ],
          [
           2
          ],
          [
           2
          ],
          [
           9
          ],
          [
           3
          ],
          [
           3
          ],
          [
           9
          ],
          [
           1
          ],
          [
           1
          ],
          [
           1
          ],
          [
           2
          ],
          [
           31
          ],
          [
           15
          ],
          [
           272
          ],
          [
           838
          ],
          [
           103
          ],
          [
           15
          ],
          [
           288
          ],
          [
           30
          ],
          [
           1
          ],
          [
           9
          ],
          [
           231
          ],
          [
           31
          ],
          [
           1
          ],
          [
           20
          ],
          [
           61
          ],
          [
           17
          ],
          [
           216
          ],
          [
           3
          ],
          [
           37
          ],
          [
           11
          ],
          [
           221
          ],
          [
           7
          ],
          [
           37
          ],
          [
           12
          ],
          [
           9
          ],
          [
           7
          ],
          [
           86
          ],
          [
           310
          ],
          [
           65
          ],
          [
           35
          ],
          [
           74
          ],
          [
           50
          ],
          [
           51
          ],
          [
           5
          ],
          [
           21
          ],
          [
           2
          ],
          [
           124
          ],
          [
           681
          ],
          [
           43
          ],
          [
           34
          ],
          [
           65
          ],
          [
           17
          ],
          [
           7
          ],
          [
           4
          ],
          [
           4
          ],
          [
           11
          ],
          [
           7
          ],
          [
           1
          ],
          [
           6
          ],
          [
           2
          ],
          [
           3
          ],
          [
           13
          ],
          [
           7
          ],
          [
           4
          ],
          [
           11
          ],
          [
           11
          ],
          [
           1
          ],
          [
           5
          ],
          [
           3
          ],
          [
           9
          ],
          [
           5
          ],
          [
           9
          ],
          [
           5
          ],
          [
           16
          ],
          [
           6
          ],
          [
           4
          ],
          [
           56
          ],
          [
           20
          ],
          [
           60
          ],
          [
           3
          ],
          [
           3
          ],
          [
           2
          ],
          [
           7
          ],
          [
           16
          ],
          [
           116
          ],
          [
           21
          ],
          [
           3
          ],
          [
           1
          ],
          [
           6
          ],
          [
           1
          ],
          [
           5
          ],
          [
           1
          ],
          [
           44
          ],
          [
           16
          ],
          [
           16
          ],
          [
           4
          ],
          [
           7
          ],
          [
           21
          ],
          [
           3
          ],
          [
           23
          ],
          [
           3
          ],
          [
           1
          ],
          [
           1
          ],
          [
           2
          ],
          [
           3
          ],
          [
           1
          ],
          [
           3
          ],
          [
           31
          ],
          [
           4
          ],
          [
           3
          ],
          [
           3
          ],
          [
           3
          ],
          [
           3
          ],
          [
           6
          ],
          [
           3
          ],
          [
           5
          ],
          [
           29
          ],
          [
           37
          ],
          [
           7
          ],
          [
           1
          ],
          [
           1
          ],
          [
           3
          ],
          [
           7
          ],
          [
           1
          ],
          [
           6
          ],
          [
           5
          ],
          [
           3
          ],
          [
           5
          ],
          [
           1
          ],
          [
           4
          ],
          [
           2
          ],
          [
           2
          ],
          [
           6
          ],
          [
           1
          ],
          [
           11
          ],
          [
           1
          ],
          [
           14
          ],
          [
           6
          ],
          [
           6
          ],
          [
           1
          ],
          [
           3
          ],
          [
           4
          ],
          [
           11
          ],
          [
           1
          ],
          [
           1
          ],
          [
           146.32291666666666
          ],
          [
           24.680981595092025
          ],
          [
           19
          ],
          [
           148.26365795724465
          ],
          [
           448.9867674858223
          ],
          [
           182.54845360824743
          ],
          [
           14.442622950819672
          ],
          [
           204.86917960088692
          ],
          [
           575.7804249839021
          ],
          [
           83.74740484429066
          ],
          [
           9.952380952380953
          ],
          [
           23.083333333333332
          ],
          [
           291.3080407701019
          ],
          [
           15.1875
          ],
          [
           4.2727272727272725
          ],
          [
           112.96976241900649
          ],
          [
           32.72075471698113
          ],
          [
           52.107438016528924
          ],
          [
           127.3040380047506
          ],
          [
           3.6470588235294117
          ],
          [
           198.15625
          ],
          [
           203.30795262267344
          ],
          [
           141.83287671232875
          ],
          [
           13.238805970149254
          ],
          [
           22.11392405063291
          ],
          [
           229.7960308710033
          ],
          [
           15.11320754716981
          ],
          [
           11.358490566037736
          ],
          [
           6.588235294117647
          ],
          [
           96.18367346938776
          ],
          [
           54.84507042253521
          ],
          [
           164.3494318181818
          ],
          [
           116.78913219789132
          ],
          [
           46.71747211895911
          ],
          [
           38.49753694581281
          ],
          [
           49.442953020134226
          ],
          [
           284.25659472422063
          ],
          [
           20.652173913043477
          ],
          [
           13.591549295774648
          ],
          [
           13.169491525423728
          ],
          [
           7
          ],
          [
           86.05882352941177
          ],
          [
           3
          ],
          [
           497.86404234204434
          ],
          [
           137.96583143507974
          ],
          [
           84.63718820861678
          ],
          [
           7
          ],
          [
           3.4347826086956523
          ],
          [
           102.61834862385321
          ],
          [
           24.35238095238095
          ],
          [
           3.9
          ],
          [
           10.037037037037036
          ]
         ],
         "domain": {
          "x": [
           0,
           1
          ],
          "y": [
           0,
           1
          ]
         },
         "hovertemplate": "labels=%{label}<br>Flights_sum=%{value}<br>parent=%{parent}<br>id=%{id}<br>Flights=%{color}<extra></extra>",
         "ids": [
          "AL/9E",
          "AR/9E",
          "CT/9E",
          "FL/9E",
          "GA/9E",
          "ID/9E",
          "IL/9E",
          "IN/9E",
          "KY/9E",
          "LA/9E",
          "MA/9E",
          "MD/9E",
          "ME/9E",
          "MI/9E",
          "MN/9E",
          "MO/9E",
          "MS/9E",
          "NC/9E",
          "ND/9E",
          "NY/9E",
          "OH/9E",
          "OK/9E",
          "PA/9E",
          "RI/9E",
          "SC/9E",
          "SD/9E",
          "TN/9E",
          "TX/9E",
          "VA/9E",
          "VT/9E",
          "WI/9E",
          "WV/9E",
          "AL/AA",
          "AR/AA",
          "AZ/AA",
          "CA/AA",
          "CO/AA",
          "CT/AA",
          "FL/AA",
          "GA/AA",
          "HI/AA",
          "IA/AA",
          "ID/AA",
          "IL/AA",
          "IN/AA",
          "KS/AA",
          "KY/AA",
          "LA/AA",
          "MA/AA",
          "MD/AA",
          "MI/AA",
          "MN/AA",
          "MO/AA",
          "NC/AA",
          "NE/AA",
          "NJ/AA",
          "NM/AA",
          "NV/AA",
          "NY/AA",
          "OH/AA",
          "OK/AA",
          "OR/AA",
          "PA/AA",
          "PR/AA",
          "RI/AA",
          "SC/AA",
          "TN/AA",
          "TX/AA",
          "UT/AA",
          "VA/AA",
          "VI/AA",
          "WA/AA",
          "WI/AA",
          "WY/AA",
          "AK/AS",
          "AZ/AS",
          "CA/AS",
          "CO/AS",
          "FL/AS",
          "GA/AS",
          "HI/AS",
          "ID/AS",
          "IL/AS",
          "LA/AS",
          "MA/AS",
          "MD/AS",
          "MI/AS",
          "MO/AS",
          "NJ/AS",
          "NV/AS",
          "NY/AS",
          "OR/AS",
          "TX/AS",
          "UT/AS",
          "VA/AS",
          "WA/AS",
          "AZ/B6",
          "CA/B6",
          "CO/B6",
          "CT/B6",
          "FL/B6",
          "GA/B6",
          "IL/B6",
          "LA/B6",
          "MA/B6",
          "MD/B6",
          "ME/B6",
          "NC/B6",
          "NJ/B6",
          "NM/B6",
          "NV/B6",
          "NY/B6",
          "OH/B6",
          "OR/B6",
          "PA/B6",
          "PR/B6",
          "SC/B6",
          "TX/B6",
          "UT/B6",
          "VA/B6",
          "VT/B6",
          "WA/B6",
          "AK/CO",
          "AZ/CO",
          "CA/CO",
          "CO/CO",
          "CT/CO",
          "FL/CO",
          "GA/CO",
          "HI/CO",
          "IL/CO",
          "IN/CO",
          "KS/CO",
          "KY/CO",
          "LA/CO",
          "MA/CO",
          "MD/CO",
          "ME/CO",
          "MI/CO",
          "MN/CO",
          "MO/CO",
          "MT/CO",
          "NC/CO",
          "ND/CO",
          "NE/CO",
          "NH/CO",
          "NJ/CO",
          "NM/CO",
          "NV/CO",
          "NY/CO",
          "OH/CO",
          "OK/CO",
          "OR/CO",
          "PA/CO",
          "PR/CO",
          "RI/CO",
          "SC/CO",
          "SD/CO",
          "TN/CO",
          "TT/CO",
          "TX/CO",
          "UT/CO",
          "VA/CO",
          "VI/CO",
          "VT/CO",
          "WA/CO",
          "AL/DH",
          "CT/DH",
          "FL/DH",
          "IA/DH",
          "IL/DH",
          "IN/DH",
          "KY/DH",
          "MA/DH",
          "MI/DH",
          "NC/DH",
          "NH/DH",
          "NY/DH",
          "OK/DH",
          "PA/DH",
          "SC/DH",
          "TN/DH",
          "VA/DH",
          "AK/DL",
          "AL/DL",
          "AR/DL",
          "AZ/DL",
          "CA/DL",
          "CO/DL",
          "CT/DL",
          "FL/DL",
          "GA/DL",
          "HI/DL",
          "IA/DL",
          "ID/DL",
          "IL/DL",
          "IN/DL",
          "KS/DL",
          "KY/DL",
          "LA/DL",
          "MA/DL",
          "MD/DL",
          "ME/DL",
          "MI/DL",
          "MN/DL",
          "MO/DL",
          "MS/DL",
          "MT/DL",
          "NC/DL",
          "ND/DL",
          "NE/DL",
          "NJ/DL",
          "NM/DL",
          "NV/DL",
          "NY/DL",
          "OH/DL",
          "OK/DL",
          "OR/DL",
          "PA/DL",
          "PR/DL",
          "RI/DL",
          "SC/DL",
          "SD/DL",
          "TN/DL",
          "TX/DL",
          "UT/DL",
          "VA/DL",
          "VI/DL",
          "WA/DL",
          "WI/DL",
          "WV/DL",
          "WY/DL",
          "AL/EA",
          "CA/EA",
          "CT/EA",
          "FL/EA",
          "GA/EA",
          "KY/EA",
          "LA/EA",
          "MA/EA",
          "MI/EA",
          "MO/EA",
          "NC/EA",
          "NE/EA",
          "NJ/EA",
          "NV/EA",
          "NY/EA",
          "OH/EA",
          "PA/EA",
          "SC/EA",
          "TN/EA",
          "TX/EA",
          "VA/EA",
          "AL/EV",
          "AR/EV",
          "CA/EV",
          "CO/EV",
          "CT/EV",
          "FL/EV",
          "GA/EV",
          "IA/EV",
          "IL/EV",
          "IN/EV",
          "KS/EV",
          "KY/EV",
          "LA/EV",
          "MA/EV",
          "ME/EV",
          "MI/EV",
          "MN/EV",
          "MO/EV",
          "MS/EV",
          "MT/EV",
          "NC/EV",
          "ND/EV",
          "NE/EV",
          "NH/EV",
          "NJ/EV",
          "NV/EV",
          "NY/EV",
          "OH/EV",
          "OK/EV",
          "PA/EV",
          "RI/EV",
          "SC/EV",
          "SD/EV",
          "TN/EV",
          "TX/EV",
          "UT/EV",
          "VA/EV",
          "VT/EV",
          "WI/EV",
          "WV/EV",
          "AZ/F9",
          "CA/F9",
          "CO/F9",
          "CT/F9",
          "FL/F9",
          "GA/F9",
          "IL/F9",
          "IN/F9",
          "KY/F9",
          "MI/F9",
          "MN/F9",
          "MO/F9",
          "MT/F9",
          "NC/F9",
          "ND/F9",
          "NE/F9",
          "NJ/F9",
          "NV/F9",
          "NY/F9",
          "OH/F9",
          "OR/F9",
          "PA/F9",
          "PR/F9",
          "TX/F9",
          "UT/F9",
          "VA/F9",
          "WA/F9",
          "WI/F9",
          "CA/FL",
          "CO/FL",
          "FL/FL",
          "GA/FL",
          "IL/FL",
          "IN/FL",
          "KS/FL",
          "LA/FL",
          "MA/FL",
          "MD/FL",
          "ME/FL",
          "MI/FL",
          "MN/FL",
          "MO/FL",
          "MS/FL",
          "NC/FL",
          "NJ/FL",
          "NV/FL",
          "NY/FL",
          "OH/FL",
          "PA/FL",
          "PR/FL",
          "SC/FL",
          "TN/FL",
          "TX/FL",
          "VA/FL",
          "WA/FL",
          "WI/FL",
          "AZ/G4",
          "CA/G4",
          "FL/G4",
          "IL/G4",
          "IN/G4",
          "MD/G4",
          "MI/G4",
          "MN/G4",
          "MT/G4",
          "NC/G4",
          "ND/G4",
          "NV/G4",
          "OH/G4",
          "PA/G4",
          "TX/G4",
          "WA/G4",
          "WV/G4",
          "CA/HA",
          "HI/HA",
          "NV/HA",
          "OR/HA",
          "WA/HA",
          "AZ/HP",
          "CA/HP",
          "CO/HP",
          "FL/HP",
          "GA/HP",
          "IA/HP",
          "IL/HP",
          "IN/HP",
          "KS/HP",
          "MA/HP",
          "MD/HP",
          "MI/HP",
          "MN/HP",
          "MO/HP",
          "NE/HP",
          "NJ/HP",
          "NM/HP",
          "NV/HP",
          "NY/HP",
          "OH/HP",
          "OR/HP",
          "PA/HP",
          "TX/HP",
          "UT/HP",
          "VA/HP",
          "WA/HP",
          "WI/HP",
          "CA/KH",
          "HI/KH",
          "IA/ML (1)",
          "IL/ML (1)",
          "KY/ML (1)",
          "NY/ML (1)",
          "VA/ML (1)",
          "AL/MQ",
          "AR/MQ",
          "CA/MQ",
          "CO/MQ",
          "CT/MQ",
          "FL/MQ",
          "GA/MQ",
          "IA/MQ",
          "IL/MQ",
          "IN/MQ",
          "KS/MQ",
          "KY/MQ",
          "LA/MQ",
          "MA/MQ",
          "MD/MQ",
          "ME/MQ",
          "MI/MQ",
          "MN/MQ",
          "MO/MQ",
          "MS/MQ",
          "NC/MQ",
          "NE/MQ",
          "NJ/MQ",
          "NM/MQ",
          "NV/MQ",
          "NY/MQ",
          "OH/MQ",
          "OK/MQ",
          "PA/MQ",
          "SC/MQ",
          "SD/MQ",
          "TN/MQ",
          "TX/MQ",
          "UT/MQ",
          "VA/MQ",
          "WI/MQ",
          "CA/NK",
          "CO/NK",
          "FL/NK",
          "GA/NK",
          "IL/NK",
          "LA/NK",
          "MA/NK",
          "MD/NK",
          "MI/NK",
          "MN/NK",
          "NJ/NK",
          "NV/NK",
          "NY/NK",
          "OH/NK",
          "OR/NK",
          "PA/NK",
          "PR/NK",
          "SC/NK",
          "TX/NK",
          "VA/NK",
          "VI/NK",
          "AK/NW",
          "AL/NW",
          "AR/NW",
          "AZ/NW",
          "CA/NW",
          "CO/NW",
          "CT/NW",
          "FL/NW",
          "GA/NW",
          "HI/NW",
          "IA/NW",
          "ID/NW",
          "IL/NW",
          "IN/NW",
          "KS/NW",
          "KY/NW",
          "LA/NW",
          "MA/NW",
          "MD/NW",
          "MI/NW",
          "MN/NW",
          "MO/NW",
          "MS/NW",
          "MT/NW",
          "NC/NW",
          "ND/NW",
          "NE/NW",
          "NH/NW",
          "NJ/NW",
          "NM/NW",
          "NV/NW",
          "NY/NW",
          "OH/NW",
          "OK/NW",
          "OR/NW",
          "PA/NW",
          "PR/NW",
          "RI/NW",
          "SC/NW",
          "SD/NW",
          "TN/NW",
          "TX/NW",
          "UT/NW",
          "VA/NW",
          "WA/NW",
          "WI/NW",
          "AL/OH",
          "AR/OH",
          "CO/OH",
          "CT/OH",
          "FL/OH",
          "GA/OH",
          "IA/OH",
          "IL/OH",
          "IN/OH",
          "KS/OH",
          "KY/OH",
          "LA/OH",
          "MA/OH",
          "ME/OH",
          "MI/OH",
          "MO/OH",
          "MS/OH",
          "NC/OH",
          "NE/OH",
          "NJ/OH",
          "NY/OH",
          "OH/OH",
          "OK/OH",
          "PA/OH",
          "RI/OH",
          "SC/OH",
          "TN/OH",
          "TX/OH",
          "UT/OH",
          "VA/OH",
          "VT/OH",
          "WI/OH",
          "AL/OO",
          "AR/OO",
          "AZ/OO",
          "CA/OO",
          "CO/OO",
          "CT/OO",
          "GA/OO",
          "IA/OO",
          "ID/OO",
          "IL/OO",
          "IN/OO",
          "KS/OO",
          "KY/OO",
          "LA/OO",
          "MA/OO",
          "MI/OO",
          "MN/OO",
          "MO/OO",
          "MT/OO",
          "NC/OO",
          "ND/OO",
          "NE/OO",
          "NJ/OO",
          "NM/OO",
          "NV/OO",
          "NY/OO",
          "OH/OO",
          "OK/OO",
          "OR/OO",
          "PA/OO",
          "SD/OO",
          "TN/OO",
          "TX/OO",
          "UT/OO",
          "VA/OO",
          "WA/OO",
          "WI/OO",
          "WV/OO",
          "WY/OO",
          "CA/PA (1)",
          "CO/PA (1)",
          "FL/PA (1)",
          "IN/PA (1)",
          "LA/PA (1)",
          "MA/PA (1)",
          "MI/PA (1)",
          "NC/PA (1)",
          "NY/PA (1)",
          "TN/PA (1)",
          "TX/PA (1)",
          "VA/PA (1)",
          "CA/PI",
          "CT/PI",
          "FL/PI",
          "GA/PI",
          "IL/PI",
          "IN/PI",
          "KY/PI",
          "LA/PI",
          "MA/PI",
          "MD/PI",
          "NC/PI",
          "NJ/PI",
          "NY/PI",
          "OH/PI",
          "PA/PI",
          "RI/PI",
          "SC/PI",
          "TN/PI",
          "TX/PI",
          "VA/PI",
          "WA/PI",
          "WV/PI",
          "CA/PS",
          "NM/PS",
          "WA/PS",
          "AR/TW",
          "AZ/TW",
          "CA/TW",
          "CO/TW",
          "CT/TW",
          "FL/TW",
          "GA/TW",
          "HI/TW",
          "IA/TW",
          "IL/TW",
          "IN/TW",
          "KS/TW",
          "KY/TW",
          "LA/TW",
          "MA/TW",
          "MD/TW",
          "MI/TW",
          "MN/TW",
          "MO/TW",
          "NC/TW",
          "NE/TW",
          "NJ/TW",
          "NM/TW",
          "NV/TW",
          "NY/TW",
          "OH/TW",
          "OK/TW",
          "OR/TW",
          "PA/TW",
          "PR/TW",
          "SD/TW",
          "TN/TW",
          "TX/TW",
          "UT/TW",
          "VA/TW",
          "WA/TW",
          "WI/TW",
          "FL/TZ",
          "HI/TZ",
          "IL/TZ",
          "IN/TZ",
          "MA/TZ",
          "NJ/TZ",
          "NV/TZ",
          "NY/TZ",
          "VA/TZ",
          "AK/UA",
          "AL/UA",
          "AR/UA",
          "AZ/UA",
          "CA/UA",
          "CO/UA",
          "CT/UA",
          "FL/UA",
          "GA/UA",
          "HI/UA",
          "IA/UA",
          "ID/UA",
          "IL/UA",
          "IN/UA",
          "KS/UA",
          "KY/UA",
          "LA/UA",
          "MA/UA",
          "MD/UA",
          "ME/UA",
          "MI/UA",
          "MN/UA",
          "MO/UA",
          "MT/UA",
          "NC/UA",
          "ND/UA",
          "NE/UA",
          "NH/UA",
          "NJ/UA",
          "NM/UA",
          "NV/UA",
          "NY/UA",
          "OH/UA",
          "OK/UA",
          "OR/UA",
          "PA/UA",
          "PR/UA",
          "RI/UA",
          "SC/UA",
          "SD/UA",
          "TN/UA",
          "TX/UA",
          "UT/UA",
          "VA/UA",
          "VT/UA",
          "WA/UA",
          "WI/UA",
          "WY/UA",
          "AL/US",
          "AR/US",
          "AZ/US",
          "CA/US",
          "CO/US",
          "CT/US",
          "FL/US",
          "GA/US",
          "ID/US",
          "IL/US",
          "IN/US",
          "KY/US",
          "LA/US",
          "MA/US",
          "MD/US",
          "ME/US",
          "MI/US",
          "MN/US",
          "MO/US",
          "NC/US",
          "NH/US",
          "NJ/US",
          "NM/US",
          "NV/US",
          "NY/US",
          "OH/US",
          "OR/US",
          "PA/US",
          "PR/US",
          "RI/US",
          "SC/US",
          "TN/US",
          "TX/US",
          "UT/US",
          "VA/US",
          "VI/US",
          "VT/US",
          "WA/US",
          "WI/US",
          "WV/US",
          "CA/VX",
          "CO/VX",
          "FL/VX",
          "IL/VX",
          "MA/VX",
          "NJ/VX",
          "NV/VX",
          "NY/VX",
          "OR/VX",
          "TX/VX",
          "VA/VX",
          "WA/VX",
          "AL/WN",
          "AR/WN",
          "AZ/WN",
          "CA/WN",
          "CO/WN",
          "CT/WN",
          "FL/WN",
          "GA/WN",
          "IA/WN",
          "ID/WN",
          "IL/WN",
          "IN/WN",
          "KS/WN",
          "KY/WN",
          "LA/WN",
          "MA/WN",
          "MD/WN",
          "ME/WN",
          "MI/WN",
          "MN/WN",
          "MO/WN",
          "MS/WN",
          "NC/WN",
          "NE/WN",
          "NH/WN",
          "NJ/WN",
          "NM/WN",
          "NV/WN",
          "NY/WN",
          "OH/WN",
          "OK/WN",
          "OR/WN",
          "PA/WN",
          "PR/WN",
          "RI/WN",
          "SC/WN",
          "TN/WN",
          "TX/WN",
          "UT/WN",
          "VA/WN",
          "WA/WN",
          "WI/WN",
          "AL/XE",
          "AR/XE",
          "AZ/XE",
          "CA/XE",
          "CO/XE",
          "CT/XE",
          "FL/XE",
          "GA/XE",
          "IA/XE",
          "IL/XE",
          "IN/XE",
          "KS/XE",
          "KY/XE",
          "LA/XE",
          "MA/XE",
          "MD/XE",
          "ME/XE",
          "MI/XE",
          "MN/XE",
          "MO/XE",
          "MS/XE",
          "NC/XE",
          "NE/XE",
          "NH/XE",
          "NJ/XE",
          "NY/XE",
          "OH/XE",
          "OK/XE",
          "PA/XE",
          "RI/XE",
          "SC/XE",
          "TN/XE",
          "TX/XE",
          "VA/XE",
          "VT/XE",
          "WA/XE",
          "WI/XE",
          "WV/XE",
          "AL/YV",
          "AR/YV",
          "AZ/YV",
          "CA/YV",
          "CO/YV",
          "FL/YV",
          "GA/YV",
          "HI/YV",
          "IA/YV",
          "IL/YV",
          "IN/YV",
          "KS/YV",
          "KY/YV",
          "LA/YV",
          "MI/YV",
          "MN/YV",
          "MO/YV",
          "NC/YV",
          "NV/YV",
          "NY/YV",
          "OH/YV",
          "OK/YV",
          "PA/YV",
          "SC/YV",
          "SD/YV",
          "TN/YV",
          "TX/YV",
          "VA/YV",
          "WI/YV",
          "WY/YV",
          "AR/YX",
          "CO/YX",
          "FL/YX",
          "GA/YX",
          "IL/YX",
          "IN/YX",
          "KY/YX",
          "MA/YX",
          "ME/YX",
          "MI/YX",
          "MN/YX",
          "MO/YX",
          "NC/YX",
          "NH/YX",
          "NJ/YX",
          "NM/YX",
          "NY/YX",
          "OH/YX",
          "PA/YX",
          "SC/YX",
          "TN/YX",
          "TX/YX",
          "VA/YX",
          "VT/YX",
          "WI/YX",
          "AK",
          "AL",
          "AR",
          "AZ",
          "CA",
          "CO",
          "CT",
          "FL",
          "GA",
          "HI",
          "IA",
          "ID",
          "IL",
          "IN",
          "KS",
          "KY",
          "LA",
          "MA",
          "MD",
          "ME",
          "MI",
          "MN",
          "MO",
          "MS",
          "MT",
          "NC",
          "ND",
          "NE",
          "NH",
          "NJ",
          "NM",
          "NV",
          "NY",
          "OH",
          "OK",
          "OR",
          "PA",
          "PR",
          "RI",
          "SC",
          "SD",
          "TN",
          "TT",
          "TX",
          "UT",
          "VA",
          "VI",
          "VT",
          "WA",
          "WI",
          "WV",
          "WY"
         ],
         "labels": [
          "9E",
          "9E",
          "9E",
          "9E",
          "9E",
          "9E",
          "9E",
          "9E",
          "9E",
          "9E",
          "9E",
          "9E",
          "9E",
          "9E",
          "9E",
          "9E",
          "9E",
          "9E",
          "9E",
          "9E",
          "9E",
          "9E",
          "9E",
          "9E",
          "9E",
          "9E",
          "9E",
          "9E",
          "9E",
          "9E",
          "9E",
          "9E",
          "AA",
          "AA",
          "AA",
          "AA",
          "AA",
          "AA",
          "AA",
          "AA",
          "AA",
          "AA",
          "AA",
          "AA",
          "AA",
          "AA",
          "AA",
          "AA",
          "AA",
          "AA",
          "AA",
          "AA",
          "AA",
          "AA",
          "AA",
          "AA",
          "AA",
          "AA",
          "AA",
          "AA",
          "AA",
          "AA",
          "AA",
          "AA",
          "AA",
          "AA",
          "AA",
          "AA",
          "AA",
          "AA",
          "AA",
          "AA",
          "AA",
          "AA",
          "AS",
          "AS",
          "AS",
          "AS",
          "AS",
          "AS",
          "AS",
          "AS",
          "AS",
          "AS",
          "AS",
          "AS",
          "AS",
          "AS",
          "AS",
          "AS",
          "AS",
          "AS",
          "AS",
          "AS",
          "AS",
          "AS",
          "B6",
          "B6",
          "B6",
          "B6",
          "B6",
          "B6",
          "B6",
          "B6",
          "B6",
          "B6",
          "B6",
          "B6",
          "B6",
          "B6",
          "B6",
          "B6",
          "B6",
          "B6",
          "B6",
          "B6",
          "B6",
          "B6",
          "B6",
          "B6",
          "B6",
          "B6",
          "CO",
          "CO",
          "CO",
          "CO",
          "CO",
          "CO",
          "CO",
          "CO",
          "CO",
          "CO",
          "CO",
          "CO",
          "CO",
          "CO",
          "CO",
          "CO",
          "CO",
          "CO",
          "CO",
          "CO",
          "CO",
          "CO",
          "CO",
          "CO",
          "CO",
          "CO",
          "CO",
          "CO",
          "CO",
          "CO",
          "CO",
          "CO",
          "CO",
          "CO",
          "CO",
          "CO",
          "CO",
          "CO",
          "CO",
          "CO",
          "CO",
          "CO",
          "CO",
          "CO",
          "DH",
          "DH",
          "DH",
          "DH",
          "DH",
          "DH",
          "DH",
          "DH",
          "DH",
          "DH",
          "DH",
          "DH",
          "DH",
          "DH",
          "DH",
          "DH",
          "DH",
          "DL",
          "DL",
          "DL",
          "DL",
          "DL",
          "DL",
          "DL",
          "DL",
          "DL",
          "DL",
          "DL",
          "DL",
          "DL",
          "DL",
          "DL",
          "DL",
          "DL",
          "DL",
          "DL",
          "DL",
          "DL",
          "DL",
          "DL",
          "DL",
          "DL",
          "DL",
          "DL",
          "DL",
          "DL",
          "DL",
          "DL",
          "DL",
          "DL",
          "DL",
          "DL",
          "DL",
          "DL",
          "DL",
          "DL",
          "DL",
          "DL",
          "DL",
          "DL",
          "DL",
          "DL",
          "DL",
          "DL",
          "DL",
          "DL",
          "EA",
          "EA",
          "EA",
          "EA",
          "EA",
          "EA",
          "EA",
          "EA",
          "EA",
          "EA",
          "EA",
          "EA",
          "EA",
          "EA",
          "EA",
          "EA",
          "EA",
          "EA",
          "EA",
          "EA",
          "EA",
          "EV",
          "EV",
          "EV",
          "EV",
          "EV",
          "EV",
          "EV",
          "EV",
          "EV",
          "EV",
          "EV",
          "EV",
          "EV",
          "EV",
          "EV",
          "EV",
          "EV",
          "EV",
          "EV",
          "EV",
          "EV",
          "EV",
          "EV",
          "EV",
          "EV",
          "EV",
          "EV",
          "EV",
          "EV",
          "EV",
          "EV",
          "EV",
          "EV",
          "EV",
          "EV",
          "EV",
          "EV",
          "EV",
          "EV",
          "EV",
          "F9",
          "F9",
          "F9",
          "F9",
          "F9",
          "F9",
          "F9",
          "F9",
          "F9",
          "F9",
          "F9",
          "F9",
          "F9",
          "F9",
          "F9",
          "F9",
          "F9",
          "F9",
          "F9",
          "F9",
          "F9",
          "F9",
          "F9",
          "F9",
          "F9",
          "F9",
          "F9",
          "F9",
          "FL",
          "FL",
          "FL",
          "FL",
          "FL",
          "FL",
          "FL",
          "FL",
          "FL",
          "FL",
          "FL",
          "FL",
          "FL",
          "FL",
          "FL",
          "FL",
          "FL",
          "FL",
          "FL",
          "FL",
          "FL",
          "FL",
          "FL",
          "FL",
          "FL",
          "FL",
          "FL",
          "FL",
          "G4",
          "G4",
          "G4",
          "G4",
          "G4",
          "G4",
          "G4",
          "G4",
          "G4",
          "G4",
          "G4",
          "G4",
          "G4",
          "G4",
          "G4",
          "G4",
          "G4",
          "HA",
          "HA",
          "HA",
          "HA",
          "HA",
          "HP",
          "HP",
          "HP",
          "HP",
          "HP",
          "HP",
          "HP",
          "HP",
          "HP",
          "HP",
          "HP",
          "HP",
          "HP",
          "HP",
          "HP",
          "HP",
          "HP",
          "HP",
          "HP",
          "HP",
          "HP",
          "HP",
          "HP",
          "HP",
          "HP",
          "HP",
          "HP",
          "KH",
          "KH",
          "ML (1)",
          "ML (1)",
          "ML (1)",
          "ML (1)",
          "ML (1)",
          "MQ",
          "MQ",
          "MQ",
          "MQ",
          "MQ",
          "MQ",
          "MQ",
          "MQ",
          "MQ",
          "MQ",
          "MQ",
          "MQ",
          "MQ",
          "MQ",
          "MQ",
          "MQ",
          "MQ",
          "MQ",
          "MQ",
          "MQ",
          "MQ",
          "MQ",
          "MQ",
          "MQ",
          "MQ",
          "MQ",
          "MQ",
          "MQ",
          "MQ",
          "MQ",
          "MQ",
          "MQ",
          "MQ",
          "MQ",
          "MQ",
          "MQ",
          "NK",
          "NK",
          "NK",
          "NK",
          "NK",
          "NK",
          "NK",
          "NK",
          "NK",
          "NK",
          "NK",
          "NK",
          "NK",
          "NK",
          "NK",
          "NK",
          "NK",
          "NK",
          "NK",
          "NK",
          "NK",
          "NW",
          "NW",
          "NW",
          "NW",
          "NW",
          "NW",
          "NW",
          "NW",
          "NW",
          "NW",
          "NW",
          "NW",
          "NW",
          "NW",
          "NW",
          "NW",
          "NW",
          "NW",
          "NW",
          "NW",
          "NW",
          "NW",
          "NW",
          "NW",
          "NW",
          "NW",
          "NW",
          "NW",
          "NW",
          "NW",
          "NW",
          "NW",
          "NW",
          "NW",
          "NW",
          "NW",
          "NW",
          "NW",
          "NW",
          "NW",
          "NW",
          "NW",
          "NW",
          "NW",
          "NW",
          "NW",
          "OH",
          "OH",
          "OH",
          "OH",
          "OH",
          "OH",
          "OH",
          "OH",
          "OH",
          "OH",
          "OH",
          "OH",
          "OH",
          "OH",
          "OH",
          "OH",
          "OH",
          "OH",
          "OH",
          "OH",
          "OH",
          "OH",
          "OH",
          "OH",
          "OH",
          "OH",
          "OH",
          "OH",
          "OH",
          "OH",
          "OH",
          "OH",
          "OO",
          "OO",
          "OO",
          "OO",
          "OO",
          "OO",
          "OO",
          "OO",
          "OO",
          "OO",
          "OO",
          "OO",
          "OO",
          "OO",
          "OO",
          "OO",
          "OO",
          "OO",
          "OO",
          "OO",
          "OO",
          "OO",
          "OO",
          "OO",
          "OO",
          "OO",
          "OO",
          "OO",
          "OO",
          "OO",
          "OO",
          "OO",
          "OO",
          "OO",
          "OO",
          "OO",
          "OO",
          "OO",
          "OO",
          "PA (1)",
          "PA (1)",
          "PA (1)",
          "PA (1)",
          "PA (1)",
          "PA (1)",
          "PA (1)",
          "PA (1)",
          "PA (1)",
          "PA (1)",
          "PA (1)",
          "PA (1)",
          "PI",
          "PI",
          "PI",
          "PI",
          "PI",
          "PI",
          "PI",
          "PI",
          "PI",
          "PI",
          "PI",
          "PI",
          "PI",
          "PI",
          "PI",
          "PI",
          "PI",
          "PI",
          "PI",
          "PI",
          "PI",
          "PI",
          "PS",
          "PS",
          "PS",
          "TW",
          "TW",
          "TW",
          "TW",
          "TW",
          "TW",
          "TW",
          "TW",
          "TW",
          "TW",
          "TW",
          "TW",
          "TW",
          "TW",
          "TW",
          "TW",
          "TW",
          "TW",
          "TW",
          "TW",
          "TW",
          "TW",
          "TW",
          "TW",
          "TW",
          "TW",
          "TW",
          "TW",
          "TW",
          "TW",
          "TW",
          "TW",
          "TW",
          "TW",
          "TW",
          "TW",
          "TW",
          "TZ",
          "TZ",
          "TZ",
          "TZ",
          "TZ",
          "TZ",
          "TZ",
          "TZ",
          "TZ",
          "UA",
          "UA",
          "UA",
          "UA",
          "UA",
          "UA",
          "UA",
          "UA",
          "UA",
          "UA",
          "UA",
          "UA",
          "UA",
          "UA",
          "UA",
          "UA",
          "UA",
          "UA",
          "UA",
          "UA",
          "UA",
          "UA",
          "UA",
          "UA",
          "UA",
          "UA",
          "UA",
          "UA",
          "UA",
          "UA",
          "UA",
          "UA",
          "UA",
          "UA",
          "UA",
          "UA",
          "UA",
          "UA",
          "UA",
          "UA",
          "UA",
          "UA",
          "UA",
          "UA",
          "UA",
          "UA",
          "UA",
          "UA",
          "US",
          "US",
          "US",
          "US",
          "US",
          "US",
          "US",
          "US",
          "US",
          "US",
          "US",
          "US",
          "US",
          "US",
          "US",
          "US",
          "US",
          "US",
          "US",
          "US",
          "US",
          "US",
          "US",
          "US",
          "US",
          "US",
          "US",
          "US",
          "US",
          "US",
          "US",
          "US",
          "US",
          "US",
          "US",
          "US",
          "US",
          "US",
          "US",
          "US",
          "VX",
          "VX",
          "VX",
          "VX",
          "VX",
          "VX",
          "VX",
          "VX",
          "VX",
          "VX",
          "VX",
          "VX",
          "WN",
          "WN",
          "WN",
          "WN",
          "WN",
          "WN",
          "WN",
          "WN",
          "WN",
          "WN",
          "WN",
          "WN",
          "WN",
          "WN",
          "WN",
          "WN",
          "WN",
          "WN",
          "WN",
          "WN",
          "WN",
          "WN",
          "WN",
          "WN",
          "WN",
          "WN",
          "WN",
          "WN",
          "WN",
          "WN",
          "WN",
          "WN",
          "WN",
          "WN",
          "WN",
          "WN",
          "WN",
          "WN",
          "WN",
          "WN",
          "WN",
          "WN",
          "XE",
          "XE",
          "XE",
          "XE",
          "XE",
          "XE",
          "XE",
          "XE",
          "XE",
          "XE",
          "XE",
          "XE",
          "XE",
          "XE",
          "XE",
          "XE",
          "XE",
          "XE",
          "XE",
          "XE",
          "XE",
          "XE",
          "XE",
          "XE",
          "XE",
          "XE",
          "XE",
          "XE",
          "XE",
          "XE",
          "XE",
          "XE",
          "XE",
          "XE",
          "XE",
          "XE",
          "XE",
          "XE",
          "YV",
          "YV",
          "YV",
          "YV",
          "YV",
          "YV",
          "YV",
          "YV",
          "YV",
          "YV",
          "YV",
          "YV",
          "YV",
          "YV",
          "YV",
          "YV",
          "YV",
          "YV",
          "YV",
          "YV",
          "YV",
          "YV",
          "YV",
          "YV",
          "YV",
          "YV",
          "YV",
          "YV",
          "YV",
          "YV",
          "YX",
          "YX",
          "YX",
          "YX",
          "YX",
          "YX",
          "YX",
          "YX",
          "YX",
          "YX",
          "YX",
          "YX",
          "YX",
          "YX",
          "YX",
          "YX",
          "YX",
          "YX",
          "YX",
          "YX",
          "YX",
          "YX",
          "YX",
          "YX",
          "YX",
          "AK",
          "AL",
          "AR",
          "AZ",
          "CA",
          "CO",
          "CT",
          "FL",
          "GA",
          "HI",
          "IA",
          "ID",
          "IL",
          "IN",
          "KS",
          "KY",
          "LA",
          "MA",
          "MD",
          "ME",
          "MI",
          "MN",
          "MO",
          "MS",
          "MT",
          "NC",
          "ND",
          "NE",
          "NH",
          "NJ",
          "NM",
          "NV",
          "NY",
          "OH",
          "OK",
          "OR",
          "PA",
          "PR",
          "RI",
          "SC",
          "SD",
          "TN",
          "TT",
          "TX",
          "UT",
          "VA",
          "VI",
          "VT",
          "WA",
          "WI",
          "WV",
          "WY"
         ],
         "marker": {
          "coloraxis": "coloraxis",
          "colors": [
           5,
           2,
           3,
           4,
           23,
           1,
           4,
           8,
           13,
           2,
           2,
           1,
           1,
           45,
           13,
           5,
           1,
           5,
           2,
           28,
           10,
           2,
           16,
           1,
           6,
           3,
           29,
           6,
           11,
           1,
           7,
           2,
           9,
           10,
           69,
           332,
           51,
           13,
           300,
           45,
           19,
           7,
           1,
           363,
           11,
           4,
           10,
           15,
           65,
           20,
           26,
           24,
           78,
           126,
           4,
           40,
           9,
           51,
           156,
           31,
           33,
           13,
           74,
           37,
           10,
           1,
           77,
           860,
           11,
           94,
           10,
           33,
           4,
           1,
           167,
           14,
           170,
           10,
           6,
           3,
           11,
           3,
           7,
           1,
           3,
           2,
           1,
           3,
           2,
           12,
           2,
           76,
           4,
           3,
           5,
           205,
           5,
           58,
           3,
           4,
           112,
           3,
           5,
           6,
           79,
           3,
           2,
           5,
           12,
           1,
           6,
           124,
           1,
           1,
           5,
           19,
           1,
           12,
           3,
           21,
           4,
           4,
           3,
           14,
           67,
           75,
           3,
           109,
           21,
           6,
           22,
           8,
           1,
           2,
           24,
           29,
           12,
           2,
           8,
           8,
           9,
           2,
           11,
           4,
           5,
           1,
           190,
           5,
           13,
           27,
           96,
           10,
           1,
           10,
           5,
           3,
           4,
           1,
           3,
           3,
           336,
           7,
           28,
           1,
           1,
           17,
           1,
           3,
           4,
           2,
           9,
           1,
           13,
           1,
           2,
           2,
           1,
           9,
           1,
           3,
           1,
           3,
           29,
           12,
           39,
           23,
           45,
           224,
           41,
           26,
           331,
           906,
           22,
           2,
           4,
           34,
           17,
           4,
           208,
           52,
           71,
           31,
           6,
           94,
           94,
           34,
           22,
           18,
           43,
           3,
           5,
           23,
           10,
           47,
           209,
           42,
           19,
           24,
           38,
           6,
           5,
           21,
           1,
           69,
           242,
           181,
           102,
           3,
           47,
           21,
           1,
           8,
           1,
           1,
           1,
           29,
           41,
           1,
           1,
           4,
           1,
           2,
           3,
           1,
           2,
           1,
           12,
           2,
           5,
           2,
           2,
           2,
           4,
           34,
           15,
           1,
           13,
           1,
           34,
           227,
           3,
           47,
           13,
           8,
           31,
           25,
           2,
           2,
           27,
           3,
           13,
           13,
           1,
           34,
           1,
           5,
           2,
           30,
           1,
           25,
           25,
           15,
           6,
           3,
           22,
           2,
           32,
           120,
           5,
           38,
           3,
           8,
           5,
           4,
           9,
           65,
           1,
           9,
           3,
           5,
           2,
           2,
           1,
           2,
           5,
           1,
           1,
           1,
           1,
           4,
           4,
           5,
           1,
           1,
           3,
           1,
           8,
           2,
           3,
           8,
           2,
           4,
           1,
           58,
           118,
           11,
           5,
           2,
           4,
           7,
           18,
           1,
           8,
           3,
           6,
           1,
           6,
           3,
           3,
           16,
           10,
           12,
           3,
           1,
           1,
           12,
           17,
           2,
           11,
           2,
           4,
           9,
           2,
           1,
           1,
           1,
           1,
           1,
           3,
           1,
           4,
           2,
           1,
           1,
           1,
           1,
           9,
           145,
           2,
           2,
           4,
           169,
           99,
           7,
           7,
           1,
           2,
           7,
           4,
           2,
           6,
           2,
           3,
           3,
           14,
           6,
           4,
           4,
           96,
           9,
           16,
           9,
           3,
           16,
           4,
           2,
           7,
           1,
           1,
           18,
           1,
           5,
           1,
           1,
           1,
           10,
           33,
           94,
           5,
           4,
           40,
           6,
           20,
           215,
           15,
           3,
           18,
           15,
           15,
           2,
           3,
           19,
           3,
           20,
           11,
           40,
           7,
           5,
           1,
           2,
           66,
           29,
           20,
           17,
           9,
           2,
           17,
           279,
           1,
           25,
           25,
           8,
           7,
           26,
           4,
           12,
           3,
           2,
           4,
           6,
           2,
           4,
           14,
           2,
           6,
           1,
           4,
           2,
           1,
           11,
           1,
           1,
           6,
           5,
           6,
           11,
           46,
           19,
           11,
           53,
           15,
           5,
           10,
           1,
           41,
           17,
           1,
           9,
           5,
           24,
           6,
           367,
           328,
           33,
           6,
           14,
           10,
           21,
           11,
           2,
           14,
           3,
           13,
           43,
           30,
           2,
           8,
           31,
           1,
           2,
           1,
           6,
           150,
           30,
           3,
           32,
           20,
           45,
           6,
           1,
           1,
           1,
           10,
           15,
           6,
           5,
           1,
           1,
           79,
           2,
           7,
           3,
           11,
           4,
           1,
           49,
           2,
           1,
           41,
           9,
           1,
           13,
           1,
           9,
           10,
           1,
           1,
           25,
           1,
           3,
           4,
           2,
           47,
           418,
           173,
           2,
           19,
           8,
           36,
           121,
           8,
           6,
           13,
           1,
           1,
           42,
           41,
           14,
           34,
           6,
           18,
           9,
           1,
           11,
           20,
           13,
           11,
           6,
           62,
           7,
           13,
           26,
           66,
           160,
           7,
           39,
           36,
           3,
           14,
           3,
           1,
           7,
           1,
           1,
           6,
           1,
           1,
           15,
           1,
           1,
           3,
           1,
           3,
           15,
           2,
           2,
           1,
           3,
           1,
           2,
           11,
           30,
           4,
           13,
           8,
           2,
           1,
           1,
           2,
           3,
           12,
           1,
           1,
           4,
           1,
           4,
           3,
           4,
           36,
           7,
           2,
           44,
           11,
           1,
           5,
           14,
           4,
           3,
           4,
           9,
           7,
           3,
           1,
           10,
           210,
           3,
           8,
           3,
           4,
           5,
           36,
           8,
           8,
           3,
           8,
           2,
           2,
           5,
           15,
           2,
           16,
           6,
           4,
           3,
           4,
           19,
           1,
           1,
           1,
           1,
           3,
           1,
           4,
           1,
           1,
           44,
           555,
           348,
           7,
           79,
           24,
           37,
           11,
           16,
           510,
           6,
           3,
           6,
           11,
           44,
           16,
           1,
           29,
           30,
           24,
           8,
           13,
           2,
           24,
           4,
           90,
           2,
           54,
           72,
           34,
           6,
           41,
           40,
           7,
           3,
           5,
           1,
           10,
           125,
           10,
           138,
           5,
           60,
           6,
           3,
           5,
           1,
           94,
           140,
           13,
           21,
           208,
           26,
           1,
           31,
           22,
           15,
           13,
           74,
           68,
           6,
           22,
           7,
           21,
           426,
           10,
           29,
           4,
           38,
           195,
           63,
           5,
           473,
           4,
           19,
           17,
           27,
           42,
           3,
           163,
           1,
           4,
           19,
           6,
           6,
           25,
           1,
           2,
           2,
           9,
           3,
           3,
           9,
           1,
           1,
           1,
           2,
           31,
           15,
           272,
           838,
           103,
           15,
           288,
           30,
           1,
           9,
           231,
           31,
           1,
           20,
           61,
           17,
           216,
           3,
           37,
           11,
           221,
           7,
           37,
           12,
           9,
           7,
           86,
           310,
           65,
           35,
           74,
           50,
           51,
           5,
           21,
           2,
           124,
           681,
           43,
           34,
           65,
           17,
           7,
           4,
           4,
           11,
           7,
           1,
           6,
           2,
           3,
           13,
           7,
           4,
           11,
           11,
           1,
           5,
           3,
           9,
           5,
           9,
           5,
           16,
           6,
           4,
           56,
           20,
           60,
           3,
           3,
           2,
           7,
           16,
           116,
           21,
           3,
           1,
           6,
           1,
           5,
           1,
           44,
           16,
           16,
           4,
           7,
           21,
           3,
           23,
           3,
           1,
           1,
           2,
           3,
           1,
           3,
           31,
           4,
           3,
           3,
           3,
           3,
           6,
           3,
           5,
           29,
           37,
           7,
           1,
           1,
           3,
           7,
           1,
           6,
           5,
           3,
           5,
           1,
           4,
           2,
           2,
           6,
           1,
           11,
           1,
           14,
           6,
           6,
           1,
           3,
           4,
           11,
           1,
           1,
           146.32291666666666,
           24.680981595092025,
           19,
           148.26365795724465,
           448.9867674858223,
           182.54845360824743,
           14.442622950819672,
           204.86917960088692,
           575.7804249839021,
           83.74740484429066,
           9.952380952380953,
           23.083333333333332,
           291.3080407701019,
           15.1875,
           4.2727272727272725,
           112.96976241900649,
           32.72075471698113,
           52.107438016528924,
           127.3040380047506,
           3.6470588235294117,
           198.15625,
           203.30795262267344,
           141.83287671232875,
           13.238805970149254,
           22.11392405063291,
           229.7960308710033,
           15.11320754716981,
           11.358490566037736,
           6.588235294117647,
           96.18367346938776,
           54.84507042253521,
           164.3494318181818,
           116.78913219789132,
           46.71747211895911,
           38.49753694581281,
           49.442953020134226,
           284.25659472422063,
           20.652173913043477,
           13.591549295774648,
           13.169491525423728,
           7,
           86.05882352941177,
           3,
           497.86404234204434,
           137.96583143507974,
           84.63718820861678,
           7,
           3.4347826086956523,
           102.61834862385321,
           24.35238095238095,
           3.9,
           10.037037037037036
          ]
         },
         "name": "",
         "parents": [
          "AL",
          "AR",
          "CT",
          "FL",
          "GA",
          "ID",
          "IL",
          "IN",
          "KY",
          "LA",
          "MA",
          "MD",
          "ME",
          "MI",
          "MN",
          "MO",
          "MS",
          "NC",
          "ND",
          "NY",
          "OH",
          "OK",
          "PA",
          "RI",
          "SC",
          "SD",
          "TN",
          "TX",
          "VA",
          "VT",
          "WI",
          "WV",
          "AL",
          "AR",
          "AZ",
          "CA",
          "CO",
          "CT",
          "FL",
          "GA",
          "HI",
          "IA",
          "ID",
          "IL",
          "IN",
          "KS",
          "KY",
          "LA",
          "MA",
          "MD",
          "MI",
          "MN",
          "MO",
          "NC",
          "NE",
          "NJ",
          "NM",
          "NV",
          "NY",
          "OH",
          "OK",
          "OR",
          "PA",
          "PR",
          "RI",
          "SC",
          "TN",
          "TX",
          "UT",
          "VA",
          "VI",
          "WA",
          "WI",
          "WY",
          "AK",
          "AZ",
          "CA",
          "CO",
          "FL",
          "GA",
          "HI",
          "ID",
          "IL",
          "LA",
          "MA",
          "MD",
          "MI",
          "MO",
          "NJ",
          "NV",
          "NY",
          "OR",
          "TX",
          "UT",
          "VA",
          "WA",
          "AZ",
          "CA",
          "CO",
          "CT",
          "FL",
          "GA",
          "IL",
          "LA",
          "MA",
          "MD",
          "ME",
          "NC",
          "NJ",
          "NM",
          "NV",
          "NY",
          "OH",
          "OR",
          "PA",
          "PR",
          "SC",
          "TX",
          "UT",
          "VA",
          "VT",
          "WA",
          "AK",
          "AZ",
          "CA",
          "CO",
          "CT",
          "FL",
          "GA",
          "HI",
          "IL",
          "IN",
          "KS",
          "KY",
          "LA",
          "MA",
          "MD",
          "ME",
          "MI",
          "MN",
          "MO",
          "MT",
          "NC",
          "ND",
          "NE",
          "NH",
          "NJ",
          "NM",
          "NV",
          "NY",
          "OH",
          "OK",
          "OR",
          "PA",
          "PR",
          "RI",
          "SC",
          "SD",
          "TN",
          "TT",
          "TX",
          "UT",
          "VA",
          "VI",
          "VT",
          "WA",
          "AL",
          "CT",
          "FL",
          "IA",
          "IL",
          "IN",
          "KY",
          "MA",
          "MI",
          "NC",
          "NH",
          "NY",
          "OK",
          "PA",
          "SC",
          "TN",
          "VA",
          "AK",
          "AL",
          "AR",
          "AZ",
          "CA",
          "CO",
          "CT",
          "FL",
          "GA",
          "HI",
          "IA",
          "ID",
          "IL",
          "IN",
          "KS",
          "KY",
          "LA",
          "MA",
          "MD",
          "ME",
          "MI",
          "MN",
          "MO",
          "MS",
          "MT",
          "NC",
          "ND",
          "NE",
          "NJ",
          "NM",
          "NV",
          "NY",
          "OH",
          "OK",
          "OR",
          "PA",
          "PR",
          "RI",
          "SC",
          "SD",
          "TN",
          "TX",
          "UT",
          "VA",
          "VI",
          "WA",
          "WI",
          "WV",
          "WY",
          "AL",
          "CA",
          "CT",
          "FL",
          "GA",
          "KY",
          "LA",
          "MA",
          "MI",
          "MO",
          "NC",
          "NE",
          "NJ",
          "NV",
          "NY",
          "OH",
          "PA",
          "SC",
          "TN",
          "TX",
          "VA",
          "AL",
          "AR",
          "CA",
          "CO",
          "CT",
          "FL",
          "GA",
          "IA",
          "IL",
          "IN",
          "KS",
          "KY",
          "LA",
          "MA",
          "ME",
          "MI",
          "MN",
          "MO",
          "MS",
          "MT",
          "NC",
          "ND",
          "NE",
          "NH",
          "NJ",
          "NV",
          "NY",
          "OH",
          "OK",
          "PA",
          "RI",
          "SC",
          "SD",
          "TN",
          "TX",
          "UT",
          "VA",
          "VT",
          "WI",
          "WV",
          "AZ",
          "CA",
          "CO",
          "CT",
          "FL",
          "GA",
          "IL",
          "IN",
          "KY",
          "MI",
          "MN",
          "MO",
          "MT",
          "NC",
          "ND",
          "NE",
          "NJ",
          "NV",
          "NY",
          "OH",
          "OR",
          "PA",
          "PR",
          "TX",
          "UT",
          "VA",
          "WA",
          "WI",
          "CA",
          "CO",
          "FL",
          "GA",
          "IL",
          "IN",
          "KS",
          "LA",
          "MA",
          "MD",
          "ME",
          "MI",
          "MN",
          "MO",
          "MS",
          "NC",
          "NJ",
          "NV",
          "NY",
          "OH",
          "PA",
          "PR",
          "SC",
          "TN",
          "TX",
          "VA",
          "WA",
          "WI",
          "AZ",
          "CA",
          "FL",
          "IL",
          "IN",
          "MD",
          "MI",
          "MN",
          "MT",
          "NC",
          "ND",
          "NV",
          "OH",
          "PA",
          "TX",
          "WA",
          "WV",
          "CA",
          "HI",
          "NV",
          "OR",
          "WA",
          "AZ",
          "CA",
          "CO",
          "FL",
          "GA",
          "IA",
          "IL",
          "IN",
          "KS",
          "MA",
          "MD",
          "MI",
          "MN",
          "MO",
          "NE",
          "NJ",
          "NM",
          "NV",
          "NY",
          "OH",
          "OR",
          "PA",
          "TX",
          "UT",
          "VA",
          "WA",
          "WI",
          "CA",
          "HI",
          "IA",
          "IL",
          "KY",
          "NY",
          "VA",
          "AL",
          "AR",
          "CA",
          "CO",
          "CT",
          "FL",
          "GA",
          "IA",
          "IL",
          "IN",
          "KS",
          "KY",
          "LA",
          "MA",
          "MD",
          "ME",
          "MI",
          "MN",
          "MO",
          "MS",
          "NC",
          "NE",
          "NJ",
          "NM",
          "NV",
          "NY",
          "OH",
          "OK",
          "PA",
          "SC",
          "SD",
          "TN",
          "TX",
          "UT",
          "VA",
          "WI",
          "CA",
          "CO",
          "FL",
          "GA",
          "IL",
          "LA",
          "MA",
          "MD",
          "MI",
          "MN",
          "NJ",
          "NV",
          "NY",
          "OH",
          "OR",
          "PA",
          "PR",
          "SC",
          "TX",
          "VA",
          "VI",
          "AK",
          "AL",
          "AR",
          "AZ",
          "CA",
          "CO",
          "CT",
          "FL",
          "GA",
          "HI",
          "IA",
          "ID",
          "IL",
          "IN",
          "KS",
          "KY",
          "LA",
          "MA",
          "MD",
          "MI",
          "MN",
          "MO",
          "MS",
          "MT",
          "NC",
          "ND",
          "NE",
          "NH",
          "NJ",
          "NM",
          "NV",
          "NY",
          "OH",
          "OK",
          "OR",
          "PA",
          "PR",
          "RI",
          "SC",
          "SD",
          "TN",
          "TX",
          "UT",
          "VA",
          "WA",
          "WI",
          "AL",
          "AR",
          "CO",
          "CT",
          "FL",
          "GA",
          "IA",
          "IL",
          "IN",
          "KS",
          "KY",
          "LA",
          "MA",
          "ME",
          "MI",
          "MO",
          "MS",
          "NC",
          "NE",
          "NJ",
          "NY",
          "OH",
          "OK",
          "PA",
          "RI",
          "SC",
          "TN",
          "TX",
          "UT",
          "VA",
          "VT",
          "WI",
          "AL",
          "AR",
          "AZ",
          "CA",
          "CO",
          "CT",
          "GA",
          "IA",
          "ID",
          "IL",
          "IN",
          "KS",
          "KY",
          "LA",
          "MA",
          "MI",
          "MN",
          "MO",
          "MT",
          "NC",
          "ND",
          "NE",
          "NJ",
          "NM",
          "NV",
          "NY",
          "OH",
          "OK",
          "OR",
          "PA",
          "SD",
          "TN",
          "TX",
          "UT",
          "VA",
          "WA",
          "WI",
          "WV",
          "WY",
          "CA",
          "CO",
          "FL",
          "IN",
          "LA",
          "MA",
          "MI",
          "NC",
          "NY",
          "TN",
          "TX",
          "VA",
          "CA",
          "CT",
          "FL",
          "GA",
          "IL",
          "IN",
          "KY",
          "LA",
          "MA",
          "MD",
          "NC",
          "NJ",
          "NY",
          "OH",
          "PA",
          "RI",
          "SC",
          "TN",
          "TX",
          "VA",
          "WA",
          "WV",
          "CA",
          "NM",
          "WA",
          "AR",
          "AZ",
          "CA",
          "CO",
          "CT",
          "FL",
          "GA",
          "HI",
          "IA",
          "IL",
          "IN",
          "KS",
          "KY",
          "LA",
          "MA",
          "MD",
          "MI",
          "MN",
          "MO",
          "NC",
          "NE",
          "NJ",
          "NM",
          "NV",
          "NY",
          "OH",
          "OK",
          "OR",
          "PA",
          "PR",
          "SD",
          "TN",
          "TX",
          "UT",
          "VA",
          "WA",
          "WI",
          "FL",
          "HI",
          "IL",
          "IN",
          "MA",
          "NJ",
          "NV",
          "NY",
          "VA",
          "AK",
          "AL",
          "AR",
          "AZ",
          "CA",
          "CO",
          "CT",
          "FL",
          "GA",
          "HI",
          "IA",
          "ID",
          "IL",
          "IN",
          "KS",
          "KY",
          "LA",
          "MA",
          "MD",
          "ME",
          "MI",
          "MN",
          "MO",
          "MT",
          "NC",
          "ND",
          "NE",
          "NH",
          "NJ",
          "NM",
          "NV",
          "NY",
          "OH",
          "OK",
          "OR",
          "PA",
          "PR",
          "RI",
          "SC",
          "SD",
          "TN",
          "TX",
          "UT",
          "VA",
          "VT",
          "WA",
          "WI",
          "WY",
          "AL",
          "AR",
          "AZ",
          "CA",
          "CO",
          "CT",
          "FL",
          "GA",
          "ID",
          "IL",
          "IN",
          "KY",
          "LA",
          "MA",
          "MD",
          "ME",
          "MI",
          "MN",
          "MO",
          "NC",
          "NH",
          "NJ",
          "NM",
          "NV",
          "NY",
          "OH",
          "OR",
          "PA",
          "PR",
          "RI",
          "SC",
          "TN",
          "TX",
          "UT",
          "VA",
          "VI",
          "VT",
          "WA",
          "WI",
          "WV",
          "CA",
          "CO",
          "FL",
          "IL",
          "MA",
          "NJ",
          "NV",
          "NY",
          "OR",
          "TX",
          "VA",
          "WA",
          "AL",
          "AR",
          "AZ",
          "CA",
          "CO",
          "CT",
          "FL",
          "GA",
          "IA",
          "ID",
          "IL",
          "IN",
          "KS",
          "KY",
          "LA",
          "MA",
          "MD",
          "ME",
          "MI",
          "MN",
          "MO",
          "MS",
          "NC",
          "NE",
          "NH",
          "NJ",
          "NM",
          "NV",
          "NY",
          "OH",
          "OK",
          "OR",
          "PA",
          "PR",
          "RI",
          "SC",
          "TN",
          "TX",
          "UT",
          "VA",
          "WA",
          "WI",
          "AL",
          "AR",
          "AZ",
          "CA",
          "CO",
          "CT",
          "FL",
          "GA",
          "IA",
          "IL",
          "IN",
          "KS",
          "KY",
          "LA",
          "MA",
          "MD",
          "ME",
          "MI",
          "MN",
          "MO",
          "MS",
          "NC",
          "NE",
          "NH",
          "NJ",
          "NY",
          "OH",
          "OK",
          "PA",
          "RI",
          "SC",
          "TN",
          "TX",
          "VA",
          "VT",
          "WA",
          "WI",
          "WV",
          "AL",
          "AR",
          "AZ",
          "CA",
          "CO",
          "FL",
          "GA",
          "HI",
          "IA",
          "IL",
          "IN",
          "KS",
          "KY",
          "LA",
          "MI",
          "MN",
          "MO",
          "NC",
          "NV",
          "NY",
          "OH",
          "OK",
          "PA",
          "SC",
          "SD",
          "TN",
          "TX",
          "VA",
          "WI",
          "WY",
          "AR",
          "CO",
          "FL",
          "GA",
          "IL",
          "IN",
          "KY",
          "MA",
          "ME",
          "MI",
          "MN",
          "MO",
          "NC",
          "NH",
          "NJ",
          "NM",
          "NY",
          "OH",
          "PA",
          "SC",
          "TN",
          "TX",
          "VA",
          "VT",
          "WI",
          "",
          "",
          "",
          "",
          "",
          "",
          "",
          "",
          "",
          "",
          "",
          "",
          "",
          "",
          "",
          "",
          "",
          "",
          "",
          "",
          "",
          "",
          "",
          "",
          "",
          "",
          "",
          "",
          "",
          "",
          "",
          "",
          "",
          "",
          "",
          "",
          "",
          "",
          "",
          "",
          "",
          "",
          "",
          "",
          "",
          "",
          "",
          "",
          "",
          "",
          "",
          ""
         ],
         "type": "treemap",
         "values": [
          5,
          2,
          3,
          4,
          23,
          1,
          4,
          8,
          13,
          2,
          2,
          1,
          1,
          45,
          13,
          5,
          1,
          5,
          2,
          28,
          10,
          2,
          16,
          1,
          6,
          3,
          29,
          6,
          11,
          1,
          7,
          2,
          9,
          10,
          69,
          332,
          51,
          13,
          300,
          45,
          19,
          7,
          1,
          363,
          11,
          4,
          10,
          15,
          65,
          20,
          26,
          24,
          78,
          126,
          4,
          40,
          9,
          51,
          156,
          31,
          33,
          13,
          74,
          37,
          10,
          1,
          77,
          860,
          11,
          94,
          10,
          33,
          4,
          1,
          167,
          14,
          170,
          10,
          6,
          3,
          11,
          3,
          7,
          1,
          3,
          2,
          1,
          3,
          2,
          12,
          2,
          76,
          4,
          3,
          5,
          205,
          5,
          58,
          3,
          4,
          112,
          3,
          5,
          6,
          79,
          3,
          2,
          5,
          12,
          1,
          6,
          124,
          1,
          1,
          5,
          19,
          1,
          12,
          3,
          21,
          4,
          4,
          3,
          14,
          67,
          75,
          3,
          109,
          21,
          6,
          22,
          8,
          1,
          2,
          24,
          29,
          12,
          2,
          8,
          8,
          9,
          2,
          11,
          4,
          5,
          1,
          190,
          5,
          13,
          27,
          96,
          10,
          1,
          10,
          5,
          3,
          4,
          1,
          3,
          3,
          336,
          7,
          28,
          1,
          1,
          17,
          1,
          3,
          4,
          2,
          9,
          1,
          13,
          1,
          2,
          2,
          1,
          9,
          1,
          3,
          1,
          3,
          29,
          12,
          39,
          23,
          45,
          224,
          41,
          26,
          331,
          906,
          22,
          2,
          4,
          34,
          17,
          4,
          208,
          52,
          71,
          31,
          6,
          94,
          94,
          34,
          22,
          18,
          43,
          3,
          5,
          23,
          10,
          47,
          209,
          42,
          19,
          24,
          38,
          6,
          5,
          21,
          1,
          69,
          242,
          181,
          102,
          3,
          47,
          21,
          1,
          8,
          1,
          1,
          1,
          29,
          41,
          1,
          1,
          4,
          1,
          2,
          3,
          1,
          2,
          1,
          12,
          2,
          5,
          2,
          2,
          2,
          4,
          34,
          15,
          1,
          13,
          1,
          34,
          227,
          3,
          47,
          13,
          8,
          31,
          25,
          2,
          2,
          27,
          3,
          13,
          13,
          1,
          34,
          1,
          5,
          2,
          30,
          1,
          25,
          25,
          15,
          6,
          3,
          22,
          2,
          32,
          120,
          5,
          38,
          3,
          8,
          5,
          4,
          9,
          65,
          1,
          9,
          3,
          5,
          2,
          2,
          1,
          2,
          5,
          1,
          1,
          1,
          1,
          4,
          4,
          5,
          1,
          1,
          3,
          1,
          8,
          2,
          3,
          8,
          2,
          4,
          1,
          58,
          118,
          11,
          5,
          2,
          4,
          7,
          18,
          1,
          8,
          3,
          6,
          1,
          6,
          3,
          3,
          16,
          10,
          12,
          3,
          1,
          1,
          12,
          17,
          2,
          11,
          2,
          4,
          9,
          2,
          1,
          1,
          1,
          1,
          1,
          3,
          1,
          4,
          2,
          1,
          1,
          1,
          1,
          9,
          145,
          2,
          2,
          4,
          169,
          99,
          7,
          7,
          1,
          2,
          7,
          4,
          2,
          6,
          2,
          3,
          3,
          14,
          6,
          4,
          4,
          96,
          9,
          16,
          9,
          3,
          16,
          4,
          2,
          7,
          1,
          1,
          18,
          1,
          5,
          1,
          1,
          1,
          10,
          33,
          94,
          5,
          4,
          40,
          6,
          20,
          215,
          15,
          3,
          18,
          15,
          15,
          2,
          3,
          19,
          3,
          20,
          11,
          40,
          7,
          5,
          1,
          2,
          66,
          29,
          20,
          17,
          9,
          2,
          17,
          279,
          1,
          25,
          25,
          8,
          7,
          26,
          4,
          12,
          3,
          2,
          4,
          6,
          2,
          4,
          14,
          2,
          6,
          1,
          4,
          2,
          1,
          11,
          1,
          1,
          6,
          5,
          6,
          11,
          46,
          19,
          11,
          53,
          15,
          5,
          10,
          1,
          41,
          17,
          1,
          9,
          5,
          24,
          6,
          367,
          328,
          33,
          6,
          14,
          10,
          21,
          11,
          2,
          14,
          3,
          13,
          43,
          30,
          2,
          8,
          31,
          1,
          2,
          1,
          6,
          150,
          30,
          3,
          32,
          20,
          45,
          6,
          1,
          1,
          1,
          10,
          15,
          6,
          5,
          1,
          1,
          79,
          2,
          7,
          3,
          11,
          4,
          1,
          49,
          2,
          1,
          41,
          9,
          1,
          13,
          1,
          9,
          10,
          1,
          1,
          25,
          1,
          3,
          4,
          2,
          47,
          418,
          173,
          2,
          19,
          8,
          36,
          121,
          8,
          6,
          13,
          1,
          1,
          42,
          41,
          14,
          34,
          6,
          18,
          9,
          1,
          11,
          20,
          13,
          11,
          6,
          62,
          7,
          13,
          26,
          66,
          160,
          7,
          39,
          36,
          3,
          14,
          3,
          1,
          7,
          1,
          1,
          6,
          1,
          1,
          15,
          1,
          1,
          3,
          1,
          3,
          15,
          2,
          2,
          1,
          3,
          1,
          2,
          11,
          30,
          4,
          13,
          8,
          2,
          1,
          1,
          2,
          3,
          12,
          1,
          1,
          4,
          1,
          4,
          3,
          4,
          36,
          7,
          2,
          44,
          11,
          1,
          5,
          14,
          4,
          3,
          4,
          9,
          7,
          3,
          1,
          10,
          210,
          3,
          8,
          3,
          4,
          5,
          36,
          8,
          8,
          3,
          8,
          2,
          2,
          5,
          15,
          2,
          16,
          6,
          4,
          3,
          4,
          19,
          1,
          1,
          1,
          1,
          3,
          1,
          4,
          1,
          1,
          44,
          555,
          348,
          7,
          79,
          24,
          37,
          11,
          16,
          510,
          6,
          3,
          6,
          11,
          44,
          16,
          1,
          29,
          30,
          24,
          8,
          13,
          2,
          24,
          4,
          90,
          2,
          54,
          72,
          34,
          6,
          41,
          40,
          7,
          3,
          5,
          1,
          10,
          125,
          10,
          138,
          5,
          60,
          6,
          3,
          5,
          1,
          94,
          140,
          13,
          21,
          208,
          26,
          1,
          31,
          22,
          15,
          13,
          74,
          68,
          6,
          22,
          7,
          21,
          426,
          10,
          29,
          4,
          38,
          195,
          63,
          5,
          473,
          4,
          19,
          17,
          27,
          42,
          3,
          163,
          1,
          4,
          19,
          6,
          6,
          25,
          1,
          2,
          2,
          9,
          3,
          3,
          9,
          1,
          1,
          1,
          2,
          31,
          15,
          272,
          838,
          103,
          15,
          288,
          30,
          1,
          9,
          231,
          31,
          1,
          20,
          61,
          17,
          216,
          3,
          37,
          11,
          221,
          7,
          37,
          12,
          9,
          7,
          86,
          310,
          65,
          35,
          74,
          50,
          51,
          5,
          21,
          2,
          124,
          681,
          43,
          34,
          65,
          17,
          7,
          4,
          4,
          11,
          7,
          1,
          6,
          2,
          3,
          13,
          7,
          4,
          11,
          11,
          1,
          5,
          3,
          9,
          5,
          9,
          5,
          16,
          6,
          4,
          56,
          20,
          60,
          3,
          3,
          2,
          7,
          16,
          116,
          21,
          3,
          1,
          6,
          1,
          5,
          1,
          44,
          16,
          16,
          4,
          7,
          21,
          3,
          23,
          3,
          1,
          1,
          2,
          3,
          1,
          3,
          31,
          4,
          3,
          3,
          3,
          3,
          6,
          3,
          5,
          29,
          37,
          7,
          1,
          1,
          3,
          7,
          1,
          6,
          5,
          3,
          5,
          1,
          4,
          2,
          2,
          6,
          1,
          11,
          1,
          14,
          6,
          6,
          1,
          3,
          4,
          11,
          1,
          1,
          192,
          163,
          118,
          842,
          3174,
          970,
          122,
          1804,
          1553,
          289,
          84,
          72,
          1766,
          192,
          44,
          463,
          265,
          484,
          421,
          34,
          768,
          591,
          730,
          67,
          79,
          907,
          53,
          106,
          34,
          539,
          142,
          704,
          1233,
          538,
          203,
          298,
          834,
          92,
          71,
          118,
          34,
          612,
          3,
          3023,
          439,
          882,
          16,
          23,
          545,
          210,
          20,
          27
         ]
        }
       ],
       "layout": {
        "coloraxis": {
         "colorbar": {
          "title": {
           "text": "Flights"
          }
         },
         "colorscale": [
          [
           0,
           "rgb(103,0,31)"
          ],
          [
           0.1,
           "rgb(178,24,43)"
          ],
          [
           0.2,
           "rgb(214,96,77)"
          ],
          [
           0.3,
           "rgb(244,165,130)"
          ],
          [
           0.4,
           "rgb(253,219,199)"
          ],
          [
           0.5,
           "rgb(247,247,247)"
          ],
          [
           0.6,
           "rgb(209,229,240)"
          ],
          [
           0.7,
           "rgb(146,197,222)"
          ],
          [
           0.8,
           "rgb(67,147,195)"
          ],
          [
           0.9,
           "rgb(33,102,172)"
          ],
          [
           1,
           "rgb(5,48,97)"
          ]
         ]
        },
        "legend": {
         "tracegroupgap": 0
        },
        "template": {
         "data": {
          "bar": [
           {
            "error_x": {
             "color": "#2a3f5f"
            },
            "error_y": {
             "color": "#2a3f5f"
            },
            "marker": {
             "line": {
              "color": "#E5ECF6",
              "width": 0.5
             }
            },
            "type": "bar"
           }
          ],
          "barpolar": [
           {
            "marker": {
             "line": {
              "color": "#E5ECF6",
              "width": 0.5
             }
            },
            "type": "barpolar"
           }
          ],
          "carpet": [
           {
            "aaxis": {
             "endlinecolor": "#2a3f5f",
             "gridcolor": "white",
             "linecolor": "white",
             "minorgridcolor": "white",
             "startlinecolor": "#2a3f5f"
            },
            "baxis": {
             "endlinecolor": "#2a3f5f",
             "gridcolor": "white",
             "linecolor": "white",
             "minorgridcolor": "white",
             "startlinecolor": "#2a3f5f"
            },
            "type": "carpet"
           }
          ],
          "choropleth": [
           {
            "colorbar": {
             "outlinewidth": 0,
             "ticks": ""
            },
            "type": "choropleth"
           }
          ],
          "contour": [
           {
            "colorbar": {
             "outlinewidth": 0,
             "ticks": ""
            },
            "colorscale": [
             [
              0,
              "#0d0887"
             ],
             [
              0.1111111111111111,
              "#46039f"
             ],
             [
              0.2222222222222222,
              "#7201a8"
             ],
             [
              0.3333333333333333,
              "#9c179e"
             ],
             [
              0.4444444444444444,
              "#bd3786"
             ],
             [
              0.5555555555555556,
              "#d8576b"
             ],
             [
              0.6666666666666666,
              "#ed7953"
             ],
             [
              0.7777777777777778,
              "#fb9f3a"
             ],
             [
              0.8888888888888888,
              "#fdca26"
             ],
             [
              1,
              "#f0f921"
             ]
            ],
            "type": "contour"
           }
          ],
          "contourcarpet": [
           {
            "colorbar": {
             "outlinewidth": 0,
             "ticks": ""
            },
            "type": "contourcarpet"
           }
          ],
          "heatmap": [
           {
            "colorbar": {
             "outlinewidth": 0,
             "ticks": ""
            },
            "colorscale": [
             [
              0,
              "#0d0887"
             ],
             [
              0.1111111111111111,
              "#46039f"
             ],
             [
              0.2222222222222222,
              "#7201a8"
             ],
             [
              0.3333333333333333,
              "#9c179e"
             ],
             [
              0.4444444444444444,
              "#bd3786"
             ],
             [
              0.5555555555555556,
              "#d8576b"
             ],
             [
              0.6666666666666666,
              "#ed7953"
             ],
             [
              0.7777777777777778,
              "#fb9f3a"
             ],
             [
              0.8888888888888888,
              "#fdca26"
             ],
             [
              1,
              "#f0f921"
             ]
            ],
            "type": "heatmap"
           }
          ],
          "heatmapgl": [
           {
            "colorbar": {
             "outlinewidth": 0,
             "ticks": ""
            },
            "colorscale": [
             [
              0,
              "#0d0887"
             ],
             [
              0.1111111111111111,
              "#46039f"
             ],
             [
              0.2222222222222222,
              "#7201a8"
             ],
             [
              0.3333333333333333,
              "#9c179e"
             ],
             [
              0.4444444444444444,
              "#bd3786"
             ],
             [
              0.5555555555555556,
              "#d8576b"
             ],
             [
              0.6666666666666666,
              "#ed7953"
             ],
             [
              0.7777777777777778,
              "#fb9f3a"
             ],
             [
              0.8888888888888888,
              "#fdca26"
             ],
             [
              1,
              "#f0f921"
             ]
            ],
            "type": "heatmapgl"
           }
          ],
          "histogram": [
           {
            "marker": {
             "colorbar": {
              "outlinewidth": 0,
              "ticks": ""
             }
            },
            "type": "histogram"
           }
          ],
          "histogram2d": [
           {
            "colorbar": {
             "outlinewidth": 0,
             "ticks": ""
            },
            "colorscale": [
             [
              0,
              "#0d0887"
             ],
             [
              0.1111111111111111,
              "#46039f"
             ],
             [
              0.2222222222222222,
              "#7201a8"
             ],
             [
              0.3333333333333333,
              "#9c179e"
             ],
             [
              0.4444444444444444,
              "#bd3786"
             ],
             [
              0.5555555555555556,
              "#d8576b"
             ],
             [
              0.6666666666666666,
              "#ed7953"
             ],
             [
              0.7777777777777778,
              "#fb9f3a"
             ],
             [
              0.8888888888888888,
              "#fdca26"
             ],
             [
              1,
              "#f0f921"
             ]
            ],
            "type": "histogram2d"
           }
          ],
          "histogram2dcontour": [
           {
            "colorbar": {
             "outlinewidth": 0,
             "ticks": ""
            },
            "colorscale": [
             [
              0,
              "#0d0887"
             ],
             [
              0.1111111111111111,
              "#46039f"
             ],
             [
              0.2222222222222222,
              "#7201a8"
             ],
             [
              0.3333333333333333,
              "#9c179e"
             ],
             [
              0.4444444444444444,
              "#bd3786"
             ],
             [
              0.5555555555555556,
              "#d8576b"
             ],
             [
              0.6666666666666666,
              "#ed7953"
             ],
             [
              0.7777777777777778,
              "#fb9f3a"
             ],
             [
              0.8888888888888888,
              "#fdca26"
             ],
             [
              1,
              "#f0f921"
             ]
            ],
            "type": "histogram2dcontour"
           }
          ],
          "mesh3d": [
           {
            "colorbar": {
             "outlinewidth": 0,
             "ticks": ""
            },
            "type": "mesh3d"
           }
          ],
          "parcoords": [
           {
            "line": {
             "colorbar": {
              "outlinewidth": 0,
              "ticks": ""
             }
            },
            "type": "parcoords"
           }
          ],
          "pie": [
           {
            "automargin": true,
            "type": "pie"
           }
          ],
          "scatter": [
           {
            "marker": {
             "colorbar": {
              "outlinewidth": 0,
              "ticks": ""
             }
            },
            "type": "scatter"
           }
          ],
          "scatter3d": [
           {
            "line": {
             "colorbar": {
              "outlinewidth": 0,
              "ticks": ""
             }
            },
            "marker": {
             "colorbar": {
              "outlinewidth": 0,
              "ticks": ""
             }
            },
            "type": "scatter3d"
           }
          ],
          "scattercarpet": [
           {
            "marker": {
             "colorbar": {
              "outlinewidth": 0,
              "ticks": ""
             }
            },
            "type": "scattercarpet"
           }
          ],
          "scattergeo": [
           {
            "marker": {
             "colorbar": {
              "outlinewidth": 0,
              "ticks": ""
             }
            },
            "type": "scattergeo"
           }
          ],
          "scattergl": [
           {
            "marker": {
             "colorbar": {
              "outlinewidth": 0,
              "ticks": ""
             }
            },
            "type": "scattergl"
           }
          ],
          "scattermapbox": [
           {
            "marker": {
             "colorbar": {
              "outlinewidth": 0,
              "ticks": ""
             }
            },
            "type": "scattermapbox"
           }
          ],
          "scatterpolar": [
           {
            "marker": {
             "colorbar": {
              "outlinewidth": 0,
              "ticks": ""
             }
            },
            "type": "scatterpolar"
           }
          ],
          "scatterpolargl": [
           {
            "marker": {
             "colorbar": {
              "outlinewidth": 0,
              "ticks": ""
             }
            },
            "type": "scatterpolargl"
           }
          ],
          "scatterternary": [
           {
            "marker": {
             "colorbar": {
              "outlinewidth": 0,
              "ticks": ""
             }
            },
            "type": "scatterternary"
           }
          ],
          "surface": [
           {
            "colorbar": {
             "outlinewidth": 0,
             "ticks": ""
            },
            "colorscale": [
             [
              0,
              "#0d0887"
             ],
             [
              0.1111111111111111,
              "#46039f"
             ],
             [
              0.2222222222222222,
              "#7201a8"
             ],
             [
              0.3333333333333333,
              "#9c179e"
             ],
             [
              0.4444444444444444,
              "#bd3786"
             ],
             [
              0.5555555555555556,
              "#d8576b"
             ],
             [
              0.6666666666666666,
              "#ed7953"
             ],
             [
              0.7777777777777778,
              "#fb9f3a"
             ],
             [
              0.8888888888888888,
              "#fdca26"
             ],
             [
              1,
              "#f0f921"
             ]
            ],
            "type": "surface"
           }
          ],
          "table": [
           {
            "cells": {
             "fill": {
              "color": "#EBF0F8"
             },
             "line": {
              "color": "white"
             }
            },
            "header": {
             "fill": {
              "color": "#C8D4E3"
             },
             "line": {
              "color": "white"
             }
            },
            "type": "table"
           }
          ]
         },
         "layout": {
          "annotationdefaults": {
           "arrowcolor": "#2a3f5f",
           "arrowhead": 0,
           "arrowwidth": 1
          },
          "autotypenumbers": "strict",
          "coloraxis": {
           "colorbar": {
            "outlinewidth": 0,
            "ticks": ""
           }
          },
          "colorscale": {
           "diverging": [
            [
             0,
             "#8e0152"
            ],
            [
             0.1,
             "#c51b7d"
            ],
            [
             0.2,
             "#de77ae"
            ],
            [
             0.3,
             "#f1b6da"
            ],
            [
             0.4,
             "#fde0ef"
            ],
            [
             0.5,
             "#f7f7f7"
            ],
            [
             0.6,
             "#e6f5d0"
            ],
            [
             0.7,
             "#b8e186"
            ],
            [
             0.8,
             "#7fbc41"
            ],
            [
             0.9,
             "#4d9221"
            ],
            [
             1,
             "#276419"
            ]
           ],
           "sequential": [
            [
             0,
             "#0d0887"
            ],
            [
             0.1111111111111111,
             "#46039f"
            ],
            [
             0.2222222222222222,
             "#7201a8"
            ],
            [
             0.3333333333333333,
             "#9c179e"
            ],
            [
             0.4444444444444444,
             "#bd3786"
            ],
            [
             0.5555555555555556,
             "#d8576b"
            ],
            [
             0.6666666666666666,
             "#ed7953"
            ],
            [
             0.7777777777777778,
             "#fb9f3a"
            ],
            [
             0.8888888888888888,
             "#fdca26"
            ],
            [
             1,
             "#f0f921"
            ]
           ],
           "sequentialminus": [
            [
             0,
             "#0d0887"
            ],
            [
             0.1111111111111111,
             "#46039f"
            ],
            [
             0.2222222222222222,
             "#7201a8"
            ],
            [
             0.3333333333333333,
             "#9c179e"
            ],
            [
             0.4444444444444444,
             "#bd3786"
            ],
            [
             0.5555555555555556,
             "#d8576b"
            ],
            [
             0.6666666666666666,
             "#ed7953"
            ],
            [
             0.7777777777777778,
             "#fb9f3a"
            ],
            [
             0.8888888888888888,
             "#fdca26"
            ],
            [
             1,
             "#f0f921"
            ]
           ]
          },
          "colorway": [
           "#636efa",
           "#EF553B",
           "#00cc96",
           "#ab63fa",
           "#FFA15A",
           "#19d3f3",
           "#FF6692",
           "#B6E880",
           "#FF97FF",
           "#FECB52"
          ],
          "font": {
           "color": "#2a3f5f"
          },
          "geo": {
           "bgcolor": "white",
           "lakecolor": "white",
           "landcolor": "#E5ECF6",
           "showlakes": true,
           "showland": true,
           "subunitcolor": "white"
          },
          "hoverlabel": {
           "align": "left"
          },
          "hovermode": "closest",
          "mapbox": {
           "style": "light"
          },
          "paper_bgcolor": "white",
          "plot_bgcolor": "#E5ECF6",
          "polar": {
           "angularaxis": {
            "gridcolor": "white",
            "linecolor": "white",
            "ticks": ""
           },
           "bgcolor": "#E5ECF6",
           "radialaxis": {
            "gridcolor": "white",
            "linecolor": "white",
            "ticks": ""
           }
          },
          "scene": {
           "xaxis": {
            "backgroundcolor": "#E5ECF6",
            "gridcolor": "white",
            "gridwidth": 2,
            "linecolor": "white",
            "showbackground": true,
            "ticks": "",
            "zerolinecolor": "white"
           },
           "yaxis": {
            "backgroundcolor": "#E5ECF6",
            "gridcolor": "white",
            "gridwidth": 2,
            "linecolor": "white",
            "showbackground": true,
            "ticks": "",
            "zerolinecolor": "white"
           },
           "zaxis": {
            "backgroundcolor": "#E5ECF6",
            "gridcolor": "white",
            "gridwidth": 2,
            "linecolor": "white",
            "showbackground": true,
            "ticks": "",
            "zerolinecolor": "white"
           }
          },
          "shapedefaults": {
           "line": {
            "color": "#2a3f5f"
           }
          },
          "ternary": {
           "aaxis": {
            "gridcolor": "white",
            "linecolor": "white",
            "ticks": ""
           },
           "baxis": {
            "gridcolor": "white",
            "linecolor": "white",
            "ticks": ""
           },
           "bgcolor": "#E5ECF6",
           "caxis": {
            "gridcolor": "white",
            "linecolor": "white",
            "ticks": ""
           }
          },
          "title": {
           "x": 0.05
          },
          "xaxis": {
           "automargin": true,
           "gridcolor": "white",
           "linecolor": "white",
           "ticks": "",
           "title": {
            "standoff": 15
           },
           "zerolinecolor": "white",
           "zerolinewidth": 2
          },
          "yaxis": {
           "automargin": true,
           "gridcolor": "white",
           "linecolor": "white",
           "ticks": "",
           "title": {
            "standoff": 15
           },
           "zerolinecolor": "white",
           "zerolinewidth": 2
          }
         }
        },
        "title": {
         "text": "Flights count by airline to destination state"
        }
       }
      },
      "text/html": [
       "<div>                            <div id=\"16ecb05f-1c13-4e3e-9d45-23d70ae671a9\" class=\"plotly-graph-div\" style=\"height:525px; width:100%;\"></div>            <script type=\"text/javascript\">                require([\"plotly\"], function(Plotly) {                    window.PLOTLYENV=window.PLOTLYENV || {};                                    if (document.getElementById(\"16ecb05f-1c13-4e3e-9d45-23d70ae671a9\")) {                    Plotly.newPlot(                        \"16ecb05f-1c13-4e3e-9d45-23d70ae671a9\",                        [{\"branchvalues\": \"total\", \"customdata\": [[5.0], [2.0], [3.0], [4.0], [23.0], [1.0], [4.0], [8.0], [13.0], [2.0], [2.0], [1.0], [1.0], [45.0], [13.0], [5.0], [1.0], [5.0], [2.0], [28.0], [10.0], [2.0], [16.0], [1.0], [6.0], [3.0], [29.0], [6.0], [11.0], [1.0], [7.0], [2.0], [9.0], [10.0], [69.0], [332.0], [51.0], [13.0], [300.0], [45.0], [19.0], [7.0], [1.0], [363.0], [11.0], [4.0], [10.0], [15.0], [65.0], [20.0], [26.0], [24.0], [78.0], [126.0], [4.0], [40.0], [9.0], [51.0], [156.0], [31.0], [33.0], [13.0], [74.0], [37.0], [10.0], [1.0], [77.0], [860.0], [11.0], [94.0], [10.0], [33.0], [4.0], [1.0], [167.0], [14.0], [170.0], [10.0], [6.0], [3.0], [11.0], [3.0], [7.0], [1.0], [3.0], [2.0], [1.0], [3.0], [2.0], [12.0], [2.0], [76.0], [4.0], [3.0], [5.0], [205.0], [5.0], [58.0], [3.0], [4.0], [112.0], [3.0], [5.0], [6.0], [79.0], [3.0], [2.0], [5.0], [12.0], [1.0], [6.0], [124.0], [1.0], [1.0], [5.0], [19.0], [1.0], [12.0], [3.0], [21.0], [4.0], [4.0], [3.0], [14.0], [67.0], [75.0], [3.0], [109.0], [21.0], [6.0], [22.0], [8.0], [1.0], [2.0], [24.0], [29.0], [12.0], [2.0], [8.0], [8.0], [9.0], [2.0], [11.0], [4.0], [5.0], [1.0], [190.0], [5.0], [13.0], [27.0], [96.0], [10.0], [1.0], [10.0], [5.0], [3.0], [4.0], [1.0], [3.0], [3.0], [336.0], [7.0], [28.0], [1.0], [1.0], [17.0], [1.0], [3.0], [4.0], [2.0], [9.0], [1.0], [13.0], [1.0], [2.0], [2.0], [1.0], [9.0], [1.0], [3.0], [1.0], [3.0], [29.0], [12.0], [39.0], [23.0], [45.0], [224.0], [41.0], [26.0], [331.0], [906.0], [22.0], [2.0], [4.0], [34.0], [17.0], [4.0], [208.0], [52.0], [71.0], [31.0], [6.0], [94.0], [94.0], [34.0], [22.0], [18.0], [43.0], [3.0], [5.0], [23.0], [10.0], [47.0], [209.0], [42.0], [19.0], [24.0], [38.0], [6.0], [5.0], [21.0], [1.0], [69.0], [242.0], [181.0], [102.0], [3.0], [47.0], [21.0], [1.0], [8.0], [1.0], [1.0], [1.0], [29.0], [41.0], [1.0], [1.0], [4.0], [1.0], [2.0], [3.0], [1.0], [2.0], [1.0], [12.0], [2.0], [5.0], [2.0], [2.0], [2.0], [4.0], [34.0], [15.0], [1.0], [13.0], [1.0], [34.0], [227.0], [3.0], [47.0], [13.0], [8.0], [31.0], [25.0], [2.0], [2.0], [27.0], [3.0], [13.0], [13.0], [1.0], [34.0], [1.0], [5.0], [2.0], [30.0], [1.0], [25.0], [25.0], [15.0], [6.0], [3.0], [22.0], [2.0], [32.0], [120.0], [5.0], [38.0], [3.0], [8.0], [5.0], [4.0], [9.0], [65.0], [1.0], [9.0], [3.0], [5.0], [2.0], [2.0], [1.0], [2.0], [5.0], [1.0], [1.0], [1.0], [1.0], [4.0], [4.0], [5.0], [1.0], [1.0], [3.0], [1.0], [8.0], [2.0], [3.0], [8.0], [2.0], [4.0], [1.0], [58.0], [118.0], [11.0], [5.0], [2.0], [4.0], [7.0], [18.0], [1.0], [8.0], [3.0], [6.0], [1.0], [6.0], [3.0], [3.0], [16.0], [10.0], [12.0], [3.0], [1.0], [1.0], [12.0], [17.0], [2.0], [11.0], [2.0], [4.0], [9.0], [2.0], [1.0], [1.0], [1.0], [1.0], [1.0], [3.0], [1.0], [4.0], [2.0], [1.0], [1.0], [1.0], [1.0], [9.0], [145.0], [2.0], [2.0], [4.0], [169.0], [99.0], [7.0], [7.0], [1.0], [2.0], [7.0], [4.0], [2.0], [6.0], [2.0], [3.0], [3.0], [14.0], [6.0], [4.0], [4.0], [96.0], [9.0], [16.0], [9.0], [3.0], [16.0], [4.0], [2.0], [7.0], [1.0], [1.0], [18.0], [1.0], [5.0], [1.0], [1.0], [1.0], [10.0], [33.0], [94.0], [5.0], [4.0], [40.0], [6.0], [20.0], [215.0], [15.0], [3.0], [18.0], [15.0], [15.0], [2.0], [3.0], [19.0], [3.0], [20.0], [11.0], [40.0], [7.0], [5.0], [1.0], [2.0], [66.0], [29.0], [20.0], [17.0], [9.0], [2.0], [17.0], [279.0], [1.0], [25.0], [25.0], [8.0], [7.0], [26.0], [4.0], [12.0], [3.0], [2.0], [4.0], [6.0], [2.0], [4.0], [14.0], [2.0], [6.0], [1.0], [4.0], [2.0], [1.0], [11.0], [1.0], [1.0], [6.0], [5.0], [6.0], [11.0], [46.0], [19.0], [11.0], [53.0], [15.0], [5.0], [10.0], [1.0], [41.0], [17.0], [1.0], [9.0], [5.0], [24.0], [6.0], [367.0], [328.0], [33.0], [6.0], [14.0], [10.0], [21.0], [11.0], [2.0], [14.0], [3.0], [13.0], [43.0], [30.0], [2.0], [8.0], [31.0], [1.0], [2.0], [1.0], [6.0], [150.0], [30.0], [3.0], [32.0], [20.0], [45.0], [6.0], [1.0], [1.0], [1.0], [10.0], [15.0], [6.0], [5.0], [1.0], [1.0], [79.0], [2.0], [7.0], [3.0], [11.0], [4.0], [1.0], [49.0], [2.0], [1.0], [41.0], [9.0], [1.0], [13.0], [1.0], [9.0], [10.0], [1.0], [1.0], [25.0], [1.0], [3.0], [4.0], [2.0], [47.0], [418.0], [173.0], [2.0], [19.0], [8.0], [36.0], [121.0], [8.0], [6.0], [13.0], [1.0], [1.0], [42.0], [41.0], [14.0], [34.0], [6.0], [18.0], [9.0], [1.0], [11.0], [20.0], [13.0], [11.0], [6.0], [62.0], [7.0], [13.0], [26.0], [66.0], [160.0], [7.0], [39.0], [36.0], [3.0], [14.0], [3.0], [1.0], [7.0], [1.0], [1.0], [6.0], [1.0], [1.0], [15.0], [1.0], [1.0], [3.0], [1.0], [3.0], [15.0], [2.0], [2.0], [1.0], [3.0], [1.0], [2.0], [11.0], [30.0], [4.0], [13.0], [8.0], [2.0], [1.0], [1.0], [2.0], [3.0], [12.0], [1.0], [1.0], [4.0], [1.0], [4.0], [3.0], [4.0], [36.0], [7.0], [2.0], [44.0], [11.0], [1.0], [5.0], [14.0], [4.0], [3.0], [4.0], [9.0], [7.0], [3.0], [1.0], [10.0], [210.0], [3.0], [8.0], [3.0], [4.0], [5.0], [36.0], [8.0], [8.0], [3.0], [8.0], [2.0], [2.0], [5.0], [15.0], [2.0], [16.0], [6.0], [4.0], [3.0], [4.0], [19.0], [1.0], [1.0], [1.0], [1.0], [3.0], [1.0], [4.0], [1.0], [1.0], [44.0], [555.0], [348.0], [7.0], [79.0], [24.0], [37.0], [11.0], [16.0], [510.0], [6.0], [3.0], [6.0], [11.0], [44.0], [16.0], [1.0], [29.0], [30.0], [24.0], [8.0], [13.0], [2.0], [24.0], [4.0], [90.0], [2.0], [54.0], [72.0], [34.0], [6.0], [41.0], [40.0], [7.0], [3.0], [5.0], [1.0], [10.0], [125.0], [10.0], [138.0], [5.0], [60.0], [6.0], [3.0], [5.0], [1.0], [94.0], [140.0], [13.0], [21.0], [208.0], [26.0], [1.0], [31.0], [22.0], [15.0], [13.0], [74.0], [68.0], [6.0], [22.0], [7.0], [21.0], [426.0], [10.0], [29.0], [4.0], [38.0], [195.0], [63.0], [5.0], [473.0], [4.0], [19.0], [17.0], [27.0], [42.0], [3.0], [163.0], [1.0], [4.0], [19.0], [6.0], [6.0], [25.0], [1.0], [2.0], [2.0], [9.0], [3.0], [3.0], [9.0], [1.0], [1.0], [1.0], [2.0], [31.0], [15.0], [272.0], [838.0], [103.0], [15.0], [288.0], [30.0], [1.0], [9.0], [231.0], [31.0], [1.0], [20.0], [61.0], [17.0], [216.0], [3.0], [37.0], [11.0], [221.0], [7.0], [37.0], [12.0], [9.0], [7.0], [86.0], [310.0], [65.0], [35.0], [74.0], [50.0], [51.0], [5.0], [21.0], [2.0], [124.0], [681.0], [43.0], [34.0], [65.0], [17.0], [7.0], [4.0], [4.0], [11.0], [7.0], [1.0], [6.0], [2.0], [3.0], [13.0], [7.0], [4.0], [11.0], [11.0], [1.0], [5.0], [3.0], [9.0], [5.0], [9.0], [5.0], [16.0], [6.0], [4.0], [56.0], [20.0], [60.0], [3.0], [3.0], [2.0], [7.0], [16.0], [116.0], [21.0], [3.0], [1.0], [6.0], [1.0], [5.0], [1.0], [44.0], [16.0], [16.0], [4.0], [7.0], [21.0], [3.0], [23.0], [3.0], [1.0], [1.0], [2.0], [3.0], [1.0], [3.0], [31.0], [4.0], [3.0], [3.0], [3.0], [3.0], [6.0], [3.0], [5.0], [29.0], [37.0], [7.0], [1.0], [1.0], [3.0], [7.0], [1.0], [6.0], [5.0], [3.0], [5.0], [1.0], [4.0], [2.0], [2.0], [6.0], [1.0], [11.0], [1.0], [14.0], [6.0], [6.0], [1.0], [3.0], [4.0], [11.0], [1.0], [1.0], [146.32291666666666], [24.680981595092025], [19.0], [148.26365795724465], [448.9867674858223], [182.54845360824743], [14.442622950819672], [204.86917960088692], [575.7804249839021], [83.74740484429066], [9.952380952380953], [23.083333333333332], [291.3080407701019], [15.1875], [4.2727272727272725], [112.96976241900649], [32.72075471698113], [52.107438016528924], [127.3040380047506], [3.6470588235294117], [198.15625], [203.30795262267344], [141.83287671232875], [13.238805970149254], [22.11392405063291], [229.7960308710033], [15.11320754716981], [11.358490566037736], [6.588235294117647], [96.18367346938776], [54.84507042253521], [164.3494318181818], [116.78913219789132], [46.71747211895911], [38.49753694581281], [49.442953020134226], [284.25659472422063], [20.652173913043477], [13.591549295774648], [13.169491525423728], [7.0], [86.05882352941177], [3.0], [497.86404234204434], [137.96583143507974], [84.63718820861678], [7.0], [3.4347826086956523], [102.61834862385321], [24.35238095238095], [3.9], [10.037037037037036]], \"domain\": {\"x\": [0.0, 1.0], \"y\": [0.0, 1.0]}, \"hovertemplate\": \"labels=%{label}<br>Flights_sum=%{value}<br>parent=%{parent}<br>id=%{id}<br>Flights=%{color}<extra></extra>\", \"ids\": [\"AL/9E\", \"AR/9E\", \"CT/9E\", \"FL/9E\", \"GA/9E\", \"ID/9E\", \"IL/9E\", \"IN/9E\", \"KY/9E\", \"LA/9E\", \"MA/9E\", \"MD/9E\", \"ME/9E\", \"MI/9E\", \"MN/9E\", \"MO/9E\", \"MS/9E\", \"NC/9E\", \"ND/9E\", \"NY/9E\", \"OH/9E\", \"OK/9E\", \"PA/9E\", \"RI/9E\", \"SC/9E\", \"SD/9E\", \"TN/9E\", \"TX/9E\", \"VA/9E\", \"VT/9E\", \"WI/9E\", \"WV/9E\", \"AL/AA\", \"AR/AA\", \"AZ/AA\", \"CA/AA\", \"CO/AA\", \"CT/AA\", \"FL/AA\", \"GA/AA\", \"HI/AA\", \"IA/AA\", \"ID/AA\", \"IL/AA\", \"IN/AA\", \"KS/AA\", \"KY/AA\", \"LA/AA\", \"MA/AA\", \"MD/AA\", \"MI/AA\", \"MN/AA\", \"MO/AA\", \"NC/AA\", \"NE/AA\", \"NJ/AA\", \"NM/AA\", \"NV/AA\", \"NY/AA\", \"OH/AA\", \"OK/AA\", \"OR/AA\", \"PA/AA\", \"PR/AA\", \"RI/AA\", \"SC/AA\", \"TN/AA\", \"TX/AA\", \"UT/AA\", \"VA/AA\", \"VI/AA\", \"WA/AA\", \"WI/AA\", \"WY/AA\", \"AK/AS\", \"AZ/AS\", \"CA/AS\", \"CO/AS\", \"FL/AS\", \"GA/AS\", \"HI/AS\", \"ID/AS\", \"IL/AS\", \"LA/AS\", \"MA/AS\", \"MD/AS\", \"MI/AS\", \"MO/AS\", \"NJ/AS\", \"NV/AS\", \"NY/AS\", \"OR/AS\", \"TX/AS\", \"UT/AS\", \"VA/AS\", \"WA/AS\", \"AZ/B6\", \"CA/B6\", \"CO/B6\", \"CT/B6\", \"FL/B6\", \"GA/B6\", \"IL/B6\", \"LA/B6\", \"MA/B6\", \"MD/B6\", \"ME/B6\", \"NC/B6\", \"NJ/B6\", \"NM/B6\", \"NV/B6\", \"NY/B6\", \"OH/B6\", \"OR/B6\", \"PA/B6\", \"PR/B6\", \"SC/B6\", \"TX/B6\", \"UT/B6\", \"VA/B6\", \"VT/B6\", \"WA/B6\", \"AK/CO\", \"AZ/CO\", \"CA/CO\", \"CO/CO\", \"CT/CO\", \"FL/CO\", \"GA/CO\", \"HI/CO\", \"IL/CO\", \"IN/CO\", \"KS/CO\", \"KY/CO\", \"LA/CO\", \"MA/CO\", \"MD/CO\", \"ME/CO\", \"MI/CO\", \"MN/CO\", \"MO/CO\", \"MT/CO\", \"NC/CO\", \"ND/CO\", \"NE/CO\", \"NH/CO\", \"NJ/CO\", \"NM/CO\", \"NV/CO\", \"NY/CO\", \"OH/CO\", \"OK/CO\", \"OR/CO\", \"PA/CO\", \"PR/CO\", \"RI/CO\", \"SC/CO\", \"SD/CO\", \"TN/CO\", \"TT/CO\", \"TX/CO\", \"UT/CO\", \"VA/CO\", \"VI/CO\", \"VT/CO\", \"WA/CO\", \"AL/DH\", \"CT/DH\", \"FL/DH\", \"IA/DH\", \"IL/DH\", \"IN/DH\", \"KY/DH\", \"MA/DH\", \"MI/DH\", \"NC/DH\", \"NH/DH\", \"NY/DH\", \"OK/DH\", \"PA/DH\", \"SC/DH\", \"TN/DH\", \"VA/DH\", \"AK/DL\", \"AL/DL\", \"AR/DL\", \"AZ/DL\", \"CA/DL\", \"CO/DL\", \"CT/DL\", \"FL/DL\", \"GA/DL\", \"HI/DL\", \"IA/DL\", \"ID/DL\", \"IL/DL\", \"IN/DL\", \"KS/DL\", \"KY/DL\", \"LA/DL\", \"MA/DL\", \"MD/DL\", \"ME/DL\", \"MI/DL\", \"MN/DL\", \"MO/DL\", \"MS/DL\", \"MT/DL\", \"NC/DL\", \"ND/DL\", \"NE/DL\", \"NJ/DL\", \"NM/DL\", \"NV/DL\", \"NY/DL\", \"OH/DL\", \"OK/DL\", \"OR/DL\", \"PA/DL\", \"PR/DL\", \"RI/DL\", \"SC/DL\", \"SD/DL\", \"TN/DL\", \"TX/DL\", \"UT/DL\", \"VA/DL\", \"VI/DL\", \"WA/DL\", \"WI/DL\", \"WV/DL\", \"WY/DL\", \"AL/EA\", \"CA/EA\", \"CT/EA\", \"FL/EA\", \"GA/EA\", \"KY/EA\", \"LA/EA\", \"MA/EA\", \"MI/EA\", \"MO/EA\", \"NC/EA\", \"NE/EA\", \"NJ/EA\", \"NV/EA\", \"NY/EA\", \"OH/EA\", \"PA/EA\", \"SC/EA\", \"TN/EA\", \"TX/EA\", \"VA/EA\", \"AL/EV\", \"AR/EV\", \"CA/EV\", \"CO/EV\", \"CT/EV\", \"FL/EV\", \"GA/EV\", \"IA/EV\", \"IL/EV\", \"IN/EV\", \"KS/EV\", \"KY/EV\", \"LA/EV\", \"MA/EV\", \"ME/EV\", \"MI/EV\", \"MN/EV\", \"MO/EV\", \"MS/EV\", \"MT/EV\", \"NC/EV\", \"ND/EV\", \"NE/EV\", \"NH/EV\", \"NJ/EV\", \"NV/EV\", \"NY/EV\", \"OH/EV\", \"OK/EV\", \"PA/EV\", \"RI/EV\", \"SC/EV\", \"SD/EV\", \"TN/EV\", \"TX/EV\", \"UT/EV\", \"VA/EV\", \"VT/EV\", \"WI/EV\", \"WV/EV\", \"AZ/F9\", \"CA/F9\", \"CO/F9\", \"CT/F9\", \"FL/F9\", \"GA/F9\", \"IL/F9\", \"IN/F9\", \"KY/F9\", \"MI/F9\", \"MN/F9\", \"MO/F9\", \"MT/F9\", \"NC/F9\", \"ND/F9\", \"NE/F9\", \"NJ/F9\", \"NV/F9\", \"NY/F9\", \"OH/F9\", \"OR/F9\", \"PA/F9\", \"PR/F9\", \"TX/F9\", \"UT/F9\", \"VA/F9\", \"WA/F9\", \"WI/F9\", \"CA/FL\", \"CO/FL\", \"FL/FL\", \"GA/FL\", \"IL/FL\", \"IN/FL\", \"KS/FL\", \"LA/FL\", \"MA/FL\", \"MD/FL\", \"ME/FL\", \"MI/FL\", \"MN/FL\", \"MO/FL\", \"MS/FL\", \"NC/FL\", \"NJ/FL\", \"NV/FL\", \"NY/FL\", \"OH/FL\", \"PA/FL\", \"PR/FL\", \"SC/FL\", \"TN/FL\", \"TX/FL\", \"VA/FL\", \"WA/FL\", \"WI/FL\", \"AZ/G4\", \"CA/G4\", \"FL/G4\", \"IL/G4\", \"IN/G4\", \"MD/G4\", \"MI/G4\", \"MN/G4\", \"MT/G4\", \"NC/G4\", \"ND/G4\", \"NV/G4\", \"OH/G4\", \"PA/G4\", \"TX/G4\", \"WA/G4\", \"WV/G4\", \"CA/HA\", \"HI/HA\", \"NV/HA\", \"OR/HA\", \"WA/HA\", \"AZ/HP\", \"CA/HP\", \"CO/HP\", \"FL/HP\", \"GA/HP\", \"IA/HP\", \"IL/HP\", \"IN/HP\", \"KS/HP\", \"MA/HP\", \"MD/HP\", \"MI/HP\", \"MN/HP\", \"MO/HP\", \"NE/HP\", \"NJ/HP\", \"NM/HP\", \"NV/HP\", \"NY/HP\", \"OH/HP\", \"OR/HP\", \"PA/HP\", \"TX/HP\", \"UT/HP\", \"VA/HP\", \"WA/HP\", \"WI/HP\", \"CA/KH\", \"HI/KH\", \"IA/ML (1)\", \"IL/ML (1)\", \"KY/ML (1)\", \"NY/ML (1)\", \"VA/ML (1)\", \"AL/MQ\", \"AR/MQ\", \"CA/MQ\", \"CO/MQ\", \"CT/MQ\", \"FL/MQ\", \"GA/MQ\", \"IA/MQ\", \"IL/MQ\", \"IN/MQ\", \"KS/MQ\", \"KY/MQ\", \"LA/MQ\", \"MA/MQ\", \"MD/MQ\", \"ME/MQ\", \"MI/MQ\", \"MN/MQ\", \"MO/MQ\", \"MS/MQ\", \"NC/MQ\", \"NE/MQ\", \"NJ/MQ\", \"NM/MQ\", \"NV/MQ\", \"NY/MQ\", \"OH/MQ\", \"OK/MQ\", \"PA/MQ\", \"SC/MQ\", \"SD/MQ\", \"TN/MQ\", \"TX/MQ\", \"UT/MQ\", \"VA/MQ\", \"WI/MQ\", \"CA/NK\", \"CO/NK\", \"FL/NK\", \"GA/NK\", \"IL/NK\", \"LA/NK\", \"MA/NK\", \"MD/NK\", \"MI/NK\", \"MN/NK\", \"NJ/NK\", \"NV/NK\", \"NY/NK\", \"OH/NK\", \"OR/NK\", \"PA/NK\", \"PR/NK\", \"SC/NK\", \"TX/NK\", \"VA/NK\", \"VI/NK\", \"AK/NW\", \"AL/NW\", \"AR/NW\", \"AZ/NW\", \"CA/NW\", \"CO/NW\", \"CT/NW\", \"FL/NW\", \"GA/NW\", \"HI/NW\", \"IA/NW\", \"ID/NW\", \"IL/NW\", \"IN/NW\", \"KS/NW\", \"KY/NW\", \"LA/NW\", \"MA/NW\", \"MD/NW\", \"MI/NW\", \"MN/NW\", \"MO/NW\", \"MS/NW\", \"MT/NW\", \"NC/NW\", \"ND/NW\", \"NE/NW\", \"NH/NW\", \"NJ/NW\", \"NM/NW\", \"NV/NW\", \"NY/NW\", \"OH/NW\", \"OK/NW\", \"OR/NW\", \"PA/NW\", \"PR/NW\", \"RI/NW\", \"SC/NW\", \"SD/NW\", \"TN/NW\", \"TX/NW\", \"UT/NW\", \"VA/NW\", \"WA/NW\", \"WI/NW\", \"AL/OH\", \"AR/OH\", \"CO/OH\", \"CT/OH\", \"FL/OH\", \"GA/OH\", \"IA/OH\", \"IL/OH\", \"IN/OH\", \"KS/OH\", \"KY/OH\", \"LA/OH\", \"MA/OH\", \"ME/OH\", \"MI/OH\", \"MO/OH\", \"MS/OH\", \"NC/OH\", \"NE/OH\", \"NJ/OH\", \"NY/OH\", \"OH/OH\", \"OK/OH\", \"PA/OH\", \"RI/OH\", \"SC/OH\", \"TN/OH\", \"TX/OH\", \"UT/OH\", \"VA/OH\", \"VT/OH\", \"WI/OH\", \"AL/OO\", \"AR/OO\", \"AZ/OO\", \"CA/OO\", \"CO/OO\", \"CT/OO\", \"GA/OO\", \"IA/OO\", \"ID/OO\", \"IL/OO\", \"IN/OO\", \"KS/OO\", \"KY/OO\", \"LA/OO\", \"MA/OO\", \"MI/OO\", \"MN/OO\", \"MO/OO\", \"MT/OO\", \"NC/OO\", \"ND/OO\", \"NE/OO\", \"NJ/OO\", \"NM/OO\", \"NV/OO\", \"NY/OO\", \"OH/OO\", \"OK/OO\", \"OR/OO\", \"PA/OO\", \"SD/OO\", \"TN/OO\", \"TX/OO\", \"UT/OO\", \"VA/OO\", \"WA/OO\", \"WI/OO\", \"WV/OO\", \"WY/OO\", \"CA/PA (1)\", \"CO/PA (1)\", \"FL/PA (1)\", \"IN/PA (1)\", \"LA/PA (1)\", \"MA/PA (1)\", \"MI/PA (1)\", \"NC/PA (1)\", \"NY/PA (1)\", \"TN/PA (1)\", \"TX/PA (1)\", \"VA/PA (1)\", \"CA/PI\", \"CT/PI\", \"FL/PI\", \"GA/PI\", \"IL/PI\", \"IN/PI\", \"KY/PI\", \"LA/PI\", \"MA/PI\", \"MD/PI\", \"NC/PI\", \"NJ/PI\", \"NY/PI\", \"OH/PI\", \"PA/PI\", \"RI/PI\", \"SC/PI\", \"TN/PI\", \"TX/PI\", \"VA/PI\", \"WA/PI\", \"WV/PI\", \"CA/PS\", \"NM/PS\", \"WA/PS\", \"AR/TW\", \"AZ/TW\", \"CA/TW\", \"CO/TW\", \"CT/TW\", \"FL/TW\", \"GA/TW\", \"HI/TW\", \"IA/TW\", \"IL/TW\", \"IN/TW\", \"KS/TW\", \"KY/TW\", \"LA/TW\", \"MA/TW\", \"MD/TW\", \"MI/TW\", \"MN/TW\", \"MO/TW\", \"NC/TW\", \"NE/TW\", \"NJ/TW\", \"NM/TW\", \"NV/TW\", \"NY/TW\", \"OH/TW\", \"OK/TW\", \"OR/TW\", \"PA/TW\", \"PR/TW\", \"SD/TW\", \"TN/TW\", \"TX/TW\", \"UT/TW\", \"VA/TW\", \"WA/TW\", \"WI/TW\", \"FL/TZ\", \"HI/TZ\", \"IL/TZ\", \"IN/TZ\", \"MA/TZ\", \"NJ/TZ\", \"NV/TZ\", \"NY/TZ\", \"VA/TZ\", \"AK/UA\", \"AL/UA\", \"AR/UA\", \"AZ/UA\", \"CA/UA\", \"CO/UA\", \"CT/UA\", \"FL/UA\", \"GA/UA\", \"HI/UA\", \"IA/UA\", \"ID/UA\", \"IL/UA\", \"IN/UA\", \"KS/UA\", \"KY/UA\", \"LA/UA\", \"MA/UA\", \"MD/UA\", \"ME/UA\", \"MI/UA\", \"MN/UA\", \"MO/UA\", \"MT/UA\", \"NC/UA\", \"ND/UA\", \"NE/UA\", \"NH/UA\", \"NJ/UA\", \"NM/UA\", \"NV/UA\", \"NY/UA\", \"OH/UA\", \"OK/UA\", \"OR/UA\", \"PA/UA\", \"PR/UA\", \"RI/UA\", \"SC/UA\", \"SD/UA\", \"TN/UA\", \"TX/UA\", \"UT/UA\", \"VA/UA\", \"VT/UA\", \"WA/UA\", \"WI/UA\", \"WY/UA\", \"AL/US\", \"AR/US\", \"AZ/US\", \"CA/US\", \"CO/US\", \"CT/US\", \"FL/US\", \"GA/US\", \"ID/US\", \"IL/US\", \"IN/US\", \"KY/US\", \"LA/US\", \"MA/US\", \"MD/US\", \"ME/US\", \"MI/US\", \"MN/US\", \"MO/US\", \"NC/US\", \"NH/US\", \"NJ/US\", \"NM/US\", \"NV/US\", \"NY/US\", \"OH/US\", \"OR/US\", \"PA/US\", \"PR/US\", \"RI/US\", \"SC/US\", \"TN/US\", \"TX/US\", \"UT/US\", \"VA/US\", \"VI/US\", \"VT/US\", \"WA/US\", \"WI/US\", \"WV/US\", \"CA/VX\", \"CO/VX\", \"FL/VX\", \"IL/VX\", \"MA/VX\", \"NJ/VX\", \"NV/VX\", \"NY/VX\", \"OR/VX\", \"TX/VX\", \"VA/VX\", \"WA/VX\", \"AL/WN\", \"AR/WN\", \"AZ/WN\", \"CA/WN\", \"CO/WN\", \"CT/WN\", \"FL/WN\", \"GA/WN\", \"IA/WN\", \"ID/WN\", \"IL/WN\", \"IN/WN\", \"KS/WN\", \"KY/WN\", \"LA/WN\", \"MA/WN\", \"MD/WN\", \"ME/WN\", \"MI/WN\", \"MN/WN\", \"MO/WN\", \"MS/WN\", \"NC/WN\", \"NE/WN\", \"NH/WN\", \"NJ/WN\", \"NM/WN\", \"NV/WN\", \"NY/WN\", \"OH/WN\", \"OK/WN\", \"OR/WN\", \"PA/WN\", \"PR/WN\", \"RI/WN\", \"SC/WN\", \"TN/WN\", \"TX/WN\", \"UT/WN\", \"VA/WN\", \"WA/WN\", \"WI/WN\", \"AL/XE\", \"AR/XE\", \"AZ/XE\", \"CA/XE\", \"CO/XE\", \"CT/XE\", \"FL/XE\", \"GA/XE\", \"IA/XE\", \"IL/XE\", \"IN/XE\", \"KS/XE\", \"KY/XE\", \"LA/XE\", \"MA/XE\", \"MD/XE\", \"ME/XE\", \"MI/XE\", \"MN/XE\", \"MO/XE\", \"MS/XE\", \"NC/XE\", \"NE/XE\", \"NH/XE\", \"NJ/XE\", \"NY/XE\", \"OH/XE\", \"OK/XE\", \"PA/XE\", \"RI/XE\", \"SC/XE\", \"TN/XE\", \"TX/XE\", \"VA/XE\", \"VT/XE\", \"WA/XE\", \"WI/XE\", \"WV/XE\", \"AL/YV\", \"AR/YV\", \"AZ/YV\", \"CA/YV\", \"CO/YV\", \"FL/YV\", \"GA/YV\", \"HI/YV\", \"IA/YV\", \"IL/YV\", \"IN/YV\", \"KS/YV\", \"KY/YV\", \"LA/YV\", \"MI/YV\", \"MN/YV\", \"MO/YV\", \"NC/YV\", \"NV/YV\", \"NY/YV\", \"OH/YV\", \"OK/YV\", \"PA/YV\", \"SC/YV\", \"SD/YV\", \"TN/YV\", \"TX/YV\", \"VA/YV\", \"WI/YV\", \"WY/YV\", \"AR/YX\", \"CO/YX\", \"FL/YX\", \"GA/YX\", \"IL/YX\", \"IN/YX\", \"KY/YX\", \"MA/YX\", \"ME/YX\", \"MI/YX\", \"MN/YX\", \"MO/YX\", \"NC/YX\", \"NH/YX\", \"NJ/YX\", \"NM/YX\", \"NY/YX\", \"OH/YX\", \"PA/YX\", \"SC/YX\", \"TN/YX\", \"TX/YX\", \"VA/YX\", \"VT/YX\", \"WI/YX\", \"AK\", \"AL\", \"AR\", \"AZ\", \"CA\", \"CO\", \"CT\", \"FL\", \"GA\", \"HI\", \"IA\", \"ID\", \"IL\", \"IN\", \"KS\", \"KY\", \"LA\", \"MA\", \"MD\", \"ME\", \"MI\", \"MN\", \"MO\", \"MS\", \"MT\", \"NC\", \"ND\", \"NE\", \"NH\", \"NJ\", \"NM\", \"NV\", \"NY\", \"OH\", \"OK\", \"OR\", \"PA\", \"PR\", \"RI\", \"SC\", \"SD\", \"TN\", \"TT\", \"TX\", \"UT\", \"VA\", \"VI\", \"VT\", \"WA\", \"WI\", \"WV\", \"WY\"], \"labels\": [\"9E\", \"9E\", \"9E\", \"9E\", \"9E\", \"9E\", \"9E\", \"9E\", \"9E\", \"9E\", \"9E\", \"9E\", \"9E\", \"9E\", \"9E\", \"9E\", \"9E\", \"9E\", \"9E\", \"9E\", \"9E\", \"9E\", \"9E\", \"9E\", \"9E\", \"9E\", \"9E\", \"9E\", \"9E\", \"9E\", \"9E\", \"9E\", \"AA\", \"AA\", \"AA\", \"AA\", \"AA\", \"AA\", \"AA\", \"AA\", \"AA\", \"AA\", \"AA\", \"AA\", \"AA\", \"AA\", \"AA\", \"AA\", \"AA\", \"AA\", \"AA\", \"AA\", \"AA\", \"AA\", \"AA\", \"AA\", \"AA\", \"AA\", \"AA\", \"AA\", \"AA\", \"AA\", \"AA\", \"AA\", \"AA\", \"AA\", \"AA\", \"AA\", \"AA\", \"AA\", \"AA\", \"AA\", \"AA\", \"AA\", \"AS\", \"AS\", \"AS\", \"AS\", \"AS\", \"AS\", \"AS\", \"AS\", \"AS\", \"AS\", \"AS\", \"AS\", \"AS\", \"AS\", \"AS\", \"AS\", \"AS\", \"AS\", \"AS\", \"AS\", \"AS\", \"AS\", \"B6\", \"B6\", \"B6\", \"B6\", \"B6\", \"B6\", \"B6\", \"B6\", \"B6\", \"B6\", \"B6\", \"B6\", \"B6\", \"B6\", \"B6\", \"B6\", \"B6\", \"B6\", \"B6\", \"B6\", \"B6\", \"B6\", \"B6\", \"B6\", \"B6\", \"B6\", \"CO\", \"CO\", \"CO\", \"CO\", \"CO\", \"CO\", \"CO\", \"CO\", \"CO\", \"CO\", \"CO\", \"CO\", \"CO\", \"CO\", \"CO\", \"CO\", \"CO\", \"CO\", \"CO\", \"CO\", \"CO\", \"CO\", \"CO\", \"CO\", \"CO\", \"CO\", \"CO\", \"CO\", \"CO\", \"CO\", \"CO\", \"CO\", \"CO\", \"CO\", \"CO\", \"CO\", \"CO\", \"CO\", \"CO\", \"CO\", \"CO\", \"CO\", \"CO\", \"CO\", \"DH\", \"DH\", \"DH\", \"DH\", \"DH\", \"DH\", \"DH\", \"DH\", \"DH\", \"DH\", \"DH\", \"DH\", \"DH\", \"DH\", \"DH\", \"DH\", \"DH\", \"DL\", \"DL\", \"DL\", \"DL\", \"DL\", \"DL\", \"DL\", \"DL\", \"DL\", \"DL\", \"DL\", \"DL\", \"DL\", \"DL\", \"DL\", \"DL\", \"DL\", \"DL\", \"DL\", \"DL\", \"DL\", \"DL\", \"DL\", \"DL\", \"DL\", \"DL\", \"DL\", \"DL\", \"DL\", \"DL\", \"DL\", \"DL\", \"DL\", \"DL\", \"DL\", \"DL\", \"DL\", \"DL\", \"DL\", \"DL\", \"DL\", \"DL\", \"DL\", \"DL\", \"DL\", \"DL\", \"DL\", \"DL\", \"DL\", \"EA\", \"EA\", \"EA\", \"EA\", \"EA\", \"EA\", \"EA\", \"EA\", \"EA\", \"EA\", \"EA\", \"EA\", \"EA\", \"EA\", \"EA\", \"EA\", \"EA\", \"EA\", \"EA\", \"EA\", \"EA\", \"EV\", \"EV\", \"EV\", \"EV\", \"EV\", \"EV\", \"EV\", \"EV\", \"EV\", \"EV\", \"EV\", \"EV\", \"EV\", \"EV\", \"EV\", \"EV\", \"EV\", \"EV\", \"EV\", \"EV\", \"EV\", \"EV\", \"EV\", \"EV\", \"EV\", \"EV\", \"EV\", \"EV\", \"EV\", \"EV\", \"EV\", \"EV\", \"EV\", \"EV\", \"EV\", \"EV\", \"EV\", \"EV\", \"EV\", \"EV\", \"F9\", \"F9\", \"F9\", \"F9\", \"F9\", \"F9\", \"F9\", \"F9\", \"F9\", \"F9\", \"F9\", \"F9\", \"F9\", \"F9\", \"F9\", \"F9\", \"F9\", \"F9\", \"F9\", \"F9\", \"F9\", \"F9\", \"F9\", \"F9\", \"F9\", \"F9\", \"F9\", \"F9\", \"FL\", \"FL\", \"FL\", \"FL\", \"FL\", \"FL\", \"FL\", \"FL\", \"FL\", \"FL\", \"FL\", \"FL\", \"FL\", \"FL\", \"FL\", \"FL\", \"FL\", \"FL\", \"FL\", \"FL\", \"FL\", \"FL\", \"FL\", \"FL\", \"FL\", \"FL\", \"FL\", \"FL\", \"G4\", \"G4\", \"G4\", \"G4\", \"G4\", \"G4\", \"G4\", \"G4\", \"G4\", \"G4\", \"G4\", \"G4\", \"G4\", \"G4\", \"G4\", \"G4\", \"G4\", \"HA\", \"HA\", \"HA\", \"HA\", \"HA\", \"HP\", \"HP\", \"HP\", \"HP\", \"HP\", \"HP\", \"HP\", \"HP\", \"HP\", \"HP\", \"HP\", \"HP\", \"HP\", \"HP\", \"HP\", \"HP\", \"HP\", \"HP\", \"HP\", \"HP\", \"HP\", \"HP\", \"HP\", \"HP\", \"HP\", \"HP\", \"HP\", \"KH\", \"KH\", \"ML (1)\", \"ML (1)\", \"ML (1)\", \"ML (1)\", \"ML (1)\", \"MQ\", \"MQ\", \"MQ\", \"MQ\", \"MQ\", \"MQ\", \"MQ\", \"MQ\", \"MQ\", \"MQ\", \"MQ\", \"MQ\", \"MQ\", \"MQ\", \"MQ\", \"MQ\", \"MQ\", \"MQ\", \"MQ\", \"MQ\", \"MQ\", \"MQ\", \"MQ\", \"MQ\", \"MQ\", \"MQ\", \"MQ\", \"MQ\", \"MQ\", \"MQ\", \"MQ\", \"MQ\", \"MQ\", \"MQ\", \"MQ\", \"MQ\", \"NK\", \"NK\", \"NK\", \"NK\", \"NK\", \"NK\", \"NK\", \"NK\", \"NK\", \"NK\", \"NK\", \"NK\", \"NK\", \"NK\", \"NK\", \"NK\", \"NK\", \"NK\", \"NK\", \"NK\", \"NK\", \"NW\", \"NW\", \"NW\", \"NW\", \"NW\", \"NW\", \"NW\", \"NW\", \"NW\", \"NW\", \"NW\", \"NW\", \"NW\", \"NW\", \"NW\", \"NW\", \"NW\", \"NW\", \"NW\", \"NW\", \"NW\", \"NW\", \"NW\", \"NW\", \"NW\", \"NW\", \"NW\", \"NW\", \"NW\", \"NW\", \"NW\", \"NW\", \"NW\", \"NW\", \"NW\", \"NW\", \"NW\", \"NW\", \"NW\", \"NW\", \"NW\", \"NW\", \"NW\", \"NW\", \"NW\", \"NW\", \"OH\", \"OH\", \"OH\", \"OH\", \"OH\", \"OH\", \"OH\", \"OH\", \"OH\", \"OH\", \"OH\", \"OH\", \"OH\", \"OH\", \"OH\", \"OH\", \"OH\", \"OH\", \"OH\", \"OH\", \"OH\", \"OH\", \"OH\", \"OH\", \"OH\", \"OH\", \"OH\", \"OH\", \"OH\", \"OH\", \"OH\", \"OH\", \"OO\", \"OO\", \"OO\", \"OO\", \"OO\", \"OO\", \"OO\", \"OO\", \"OO\", \"OO\", \"OO\", \"OO\", \"OO\", \"OO\", \"OO\", \"OO\", \"OO\", \"OO\", \"OO\", \"OO\", \"OO\", \"OO\", \"OO\", \"OO\", \"OO\", \"OO\", \"OO\", \"OO\", \"OO\", \"OO\", \"OO\", \"OO\", \"OO\", \"OO\", \"OO\", \"OO\", \"OO\", \"OO\", \"OO\", \"PA (1)\", \"PA (1)\", \"PA (1)\", \"PA (1)\", \"PA (1)\", \"PA (1)\", \"PA (1)\", \"PA (1)\", \"PA (1)\", \"PA (1)\", \"PA (1)\", \"PA (1)\", \"PI\", \"PI\", \"PI\", \"PI\", \"PI\", \"PI\", \"PI\", \"PI\", \"PI\", \"PI\", \"PI\", \"PI\", \"PI\", \"PI\", \"PI\", \"PI\", \"PI\", \"PI\", \"PI\", \"PI\", \"PI\", \"PI\", \"PS\", \"PS\", \"PS\", \"TW\", \"TW\", \"TW\", \"TW\", \"TW\", \"TW\", \"TW\", \"TW\", \"TW\", \"TW\", \"TW\", \"TW\", \"TW\", \"TW\", \"TW\", \"TW\", \"TW\", \"TW\", \"TW\", \"TW\", \"TW\", \"TW\", \"TW\", \"TW\", \"TW\", \"TW\", \"TW\", \"TW\", \"TW\", \"TW\", \"TW\", \"TW\", \"TW\", \"TW\", \"TW\", \"TW\", \"TW\", \"TZ\", \"TZ\", \"TZ\", \"TZ\", \"TZ\", \"TZ\", \"TZ\", \"TZ\", \"TZ\", \"UA\", \"UA\", \"UA\", \"UA\", \"UA\", \"UA\", \"UA\", \"UA\", \"UA\", \"UA\", \"UA\", \"UA\", \"UA\", \"UA\", \"UA\", \"UA\", \"UA\", \"UA\", \"UA\", \"UA\", \"UA\", \"UA\", \"UA\", \"UA\", \"UA\", \"UA\", \"UA\", \"UA\", \"UA\", \"UA\", \"UA\", \"UA\", \"UA\", \"UA\", \"UA\", \"UA\", \"UA\", \"UA\", \"UA\", \"UA\", \"UA\", \"UA\", \"UA\", \"UA\", \"UA\", \"UA\", \"UA\", \"UA\", \"US\", \"US\", \"US\", \"US\", \"US\", \"US\", \"US\", \"US\", \"US\", \"US\", \"US\", \"US\", \"US\", \"US\", \"US\", \"US\", \"US\", \"US\", \"US\", \"US\", \"US\", \"US\", \"US\", \"US\", \"US\", \"US\", \"US\", \"US\", \"US\", \"US\", \"US\", \"US\", \"US\", \"US\", \"US\", \"US\", \"US\", \"US\", \"US\", \"US\", \"VX\", \"VX\", \"VX\", \"VX\", \"VX\", \"VX\", \"VX\", \"VX\", \"VX\", \"VX\", \"VX\", \"VX\", \"WN\", \"WN\", \"WN\", \"WN\", \"WN\", \"WN\", \"WN\", \"WN\", \"WN\", \"WN\", \"WN\", \"WN\", \"WN\", \"WN\", \"WN\", \"WN\", \"WN\", \"WN\", \"WN\", \"WN\", \"WN\", \"WN\", \"WN\", \"WN\", \"WN\", \"WN\", \"WN\", \"WN\", \"WN\", \"WN\", \"WN\", \"WN\", \"WN\", \"WN\", \"WN\", \"WN\", \"WN\", \"WN\", \"WN\", \"WN\", \"WN\", \"WN\", \"XE\", \"XE\", \"XE\", \"XE\", \"XE\", \"XE\", \"XE\", \"XE\", \"XE\", \"XE\", \"XE\", \"XE\", \"XE\", \"XE\", \"XE\", \"XE\", \"XE\", \"XE\", \"XE\", \"XE\", \"XE\", \"XE\", \"XE\", \"XE\", \"XE\", \"XE\", \"XE\", \"XE\", \"XE\", \"XE\", \"XE\", \"XE\", \"XE\", \"XE\", \"XE\", \"XE\", \"XE\", \"XE\", \"YV\", \"YV\", \"YV\", \"YV\", \"YV\", \"YV\", \"YV\", \"YV\", \"YV\", \"YV\", \"YV\", \"YV\", \"YV\", \"YV\", \"YV\", \"YV\", \"YV\", \"YV\", \"YV\", \"YV\", \"YV\", \"YV\", \"YV\", \"YV\", \"YV\", \"YV\", \"YV\", \"YV\", \"YV\", \"YV\", \"YX\", \"YX\", \"YX\", \"YX\", \"YX\", \"YX\", \"YX\", \"YX\", \"YX\", \"YX\", \"YX\", \"YX\", \"YX\", \"YX\", \"YX\", \"YX\", \"YX\", \"YX\", \"YX\", \"YX\", \"YX\", \"YX\", \"YX\", \"YX\", \"YX\", \"AK\", \"AL\", \"AR\", \"AZ\", \"CA\", \"CO\", \"CT\", \"FL\", \"GA\", \"HI\", \"IA\", \"ID\", \"IL\", \"IN\", \"KS\", \"KY\", \"LA\", \"MA\", \"MD\", \"ME\", \"MI\", \"MN\", \"MO\", \"MS\", \"MT\", \"NC\", \"ND\", \"NE\", \"NH\", \"NJ\", \"NM\", \"NV\", \"NY\", \"OH\", \"OK\", \"OR\", \"PA\", \"PR\", \"RI\", \"SC\", \"SD\", \"TN\", \"TT\", \"TX\", \"UT\", \"VA\", \"VI\", \"VT\", \"WA\", \"WI\", \"WV\", \"WY\"], \"marker\": {\"coloraxis\": \"coloraxis\", \"colors\": [5.0, 2.0, 3.0, 4.0, 23.0, 1.0, 4.0, 8.0, 13.0, 2.0, 2.0, 1.0, 1.0, 45.0, 13.0, 5.0, 1.0, 5.0, 2.0, 28.0, 10.0, 2.0, 16.0, 1.0, 6.0, 3.0, 29.0, 6.0, 11.0, 1.0, 7.0, 2.0, 9.0, 10.0, 69.0, 332.0, 51.0, 13.0, 300.0, 45.0, 19.0, 7.0, 1.0, 363.0, 11.0, 4.0, 10.0, 15.0, 65.0, 20.0, 26.0, 24.0, 78.0, 126.0, 4.0, 40.0, 9.0, 51.0, 156.0, 31.0, 33.0, 13.0, 74.0, 37.0, 10.0, 1.0, 77.0, 860.0, 11.0, 94.0, 10.0, 33.0, 4.0, 1.0, 167.0, 14.0, 170.0, 10.0, 6.0, 3.0, 11.0, 3.0, 7.0, 1.0, 3.0, 2.0, 1.0, 3.0, 2.0, 12.0, 2.0, 76.0, 4.0, 3.0, 5.0, 205.0, 5.0, 58.0, 3.0, 4.0, 112.0, 3.0, 5.0, 6.0, 79.0, 3.0, 2.0, 5.0, 12.0, 1.0, 6.0, 124.0, 1.0, 1.0, 5.0, 19.0, 1.0, 12.0, 3.0, 21.0, 4.0, 4.0, 3.0, 14.0, 67.0, 75.0, 3.0, 109.0, 21.0, 6.0, 22.0, 8.0, 1.0, 2.0, 24.0, 29.0, 12.0, 2.0, 8.0, 8.0, 9.0, 2.0, 11.0, 4.0, 5.0, 1.0, 190.0, 5.0, 13.0, 27.0, 96.0, 10.0, 1.0, 10.0, 5.0, 3.0, 4.0, 1.0, 3.0, 3.0, 336.0, 7.0, 28.0, 1.0, 1.0, 17.0, 1.0, 3.0, 4.0, 2.0, 9.0, 1.0, 13.0, 1.0, 2.0, 2.0, 1.0, 9.0, 1.0, 3.0, 1.0, 3.0, 29.0, 12.0, 39.0, 23.0, 45.0, 224.0, 41.0, 26.0, 331.0, 906.0, 22.0, 2.0, 4.0, 34.0, 17.0, 4.0, 208.0, 52.0, 71.0, 31.0, 6.0, 94.0, 94.0, 34.0, 22.0, 18.0, 43.0, 3.0, 5.0, 23.0, 10.0, 47.0, 209.0, 42.0, 19.0, 24.0, 38.0, 6.0, 5.0, 21.0, 1.0, 69.0, 242.0, 181.0, 102.0, 3.0, 47.0, 21.0, 1.0, 8.0, 1.0, 1.0, 1.0, 29.0, 41.0, 1.0, 1.0, 4.0, 1.0, 2.0, 3.0, 1.0, 2.0, 1.0, 12.0, 2.0, 5.0, 2.0, 2.0, 2.0, 4.0, 34.0, 15.0, 1.0, 13.0, 1.0, 34.0, 227.0, 3.0, 47.0, 13.0, 8.0, 31.0, 25.0, 2.0, 2.0, 27.0, 3.0, 13.0, 13.0, 1.0, 34.0, 1.0, 5.0, 2.0, 30.0, 1.0, 25.0, 25.0, 15.0, 6.0, 3.0, 22.0, 2.0, 32.0, 120.0, 5.0, 38.0, 3.0, 8.0, 5.0, 4.0, 9.0, 65.0, 1.0, 9.0, 3.0, 5.0, 2.0, 2.0, 1.0, 2.0, 5.0, 1.0, 1.0, 1.0, 1.0, 4.0, 4.0, 5.0, 1.0, 1.0, 3.0, 1.0, 8.0, 2.0, 3.0, 8.0, 2.0, 4.0, 1.0, 58.0, 118.0, 11.0, 5.0, 2.0, 4.0, 7.0, 18.0, 1.0, 8.0, 3.0, 6.0, 1.0, 6.0, 3.0, 3.0, 16.0, 10.0, 12.0, 3.0, 1.0, 1.0, 12.0, 17.0, 2.0, 11.0, 2.0, 4.0, 9.0, 2.0, 1.0, 1.0, 1.0, 1.0, 1.0, 3.0, 1.0, 4.0, 2.0, 1.0, 1.0, 1.0, 1.0, 9.0, 145.0, 2.0, 2.0, 4.0, 169.0, 99.0, 7.0, 7.0, 1.0, 2.0, 7.0, 4.0, 2.0, 6.0, 2.0, 3.0, 3.0, 14.0, 6.0, 4.0, 4.0, 96.0, 9.0, 16.0, 9.0, 3.0, 16.0, 4.0, 2.0, 7.0, 1.0, 1.0, 18.0, 1.0, 5.0, 1.0, 1.0, 1.0, 10.0, 33.0, 94.0, 5.0, 4.0, 40.0, 6.0, 20.0, 215.0, 15.0, 3.0, 18.0, 15.0, 15.0, 2.0, 3.0, 19.0, 3.0, 20.0, 11.0, 40.0, 7.0, 5.0, 1.0, 2.0, 66.0, 29.0, 20.0, 17.0, 9.0, 2.0, 17.0, 279.0, 1.0, 25.0, 25.0, 8.0, 7.0, 26.0, 4.0, 12.0, 3.0, 2.0, 4.0, 6.0, 2.0, 4.0, 14.0, 2.0, 6.0, 1.0, 4.0, 2.0, 1.0, 11.0, 1.0, 1.0, 6.0, 5.0, 6.0, 11.0, 46.0, 19.0, 11.0, 53.0, 15.0, 5.0, 10.0, 1.0, 41.0, 17.0, 1.0, 9.0, 5.0, 24.0, 6.0, 367.0, 328.0, 33.0, 6.0, 14.0, 10.0, 21.0, 11.0, 2.0, 14.0, 3.0, 13.0, 43.0, 30.0, 2.0, 8.0, 31.0, 1.0, 2.0, 1.0, 6.0, 150.0, 30.0, 3.0, 32.0, 20.0, 45.0, 6.0, 1.0, 1.0, 1.0, 10.0, 15.0, 6.0, 5.0, 1.0, 1.0, 79.0, 2.0, 7.0, 3.0, 11.0, 4.0, 1.0, 49.0, 2.0, 1.0, 41.0, 9.0, 1.0, 13.0, 1.0, 9.0, 10.0, 1.0, 1.0, 25.0, 1.0, 3.0, 4.0, 2.0, 47.0, 418.0, 173.0, 2.0, 19.0, 8.0, 36.0, 121.0, 8.0, 6.0, 13.0, 1.0, 1.0, 42.0, 41.0, 14.0, 34.0, 6.0, 18.0, 9.0, 1.0, 11.0, 20.0, 13.0, 11.0, 6.0, 62.0, 7.0, 13.0, 26.0, 66.0, 160.0, 7.0, 39.0, 36.0, 3.0, 14.0, 3.0, 1.0, 7.0, 1.0, 1.0, 6.0, 1.0, 1.0, 15.0, 1.0, 1.0, 3.0, 1.0, 3.0, 15.0, 2.0, 2.0, 1.0, 3.0, 1.0, 2.0, 11.0, 30.0, 4.0, 13.0, 8.0, 2.0, 1.0, 1.0, 2.0, 3.0, 12.0, 1.0, 1.0, 4.0, 1.0, 4.0, 3.0, 4.0, 36.0, 7.0, 2.0, 44.0, 11.0, 1.0, 5.0, 14.0, 4.0, 3.0, 4.0, 9.0, 7.0, 3.0, 1.0, 10.0, 210.0, 3.0, 8.0, 3.0, 4.0, 5.0, 36.0, 8.0, 8.0, 3.0, 8.0, 2.0, 2.0, 5.0, 15.0, 2.0, 16.0, 6.0, 4.0, 3.0, 4.0, 19.0, 1.0, 1.0, 1.0, 1.0, 3.0, 1.0, 4.0, 1.0, 1.0, 44.0, 555.0, 348.0, 7.0, 79.0, 24.0, 37.0, 11.0, 16.0, 510.0, 6.0, 3.0, 6.0, 11.0, 44.0, 16.0, 1.0, 29.0, 30.0, 24.0, 8.0, 13.0, 2.0, 24.0, 4.0, 90.0, 2.0, 54.0, 72.0, 34.0, 6.0, 41.0, 40.0, 7.0, 3.0, 5.0, 1.0, 10.0, 125.0, 10.0, 138.0, 5.0, 60.0, 6.0, 3.0, 5.0, 1.0, 94.0, 140.0, 13.0, 21.0, 208.0, 26.0, 1.0, 31.0, 22.0, 15.0, 13.0, 74.0, 68.0, 6.0, 22.0, 7.0, 21.0, 426.0, 10.0, 29.0, 4.0, 38.0, 195.0, 63.0, 5.0, 473.0, 4.0, 19.0, 17.0, 27.0, 42.0, 3.0, 163.0, 1.0, 4.0, 19.0, 6.0, 6.0, 25.0, 1.0, 2.0, 2.0, 9.0, 3.0, 3.0, 9.0, 1.0, 1.0, 1.0, 2.0, 31.0, 15.0, 272.0, 838.0, 103.0, 15.0, 288.0, 30.0, 1.0, 9.0, 231.0, 31.0, 1.0, 20.0, 61.0, 17.0, 216.0, 3.0, 37.0, 11.0, 221.0, 7.0, 37.0, 12.0, 9.0, 7.0, 86.0, 310.0, 65.0, 35.0, 74.0, 50.0, 51.0, 5.0, 21.0, 2.0, 124.0, 681.0, 43.0, 34.0, 65.0, 17.0, 7.0, 4.0, 4.0, 11.0, 7.0, 1.0, 6.0, 2.0, 3.0, 13.0, 7.0, 4.0, 11.0, 11.0, 1.0, 5.0, 3.0, 9.0, 5.0, 9.0, 5.0, 16.0, 6.0, 4.0, 56.0, 20.0, 60.0, 3.0, 3.0, 2.0, 7.0, 16.0, 116.0, 21.0, 3.0, 1.0, 6.0, 1.0, 5.0, 1.0, 44.0, 16.0, 16.0, 4.0, 7.0, 21.0, 3.0, 23.0, 3.0, 1.0, 1.0, 2.0, 3.0, 1.0, 3.0, 31.0, 4.0, 3.0, 3.0, 3.0, 3.0, 6.0, 3.0, 5.0, 29.0, 37.0, 7.0, 1.0, 1.0, 3.0, 7.0, 1.0, 6.0, 5.0, 3.0, 5.0, 1.0, 4.0, 2.0, 2.0, 6.0, 1.0, 11.0, 1.0, 14.0, 6.0, 6.0, 1.0, 3.0, 4.0, 11.0, 1.0, 1.0, 146.32291666666666, 24.680981595092025, 19.0, 148.26365795724465, 448.9867674858223, 182.54845360824743, 14.442622950819672, 204.86917960088692, 575.7804249839021, 83.74740484429066, 9.952380952380953, 23.083333333333332, 291.3080407701019, 15.1875, 4.2727272727272725, 112.96976241900649, 32.72075471698113, 52.107438016528924, 127.3040380047506, 3.6470588235294117, 198.15625, 203.30795262267344, 141.83287671232875, 13.238805970149254, 22.11392405063291, 229.7960308710033, 15.11320754716981, 11.358490566037736, 6.588235294117647, 96.18367346938776, 54.84507042253521, 164.3494318181818, 116.78913219789132, 46.71747211895911, 38.49753694581281, 49.442953020134226, 284.25659472422063, 20.652173913043477, 13.591549295774648, 13.169491525423728, 7.0, 86.05882352941177, 3.0, 497.86404234204434, 137.96583143507974, 84.63718820861678, 7.0, 3.4347826086956523, 102.61834862385321, 24.35238095238095, 3.9, 10.037037037037036]}, \"name\": \"\", \"parents\": [\"AL\", \"AR\", \"CT\", \"FL\", \"GA\", \"ID\", \"IL\", \"IN\", \"KY\", \"LA\", \"MA\", \"MD\", \"ME\", \"MI\", \"MN\", \"MO\", \"MS\", \"NC\", \"ND\", \"NY\", \"OH\", \"OK\", \"PA\", \"RI\", \"SC\", \"SD\", \"TN\", \"TX\", \"VA\", \"VT\", \"WI\", \"WV\", \"AL\", \"AR\", \"AZ\", \"CA\", \"CO\", \"CT\", \"FL\", \"GA\", \"HI\", \"IA\", \"ID\", \"IL\", \"IN\", \"KS\", \"KY\", \"LA\", \"MA\", \"MD\", \"MI\", \"MN\", \"MO\", \"NC\", \"NE\", \"NJ\", \"NM\", \"NV\", \"NY\", \"OH\", \"OK\", \"OR\", \"PA\", \"PR\", \"RI\", \"SC\", \"TN\", \"TX\", \"UT\", \"VA\", \"VI\", \"WA\", \"WI\", \"WY\", \"AK\", \"AZ\", \"CA\", \"CO\", \"FL\", \"GA\", \"HI\", \"ID\", \"IL\", \"LA\", \"MA\", \"MD\", \"MI\", \"MO\", \"NJ\", \"NV\", \"NY\", \"OR\", \"TX\", \"UT\", \"VA\", \"WA\", \"AZ\", \"CA\", \"CO\", \"CT\", \"FL\", \"GA\", \"IL\", \"LA\", \"MA\", \"MD\", \"ME\", \"NC\", \"NJ\", \"NM\", \"NV\", \"NY\", \"OH\", \"OR\", \"PA\", \"PR\", \"SC\", \"TX\", \"UT\", \"VA\", \"VT\", \"WA\", \"AK\", \"AZ\", \"CA\", \"CO\", \"CT\", \"FL\", \"GA\", \"HI\", \"IL\", \"IN\", \"KS\", \"KY\", \"LA\", \"MA\", \"MD\", \"ME\", \"MI\", \"MN\", \"MO\", \"MT\", \"NC\", \"ND\", \"NE\", \"NH\", \"NJ\", \"NM\", \"NV\", \"NY\", \"OH\", \"OK\", \"OR\", \"PA\", \"PR\", \"RI\", \"SC\", \"SD\", \"TN\", \"TT\", \"TX\", \"UT\", \"VA\", \"VI\", \"VT\", \"WA\", \"AL\", \"CT\", \"FL\", \"IA\", \"IL\", \"IN\", \"KY\", \"MA\", \"MI\", \"NC\", \"NH\", \"NY\", \"OK\", \"PA\", \"SC\", \"TN\", \"VA\", \"AK\", \"AL\", \"AR\", \"AZ\", \"CA\", \"CO\", \"CT\", \"FL\", \"GA\", \"HI\", \"IA\", \"ID\", \"IL\", \"IN\", \"KS\", \"KY\", \"LA\", \"MA\", \"MD\", \"ME\", \"MI\", \"MN\", \"MO\", \"MS\", \"MT\", \"NC\", \"ND\", \"NE\", \"NJ\", \"NM\", \"NV\", \"NY\", \"OH\", \"OK\", \"OR\", \"PA\", \"PR\", \"RI\", \"SC\", \"SD\", \"TN\", \"TX\", \"UT\", \"VA\", \"VI\", \"WA\", \"WI\", \"WV\", \"WY\", \"AL\", \"CA\", \"CT\", \"FL\", \"GA\", \"KY\", \"LA\", \"MA\", \"MI\", \"MO\", \"NC\", \"NE\", \"NJ\", \"NV\", \"NY\", \"OH\", \"PA\", \"SC\", \"TN\", \"TX\", \"VA\", \"AL\", \"AR\", \"CA\", \"CO\", \"CT\", \"FL\", \"GA\", \"IA\", \"IL\", \"IN\", \"KS\", \"KY\", \"LA\", \"MA\", \"ME\", \"MI\", \"MN\", \"MO\", \"MS\", \"MT\", \"NC\", \"ND\", \"NE\", \"NH\", \"NJ\", \"NV\", \"NY\", \"OH\", \"OK\", \"PA\", \"RI\", \"SC\", \"SD\", \"TN\", \"TX\", \"UT\", \"VA\", \"VT\", \"WI\", \"WV\", \"AZ\", \"CA\", \"CO\", \"CT\", \"FL\", \"GA\", \"IL\", \"IN\", \"KY\", \"MI\", \"MN\", \"MO\", \"MT\", \"NC\", \"ND\", \"NE\", \"NJ\", \"NV\", \"NY\", \"OH\", \"OR\", \"PA\", \"PR\", \"TX\", \"UT\", \"VA\", \"WA\", \"WI\", \"CA\", \"CO\", \"FL\", \"GA\", \"IL\", \"IN\", \"KS\", \"LA\", \"MA\", \"MD\", \"ME\", \"MI\", \"MN\", \"MO\", \"MS\", \"NC\", \"NJ\", \"NV\", \"NY\", \"OH\", \"PA\", \"PR\", \"SC\", \"TN\", \"TX\", \"VA\", \"WA\", \"WI\", \"AZ\", \"CA\", \"FL\", \"IL\", \"IN\", \"MD\", \"MI\", \"MN\", \"MT\", \"NC\", \"ND\", \"NV\", \"OH\", \"PA\", \"TX\", \"WA\", \"WV\", \"CA\", \"HI\", \"NV\", \"OR\", \"WA\", \"AZ\", \"CA\", \"CO\", \"FL\", \"GA\", \"IA\", \"IL\", \"IN\", \"KS\", \"MA\", \"MD\", \"MI\", \"MN\", \"MO\", \"NE\", \"NJ\", \"NM\", \"NV\", \"NY\", \"OH\", \"OR\", \"PA\", \"TX\", \"UT\", \"VA\", \"WA\", \"WI\", \"CA\", \"HI\", \"IA\", \"IL\", \"KY\", \"NY\", \"VA\", \"AL\", \"AR\", \"CA\", \"CO\", \"CT\", \"FL\", \"GA\", \"IA\", \"IL\", \"IN\", \"KS\", \"KY\", \"LA\", \"MA\", \"MD\", \"ME\", \"MI\", \"MN\", \"MO\", \"MS\", \"NC\", \"NE\", \"NJ\", \"NM\", \"NV\", \"NY\", \"OH\", \"OK\", \"PA\", \"SC\", \"SD\", \"TN\", \"TX\", \"UT\", \"VA\", \"WI\", \"CA\", \"CO\", \"FL\", \"GA\", \"IL\", \"LA\", \"MA\", \"MD\", \"MI\", \"MN\", \"NJ\", \"NV\", \"NY\", \"OH\", \"OR\", \"PA\", \"PR\", \"SC\", \"TX\", \"VA\", \"VI\", \"AK\", \"AL\", \"AR\", \"AZ\", \"CA\", \"CO\", \"CT\", \"FL\", \"GA\", \"HI\", \"IA\", \"ID\", \"IL\", \"IN\", \"KS\", \"KY\", \"LA\", \"MA\", \"MD\", \"MI\", \"MN\", \"MO\", \"MS\", \"MT\", \"NC\", \"ND\", \"NE\", \"NH\", \"NJ\", \"NM\", \"NV\", \"NY\", \"OH\", \"OK\", \"OR\", \"PA\", \"PR\", \"RI\", \"SC\", \"SD\", \"TN\", \"TX\", \"UT\", \"VA\", \"WA\", \"WI\", \"AL\", \"AR\", \"CO\", \"CT\", \"FL\", \"GA\", \"IA\", \"IL\", \"IN\", \"KS\", \"KY\", \"LA\", \"MA\", \"ME\", \"MI\", \"MO\", \"MS\", \"NC\", \"NE\", \"NJ\", \"NY\", \"OH\", \"OK\", \"PA\", \"RI\", \"SC\", \"TN\", \"TX\", \"UT\", \"VA\", \"VT\", \"WI\", \"AL\", \"AR\", \"AZ\", \"CA\", \"CO\", \"CT\", \"GA\", \"IA\", \"ID\", \"IL\", \"IN\", \"KS\", \"KY\", \"LA\", \"MA\", \"MI\", \"MN\", \"MO\", \"MT\", \"NC\", \"ND\", \"NE\", \"NJ\", \"NM\", \"NV\", \"NY\", \"OH\", \"OK\", \"OR\", \"PA\", \"SD\", \"TN\", \"TX\", \"UT\", \"VA\", \"WA\", \"WI\", \"WV\", \"WY\", \"CA\", \"CO\", \"FL\", \"IN\", \"LA\", \"MA\", \"MI\", \"NC\", \"NY\", \"TN\", \"TX\", \"VA\", \"CA\", \"CT\", \"FL\", \"GA\", \"IL\", \"IN\", \"KY\", \"LA\", \"MA\", \"MD\", \"NC\", \"NJ\", \"NY\", \"OH\", \"PA\", \"RI\", \"SC\", \"TN\", \"TX\", \"VA\", \"WA\", \"WV\", \"CA\", \"NM\", \"WA\", \"AR\", \"AZ\", \"CA\", \"CO\", \"CT\", \"FL\", \"GA\", \"HI\", \"IA\", \"IL\", \"IN\", \"KS\", \"KY\", \"LA\", \"MA\", \"MD\", \"MI\", \"MN\", \"MO\", \"NC\", \"NE\", \"NJ\", \"NM\", \"NV\", \"NY\", \"OH\", \"OK\", \"OR\", \"PA\", \"PR\", \"SD\", \"TN\", \"TX\", \"UT\", \"VA\", \"WA\", \"WI\", \"FL\", \"HI\", \"IL\", \"IN\", \"MA\", \"NJ\", \"NV\", \"NY\", \"VA\", \"AK\", \"AL\", \"AR\", \"AZ\", \"CA\", \"CO\", \"CT\", \"FL\", \"GA\", \"HI\", \"IA\", \"ID\", \"IL\", \"IN\", \"KS\", \"KY\", \"LA\", \"MA\", \"MD\", \"ME\", \"MI\", \"MN\", \"MO\", \"MT\", \"NC\", \"ND\", \"NE\", \"NH\", \"NJ\", \"NM\", \"NV\", \"NY\", \"OH\", \"OK\", \"OR\", \"PA\", \"PR\", \"RI\", \"SC\", \"SD\", \"TN\", \"TX\", \"UT\", \"VA\", \"VT\", \"WA\", \"WI\", \"WY\", \"AL\", \"AR\", \"AZ\", \"CA\", \"CO\", \"CT\", \"FL\", \"GA\", \"ID\", \"IL\", \"IN\", \"KY\", \"LA\", \"MA\", \"MD\", \"ME\", \"MI\", \"MN\", \"MO\", \"NC\", \"NH\", \"NJ\", \"NM\", \"NV\", \"NY\", \"OH\", \"OR\", \"PA\", \"PR\", \"RI\", \"SC\", \"TN\", \"TX\", \"UT\", \"VA\", \"VI\", \"VT\", \"WA\", \"WI\", \"WV\", \"CA\", \"CO\", \"FL\", \"IL\", \"MA\", \"NJ\", \"NV\", \"NY\", \"OR\", \"TX\", \"VA\", \"WA\", \"AL\", \"AR\", \"AZ\", \"CA\", \"CO\", \"CT\", \"FL\", \"GA\", \"IA\", \"ID\", \"IL\", \"IN\", \"KS\", \"KY\", \"LA\", \"MA\", \"MD\", \"ME\", \"MI\", \"MN\", \"MO\", \"MS\", \"NC\", \"NE\", \"NH\", \"NJ\", \"NM\", \"NV\", \"NY\", \"OH\", \"OK\", \"OR\", \"PA\", \"PR\", \"RI\", \"SC\", \"TN\", \"TX\", \"UT\", \"VA\", \"WA\", \"WI\", \"AL\", \"AR\", \"AZ\", \"CA\", \"CO\", \"CT\", \"FL\", \"GA\", \"IA\", \"IL\", \"IN\", \"KS\", \"KY\", \"LA\", \"MA\", \"MD\", \"ME\", \"MI\", \"MN\", \"MO\", \"MS\", \"NC\", \"NE\", \"NH\", \"NJ\", \"NY\", \"OH\", \"OK\", \"PA\", \"RI\", \"SC\", \"TN\", \"TX\", \"VA\", \"VT\", \"WA\", \"WI\", \"WV\", \"AL\", \"AR\", \"AZ\", \"CA\", \"CO\", \"FL\", \"GA\", \"HI\", \"IA\", \"IL\", \"IN\", \"KS\", \"KY\", \"LA\", \"MI\", \"MN\", \"MO\", \"NC\", \"NV\", \"NY\", \"OH\", \"OK\", \"PA\", \"SC\", \"SD\", \"TN\", \"TX\", \"VA\", \"WI\", \"WY\", \"AR\", \"CO\", \"FL\", \"GA\", \"IL\", \"IN\", \"KY\", \"MA\", \"ME\", \"MI\", \"MN\", \"MO\", \"NC\", \"NH\", \"NJ\", \"NM\", \"NY\", \"OH\", \"PA\", \"SC\", \"TN\", \"TX\", \"VA\", \"VT\", \"WI\", \"\", \"\", \"\", \"\", \"\", \"\", \"\", \"\", \"\", \"\", \"\", \"\", \"\", \"\", \"\", \"\", \"\", \"\", \"\", \"\", \"\", \"\", \"\", \"\", \"\", \"\", \"\", \"\", \"\", \"\", \"\", \"\", \"\", \"\", \"\", \"\", \"\", \"\", \"\", \"\", \"\", \"\", \"\", \"\", \"\", \"\", \"\", \"\", \"\", \"\", \"\", \"\"], \"type\": \"treemap\", \"values\": [5.0, 2.0, 3.0, 4.0, 23.0, 1.0, 4.0, 8.0, 13.0, 2.0, 2.0, 1.0, 1.0, 45.0, 13.0, 5.0, 1.0, 5.0, 2.0, 28.0, 10.0, 2.0, 16.0, 1.0, 6.0, 3.0, 29.0, 6.0, 11.0, 1.0, 7.0, 2.0, 9.0, 10.0, 69.0, 332.0, 51.0, 13.0, 300.0, 45.0, 19.0, 7.0, 1.0, 363.0, 11.0, 4.0, 10.0, 15.0, 65.0, 20.0, 26.0, 24.0, 78.0, 126.0, 4.0, 40.0, 9.0, 51.0, 156.0, 31.0, 33.0, 13.0, 74.0, 37.0, 10.0, 1.0, 77.0, 860.0, 11.0, 94.0, 10.0, 33.0, 4.0, 1.0, 167.0, 14.0, 170.0, 10.0, 6.0, 3.0, 11.0, 3.0, 7.0, 1.0, 3.0, 2.0, 1.0, 3.0, 2.0, 12.0, 2.0, 76.0, 4.0, 3.0, 5.0, 205.0, 5.0, 58.0, 3.0, 4.0, 112.0, 3.0, 5.0, 6.0, 79.0, 3.0, 2.0, 5.0, 12.0, 1.0, 6.0, 124.0, 1.0, 1.0, 5.0, 19.0, 1.0, 12.0, 3.0, 21.0, 4.0, 4.0, 3.0, 14.0, 67.0, 75.0, 3.0, 109.0, 21.0, 6.0, 22.0, 8.0, 1.0, 2.0, 24.0, 29.0, 12.0, 2.0, 8.0, 8.0, 9.0, 2.0, 11.0, 4.0, 5.0, 1.0, 190.0, 5.0, 13.0, 27.0, 96.0, 10.0, 1.0, 10.0, 5.0, 3.0, 4.0, 1.0, 3.0, 3.0, 336.0, 7.0, 28.0, 1.0, 1.0, 17.0, 1.0, 3.0, 4.0, 2.0, 9.0, 1.0, 13.0, 1.0, 2.0, 2.0, 1.0, 9.0, 1.0, 3.0, 1.0, 3.0, 29.0, 12.0, 39.0, 23.0, 45.0, 224.0, 41.0, 26.0, 331.0, 906.0, 22.0, 2.0, 4.0, 34.0, 17.0, 4.0, 208.0, 52.0, 71.0, 31.0, 6.0, 94.0, 94.0, 34.0, 22.0, 18.0, 43.0, 3.0, 5.0, 23.0, 10.0, 47.0, 209.0, 42.0, 19.0, 24.0, 38.0, 6.0, 5.0, 21.0, 1.0, 69.0, 242.0, 181.0, 102.0, 3.0, 47.0, 21.0, 1.0, 8.0, 1.0, 1.0, 1.0, 29.0, 41.0, 1.0, 1.0, 4.0, 1.0, 2.0, 3.0, 1.0, 2.0, 1.0, 12.0, 2.0, 5.0, 2.0, 2.0, 2.0, 4.0, 34.0, 15.0, 1.0, 13.0, 1.0, 34.0, 227.0, 3.0, 47.0, 13.0, 8.0, 31.0, 25.0, 2.0, 2.0, 27.0, 3.0, 13.0, 13.0, 1.0, 34.0, 1.0, 5.0, 2.0, 30.0, 1.0, 25.0, 25.0, 15.0, 6.0, 3.0, 22.0, 2.0, 32.0, 120.0, 5.0, 38.0, 3.0, 8.0, 5.0, 4.0, 9.0, 65.0, 1.0, 9.0, 3.0, 5.0, 2.0, 2.0, 1.0, 2.0, 5.0, 1.0, 1.0, 1.0, 1.0, 4.0, 4.0, 5.0, 1.0, 1.0, 3.0, 1.0, 8.0, 2.0, 3.0, 8.0, 2.0, 4.0, 1.0, 58.0, 118.0, 11.0, 5.0, 2.0, 4.0, 7.0, 18.0, 1.0, 8.0, 3.0, 6.0, 1.0, 6.0, 3.0, 3.0, 16.0, 10.0, 12.0, 3.0, 1.0, 1.0, 12.0, 17.0, 2.0, 11.0, 2.0, 4.0, 9.0, 2.0, 1.0, 1.0, 1.0, 1.0, 1.0, 3.0, 1.0, 4.0, 2.0, 1.0, 1.0, 1.0, 1.0, 9.0, 145.0, 2.0, 2.0, 4.0, 169.0, 99.0, 7.0, 7.0, 1.0, 2.0, 7.0, 4.0, 2.0, 6.0, 2.0, 3.0, 3.0, 14.0, 6.0, 4.0, 4.0, 96.0, 9.0, 16.0, 9.0, 3.0, 16.0, 4.0, 2.0, 7.0, 1.0, 1.0, 18.0, 1.0, 5.0, 1.0, 1.0, 1.0, 10.0, 33.0, 94.0, 5.0, 4.0, 40.0, 6.0, 20.0, 215.0, 15.0, 3.0, 18.0, 15.0, 15.0, 2.0, 3.0, 19.0, 3.0, 20.0, 11.0, 40.0, 7.0, 5.0, 1.0, 2.0, 66.0, 29.0, 20.0, 17.0, 9.0, 2.0, 17.0, 279.0, 1.0, 25.0, 25.0, 8.0, 7.0, 26.0, 4.0, 12.0, 3.0, 2.0, 4.0, 6.0, 2.0, 4.0, 14.0, 2.0, 6.0, 1.0, 4.0, 2.0, 1.0, 11.0, 1.0, 1.0, 6.0, 5.0, 6.0, 11.0, 46.0, 19.0, 11.0, 53.0, 15.0, 5.0, 10.0, 1.0, 41.0, 17.0, 1.0, 9.0, 5.0, 24.0, 6.0, 367.0, 328.0, 33.0, 6.0, 14.0, 10.0, 21.0, 11.0, 2.0, 14.0, 3.0, 13.0, 43.0, 30.0, 2.0, 8.0, 31.0, 1.0, 2.0, 1.0, 6.0, 150.0, 30.0, 3.0, 32.0, 20.0, 45.0, 6.0, 1.0, 1.0, 1.0, 10.0, 15.0, 6.0, 5.0, 1.0, 1.0, 79.0, 2.0, 7.0, 3.0, 11.0, 4.0, 1.0, 49.0, 2.0, 1.0, 41.0, 9.0, 1.0, 13.0, 1.0, 9.0, 10.0, 1.0, 1.0, 25.0, 1.0, 3.0, 4.0, 2.0, 47.0, 418.0, 173.0, 2.0, 19.0, 8.0, 36.0, 121.0, 8.0, 6.0, 13.0, 1.0, 1.0, 42.0, 41.0, 14.0, 34.0, 6.0, 18.0, 9.0, 1.0, 11.0, 20.0, 13.0, 11.0, 6.0, 62.0, 7.0, 13.0, 26.0, 66.0, 160.0, 7.0, 39.0, 36.0, 3.0, 14.0, 3.0, 1.0, 7.0, 1.0, 1.0, 6.0, 1.0, 1.0, 15.0, 1.0, 1.0, 3.0, 1.0, 3.0, 15.0, 2.0, 2.0, 1.0, 3.0, 1.0, 2.0, 11.0, 30.0, 4.0, 13.0, 8.0, 2.0, 1.0, 1.0, 2.0, 3.0, 12.0, 1.0, 1.0, 4.0, 1.0, 4.0, 3.0, 4.0, 36.0, 7.0, 2.0, 44.0, 11.0, 1.0, 5.0, 14.0, 4.0, 3.0, 4.0, 9.0, 7.0, 3.0, 1.0, 10.0, 210.0, 3.0, 8.0, 3.0, 4.0, 5.0, 36.0, 8.0, 8.0, 3.0, 8.0, 2.0, 2.0, 5.0, 15.0, 2.0, 16.0, 6.0, 4.0, 3.0, 4.0, 19.0, 1.0, 1.0, 1.0, 1.0, 3.0, 1.0, 4.0, 1.0, 1.0, 44.0, 555.0, 348.0, 7.0, 79.0, 24.0, 37.0, 11.0, 16.0, 510.0, 6.0, 3.0, 6.0, 11.0, 44.0, 16.0, 1.0, 29.0, 30.0, 24.0, 8.0, 13.0, 2.0, 24.0, 4.0, 90.0, 2.0, 54.0, 72.0, 34.0, 6.0, 41.0, 40.0, 7.0, 3.0, 5.0, 1.0, 10.0, 125.0, 10.0, 138.0, 5.0, 60.0, 6.0, 3.0, 5.0, 1.0, 94.0, 140.0, 13.0, 21.0, 208.0, 26.0, 1.0, 31.0, 22.0, 15.0, 13.0, 74.0, 68.0, 6.0, 22.0, 7.0, 21.0, 426.0, 10.0, 29.0, 4.0, 38.0, 195.0, 63.0, 5.0, 473.0, 4.0, 19.0, 17.0, 27.0, 42.0, 3.0, 163.0, 1.0, 4.0, 19.0, 6.0, 6.0, 25.0, 1.0, 2.0, 2.0, 9.0, 3.0, 3.0, 9.0, 1.0, 1.0, 1.0, 2.0, 31.0, 15.0, 272.0, 838.0, 103.0, 15.0, 288.0, 30.0, 1.0, 9.0, 231.0, 31.0, 1.0, 20.0, 61.0, 17.0, 216.0, 3.0, 37.0, 11.0, 221.0, 7.0, 37.0, 12.0, 9.0, 7.0, 86.0, 310.0, 65.0, 35.0, 74.0, 50.0, 51.0, 5.0, 21.0, 2.0, 124.0, 681.0, 43.0, 34.0, 65.0, 17.0, 7.0, 4.0, 4.0, 11.0, 7.0, 1.0, 6.0, 2.0, 3.0, 13.0, 7.0, 4.0, 11.0, 11.0, 1.0, 5.0, 3.0, 9.0, 5.0, 9.0, 5.0, 16.0, 6.0, 4.0, 56.0, 20.0, 60.0, 3.0, 3.0, 2.0, 7.0, 16.0, 116.0, 21.0, 3.0, 1.0, 6.0, 1.0, 5.0, 1.0, 44.0, 16.0, 16.0, 4.0, 7.0, 21.0, 3.0, 23.0, 3.0, 1.0, 1.0, 2.0, 3.0, 1.0, 3.0, 31.0, 4.0, 3.0, 3.0, 3.0, 3.0, 6.0, 3.0, 5.0, 29.0, 37.0, 7.0, 1.0, 1.0, 3.0, 7.0, 1.0, 6.0, 5.0, 3.0, 5.0, 1.0, 4.0, 2.0, 2.0, 6.0, 1.0, 11.0, 1.0, 14.0, 6.0, 6.0, 1.0, 3.0, 4.0, 11.0, 1.0, 1.0, 192.0, 163.0, 118.0, 842.0, 3174.0, 970.0, 122.0, 1804.0, 1553.0, 289.0, 84.0, 72.0, 1766.0, 192.0, 44.0, 463.0, 265.0, 484.0, 421.0, 34.0, 768.0, 591.0, 730.0, 67.0, 79.0, 907.0, 53.0, 106.0, 34.0, 539.0, 142.0, 704.0, 1233.0, 538.0, 203.0, 298.0, 834.0, 92.0, 71.0, 118.0, 34.0, 612.0, 3.0, 3023.0, 439.0, 882.0, 16.0, 23.0, 545.0, 210.0, 20.0, 27.0]}],                        {\"coloraxis\": {\"colorbar\": {\"title\": {\"text\": \"Flights\"}}, \"colorscale\": [[0.0, \"rgb(103,0,31)\"], [0.1, \"rgb(178,24,43)\"], [0.2, \"rgb(214,96,77)\"], [0.3, \"rgb(244,165,130)\"], [0.4, \"rgb(253,219,199)\"], [0.5, \"rgb(247,247,247)\"], [0.6, \"rgb(209,229,240)\"], [0.7, \"rgb(146,197,222)\"], [0.8, \"rgb(67,147,195)\"], [0.9, \"rgb(33,102,172)\"], [1.0, \"rgb(5,48,97)\"]]}, \"legend\": {\"tracegroupgap\": 0}, \"template\": {\"data\": {\"bar\": [{\"error_x\": {\"color\": \"#2a3f5f\"}, \"error_y\": {\"color\": \"#2a3f5f\"}, \"marker\": {\"line\": {\"color\": \"#E5ECF6\", \"width\": 0.5}}, \"type\": \"bar\"}], \"barpolar\": [{\"marker\": {\"line\": {\"color\": \"#E5ECF6\", \"width\": 0.5}}, \"type\": \"barpolar\"}], \"carpet\": [{\"aaxis\": {\"endlinecolor\": \"#2a3f5f\", \"gridcolor\": \"white\", \"linecolor\": \"white\", \"minorgridcolor\": \"white\", \"startlinecolor\": \"#2a3f5f\"}, \"baxis\": {\"endlinecolor\": \"#2a3f5f\", \"gridcolor\": \"white\", \"linecolor\": \"white\", \"minorgridcolor\": \"white\", \"startlinecolor\": \"#2a3f5f\"}, \"type\": \"carpet\"}], \"choropleth\": [{\"colorbar\": {\"outlinewidth\": 0, \"ticks\": \"\"}, \"type\": \"choropleth\"}], \"contour\": [{\"colorbar\": {\"outlinewidth\": 0, \"ticks\": \"\"}, \"colorscale\": [[0.0, \"#0d0887\"], [0.1111111111111111, \"#46039f\"], [0.2222222222222222, \"#7201a8\"], [0.3333333333333333, \"#9c179e\"], [0.4444444444444444, \"#bd3786\"], [0.5555555555555556, \"#d8576b\"], [0.6666666666666666, \"#ed7953\"], [0.7777777777777778, \"#fb9f3a\"], [0.8888888888888888, \"#fdca26\"], [1.0, \"#f0f921\"]], \"type\": \"contour\"}], \"contourcarpet\": [{\"colorbar\": {\"outlinewidth\": 0, \"ticks\": \"\"}, \"type\": \"contourcarpet\"}], \"heatmap\": [{\"colorbar\": {\"outlinewidth\": 0, \"ticks\": \"\"}, \"colorscale\": [[0.0, \"#0d0887\"], [0.1111111111111111, \"#46039f\"], [0.2222222222222222, \"#7201a8\"], [0.3333333333333333, \"#9c179e\"], [0.4444444444444444, \"#bd3786\"], [0.5555555555555556, \"#d8576b\"], [0.6666666666666666, \"#ed7953\"], [0.7777777777777778, \"#fb9f3a\"], [0.8888888888888888, \"#fdca26\"], [1.0, \"#f0f921\"]], \"type\": \"heatmap\"}], \"heatmapgl\": [{\"colorbar\": {\"outlinewidth\": 0, \"ticks\": \"\"}, \"colorscale\": [[0.0, \"#0d0887\"], [0.1111111111111111, \"#46039f\"], [0.2222222222222222, \"#7201a8\"], [0.3333333333333333, \"#9c179e\"], [0.4444444444444444, \"#bd3786\"], [0.5555555555555556, \"#d8576b\"], [0.6666666666666666, \"#ed7953\"], [0.7777777777777778, \"#fb9f3a\"], [0.8888888888888888, \"#fdca26\"], [1.0, \"#f0f921\"]], \"type\": \"heatmapgl\"}], \"histogram\": [{\"marker\": {\"colorbar\": {\"outlinewidth\": 0, \"ticks\": \"\"}}, \"type\": \"histogram\"}], \"histogram2d\": [{\"colorbar\": {\"outlinewidth\": 0, \"ticks\": \"\"}, \"colorscale\": [[0.0, \"#0d0887\"], [0.1111111111111111, \"#46039f\"], [0.2222222222222222, \"#7201a8\"], [0.3333333333333333, \"#9c179e\"], [0.4444444444444444, \"#bd3786\"], [0.5555555555555556, \"#d8576b\"], [0.6666666666666666, \"#ed7953\"], [0.7777777777777778, \"#fb9f3a\"], [0.8888888888888888, \"#fdca26\"], [1.0, \"#f0f921\"]], \"type\": \"histogram2d\"}], \"histogram2dcontour\": [{\"colorbar\": {\"outlinewidth\": 0, \"ticks\": \"\"}, \"colorscale\": [[0.0, \"#0d0887\"], [0.1111111111111111, \"#46039f\"], [0.2222222222222222, \"#7201a8\"], [0.3333333333333333, \"#9c179e\"], [0.4444444444444444, \"#bd3786\"], [0.5555555555555556, \"#d8576b\"], [0.6666666666666666, \"#ed7953\"], [0.7777777777777778, \"#fb9f3a\"], [0.8888888888888888, \"#fdca26\"], [1.0, \"#f0f921\"]], \"type\": \"histogram2dcontour\"}], \"mesh3d\": [{\"colorbar\": {\"outlinewidth\": 0, \"ticks\": \"\"}, \"type\": \"mesh3d\"}], \"parcoords\": [{\"line\": {\"colorbar\": {\"outlinewidth\": 0, \"ticks\": \"\"}}, \"type\": \"parcoords\"}], \"pie\": [{\"automargin\": true, \"type\": \"pie\"}], \"scatter\": [{\"marker\": {\"colorbar\": {\"outlinewidth\": 0, \"ticks\": \"\"}}, \"type\": \"scatter\"}], \"scatter3d\": [{\"line\": {\"colorbar\": {\"outlinewidth\": 0, \"ticks\": \"\"}}, \"marker\": {\"colorbar\": {\"outlinewidth\": 0, \"ticks\": \"\"}}, \"type\": \"scatter3d\"}], \"scattercarpet\": [{\"marker\": {\"colorbar\": {\"outlinewidth\": 0, \"ticks\": \"\"}}, \"type\": \"scattercarpet\"}], \"scattergeo\": [{\"marker\": {\"colorbar\": {\"outlinewidth\": 0, \"ticks\": \"\"}}, \"type\": \"scattergeo\"}], \"scattergl\": [{\"marker\": {\"colorbar\": {\"outlinewidth\": 0, \"ticks\": \"\"}}, \"type\": \"scattergl\"}], \"scattermapbox\": [{\"marker\": {\"colorbar\": {\"outlinewidth\": 0, \"ticks\": \"\"}}, \"type\": \"scattermapbox\"}], \"scatterpolar\": [{\"marker\": {\"colorbar\": {\"outlinewidth\": 0, \"ticks\": \"\"}}, \"type\": \"scatterpolar\"}], \"scatterpolargl\": [{\"marker\": {\"colorbar\": {\"outlinewidth\": 0, \"ticks\": \"\"}}, \"type\": \"scatterpolargl\"}], \"scatterternary\": [{\"marker\": {\"colorbar\": {\"outlinewidth\": 0, \"ticks\": \"\"}}, \"type\": \"scatterternary\"}], \"surface\": [{\"colorbar\": {\"outlinewidth\": 0, \"ticks\": \"\"}, \"colorscale\": [[0.0, \"#0d0887\"], [0.1111111111111111, \"#46039f\"], [0.2222222222222222, \"#7201a8\"], [0.3333333333333333, \"#9c179e\"], [0.4444444444444444, \"#bd3786\"], [0.5555555555555556, \"#d8576b\"], [0.6666666666666666, \"#ed7953\"], [0.7777777777777778, \"#fb9f3a\"], [0.8888888888888888, \"#fdca26\"], [1.0, \"#f0f921\"]], \"type\": \"surface\"}], \"table\": [{\"cells\": {\"fill\": {\"color\": \"#EBF0F8\"}, \"line\": {\"color\": \"white\"}}, \"header\": {\"fill\": {\"color\": \"#C8D4E3\"}, \"line\": {\"color\": \"white\"}}, \"type\": \"table\"}]}, \"layout\": {\"annotationdefaults\": {\"arrowcolor\": \"#2a3f5f\", \"arrowhead\": 0, \"arrowwidth\": 1}, \"autotypenumbers\": \"strict\", \"coloraxis\": {\"colorbar\": {\"outlinewidth\": 0, \"ticks\": \"\"}}, \"colorscale\": {\"diverging\": [[0, \"#8e0152\"], [0.1, \"#c51b7d\"], [0.2, \"#de77ae\"], [0.3, \"#f1b6da\"], [0.4, \"#fde0ef\"], [0.5, \"#f7f7f7\"], [0.6, \"#e6f5d0\"], [0.7, \"#b8e186\"], [0.8, \"#7fbc41\"], [0.9, \"#4d9221\"], [1, \"#276419\"]], \"sequential\": [[0.0, \"#0d0887\"], [0.1111111111111111, \"#46039f\"], [0.2222222222222222, \"#7201a8\"], [0.3333333333333333, \"#9c179e\"], [0.4444444444444444, \"#bd3786\"], [0.5555555555555556, \"#d8576b\"], [0.6666666666666666, \"#ed7953\"], [0.7777777777777778, \"#fb9f3a\"], [0.8888888888888888, \"#fdca26\"], [1.0, \"#f0f921\"]], \"sequentialminus\": [[0.0, \"#0d0887\"], [0.1111111111111111, \"#46039f\"], [0.2222222222222222, \"#7201a8\"], [0.3333333333333333, \"#9c179e\"], [0.4444444444444444, \"#bd3786\"], [0.5555555555555556, \"#d8576b\"], [0.6666666666666666, \"#ed7953\"], [0.7777777777777778, \"#fb9f3a\"], [0.8888888888888888, \"#fdca26\"], [1.0, \"#f0f921\"]]}, \"colorway\": [\"#636efa\", \"#EF553B\", \"#00cc96\", \"#ab63fa\", \"#FFA15A\", \"#19d3f3\", \"#FF6692\", \"#B6E880\", \"#FF97FF\", \"#FECB52\"], \"font\": {\"color\": \"#2a3f5f\"}, \"geo\": {\"bgcolor\": \"white\", \"lakecolor\": \"white\", \"landcolor\": \"#E5ECF6\", \"showlakes\": true, \"showland\": true, \"subunitcolor\": \"white\"}, \"hoverlabel\": {\"align\": \"left\"}, \"hovermode\": \"closest\", \"mapbox\": {\"style\": \"light\"}, \"paper_bgcolor\": \"white\", \"plot_bgcolor\": \"#E5ECF6\", \"polar\": {\"angularaxis\": {\"gridcolor\": \"white\", \"linecolor\": \"white\", \"ticks\": \"\"}, \"bgcolor\": \"#E5ECF6\", \"radialaxis\": {\"gridcolor\": \"white\", \"linecolor\": \"white\", \"ticks\": \"\"}}, \"scene\": {\"xaxis\": {\"backgroundcolor\": \"#E5ECF6\", \"gridcolor\": \"white\", \"gridwidth\": 2, \"linecolor\": \"white\", \"showbackground\": true, \"ticks\": \"\", \"zerolinecolor\": \"white\"}, \"yaxis\": {\"backgroundcolor\": \"#E5ECF6\", \"gridcolor\": \"white\", \"gridwidth\": 2, \"linecolor\": \"white\", \"showbackground\": true, \"ticks\": \"\", \"zerolinecolor\": \"white\"}, \"zaxis\": {\"backgroundcolor\": \"#E5ECF6\", \"gridcolor\": \"white\", \"gridwidth\": 2, \"linecolor\": \"white\", \"showbackground\": true, \"ticks\": \"\", \"zerolinecolor\": \"white\"}}, \"shapedefaults\": {\"line\": {\"color\": \"#2a3f5f\"}}, \"ternary\": {\"aaxis\": {\"gridcolor\": \"white\", \"linecolor\": \"white\", \"ticks\": \"\"}, \"baxis\": {\"gridcolor\": \"white\", \"linecolor\": \"white\", \"ticks\": \"\"}, \"bgcolor\": \"#E5ECF6\", \"caxis\": {\"gridcolor\": \"white\", \"linecolor\": \"white\", \"ticks\": \"\"}}, \"title\": {\"x\": 0.05}, \"xaxis\": {\"automargin\": true, \"gridcolor\": \"white\", \"linecolor\": \"white\", \"ticks\": \"\", \"title\": {\"standoff\": 15}, \"zerolinecolor\": \"white\", \"zerolinewidth\": 2}, \"yaxis\": {\"automargin\": true, \"gridcolor\": \"white\", \"linecolor\": \"white\", \"ticks\": \"\", \"title\": {\"standoff\": 15}, \"zerolinecolor\": \"white\", \"zerolinewidth\": 2}}}, \"title\": {\"text\": \"Flights count by airline to destination state\"}},                        {\"responsive\": true}                    ).then(function(){\n",
       "                            \n",
       "var gd = document.getElementById('16ecb05f-1c13-4e3e-9d45-23d70ae671a9');\n",
       "var x = new MutationObserver(function (mutations, observer) {{\n",
       "        var display = window.getComputedStyle(gd).display;\n",
       "        if (!display || display === 'none') {{\n",
       "            console.log([gd, 'removed!']);\n",
       "            Plotly.purge(gd);\n",
       "            observer.disconnect();\n",
       "        }}\n",
       "}});\n",
       "\n",
       "// Listen for the removal of the full notebook cells\n",
       "var notebookContainer = gd.closest('#notebook-container');\n",
       "if (notebookContainer) {{\n",
       "    x.observe(notebookContainer, {childList: true});\n",
       "}}\n",
       "\n",
       "// Listen for the clearing of the current output cell\n",
       "var outputEl = gd.closest('.output');\n",
       "if (outputEl) {{\n",
       "    x.observe(outputEl, {childList: true});\n",
       "}}\n",
       "\n",
       "                        })                };                });            </script>        </div>"
      ]
     },
     "metadata": {},
     "output_type": "display_data"
    }
   ],
   "source": [
    "tree_fig.show()"
   ]
  },
  {
   "cell_type": "code",
   "execution_count": 34,
   "metadata": {},
   "outputs": [
    {
     "data": {
      "application/vnd.plotly.v1+json": {
       "config": {
        "plotlyServerURL": "https://plot.ly"
       },
       "data": [
        {
         "coloraxis": "coloraxis",
         "customdata": [
          [
           "AK",
           176
          ],
          [
           "AL",
           130
          ],
          [
           "AR",
           98
          ],
          [
           "AZ",
           862
          ],
          [
           "CA",
           3286
          ],
          [
           "CO",
           847
          ],
          [
           "CT",
           130
          ],
          [
           "FL",
           1849
          ],
          [
           "GA",
           1537
          ],
          [
           "HI",
           284
          ],
          [
           "IA",
           85
          ],
          [
           "ID",
           87
          ],
          [
           "IL",
           1777
          ],
          [
           "IN",
           194
          ],
          [
           "KS",
           47
          ],
          [
           "KY",
           407
          ],
          [
           "LA",
           302
          ],
          [
           "MA",
           495
          ],
          [
           "MD",
           396
          ],
          [
           "ME",
           41
          ],
          [
           "MI",
           754
          ],
          [
           "MN",
           651
          ],
          [
           "MO",
           717
          ],
          [
           "MS",
           64
          ],
          [
           "MT",
           83
          ],
          [
           "NC",
           931
          ],
          [
           "ND",
           47
          ],
          [
           "NE",
           113
          ],
          [
           "NH",
           41
          ],
          [
           "NJ",
           550
          ],
          [
           "NM",
           173
          ],
          [
           "NV",
           686
          ],
          [
           "NY",
           1200
          ],
          [
           "OH",
           516
          ],
          [
           "OK",
           207
          ],
          [
           "OR",
           257
          ],
          [
           "PA",
           877
          ],
          [
           "PR",
           105
          ],
          [
           "RI",
           94
          ],
          [
           "SC",
           162
          ],
          [
           "SD",
           28
          ],
          [
           "TN",
           530
          ],
          [
           "TT",
           4
          ],
          [
           "TX",
           3013
          ],
          [
           "UT",
           498
          ],
          [
           "VA",
           850
          ],
          [
           "VI",
           17
          ],
          [
           "VT",
           21
          ],
          [
           "WA",
           531
          ],
          [
           "WI",
           200
          ],
          [
           "WV",
           16
          ],
          [
           "WY",
           28
          ]
         ],
         "geo": "geo",
         "hovertemplate": "OriginState=%{customdata[0]}<br>Flights=%{z}<extra></extra>",
         "locationmode": "USA-states",
         "locations": [
          "AK",
          "AL",
          "AR",
          "AZ",
          "CA",
          "CO",
          "CT",
          "FL",
          "GA",
          "HI",
          "IA",
          "ID",
          "IL",
          "IN",
          "KS",
          "KY",
          "LA",
          "MA",
          "MD",
          "ME",
          "MI",
          "MN",
          "MO",
          "MS",
          "MT",
          "NC",
          "ND",
          "NE",
          "NH",
          "NJ",
          "NM",
          "NV",
          "NY",
          "OH",
          "OK",
          "OR",
          "PA",
          "PR",
          "RI",
          "SC",
          "SD",
          "TN",
          "TT",
          "TX",
          "UT",
          "VA",
          "VI",
          "VT",
          "WA",
          "WI",
          "WV",
          "WY"
         ],
         "name": "",
         "type": "choropleth",
         "z": [
          176,
          130,
          98,
          862,
          3286,
          847,
          130,
          1849,
          1537,
          284,
          85,
          87,
          1777,
          194,
          47,
          407,
          302,
          495,
          396,
          41,
          754,
          651,
          717,
          64,
          83,
          931,
          47,
          113,
          41,
          550,
          173,
          686,
          1200,
          516,
          207,
          257,
          877,
          105,
          94,
          162,
          28,
          530,
          4,
          3013,
          498,
          850,
          17,
          21,
          531,
          200,
          16,
          28
         ]
        }
       ],
       "layout": {
        "coloraxis": {
         "cmax": 3286,
         "cmin": 0,
         "colorbar": {
          "title": {
           "text": "Flights"
          }
         },
         "colorscale": [
          [
           0,
           "rgb(247,252,240)"
          ],
          [
           0.125,
           "rgb(224,243,219)"
          ],
          [
           0.25,
           "rgb(204,235,197)"
          ],
          [
           0.375,
           "rgb(168,221,181)"
          ],
          [
           0.5,
           "rgb(123,204,196)"
          ],
          [
           0.625,
           "rgb(78,179,211)"
          ],
          [
           0.75,
           "rgb(43,140,190)"
          ],
          [
           0.875,
           "rgb(8,104,172)"
          ],
          [
           1,
           "rgb(8,64,129)"
          ]
         ]
        },
        "geo": {
         "center": {},
         "domain": {
          "x": [
           0,
           1
          ],
          "y": [
           0,
           1
          ]
         },
         "scope": "usa"
        },
        "legend": {
         "tracegroupgap": 0
        },
        "margin": {
         "t": 60
        },
        "template": {
         "data": {
          "bar": [
           {
            "error_x": {
             "color": "#2a3f5f"
            },
            "error_y": {
             "color": "#2a3f5f"
            },
            "marker": {
             "line": {
              "color": "#E5ECF6",
              "width": 0.5
             }
            },
            "type": "bar"
           }
          ],
          "barpolar": [
           {
            "marker": {
             "line": {
              "color": "#E5ECF6",
              "width": 0.5
             }
            },
            "type": "barpolar"
           }
          ],
          "carpet": [
           {
            "aaxis": {
             "endlinecolor": "#2a3f5f",
             "gridcolor": "white",
             "linecolor": "white",
             "minorgridcolor": "white",
             "startlinecolor": "#2a3f5f"
            },
            "baxis": {
             "endlinecolor": "#2a3f5f",
             "gridcolor": "white",
             "linecolor": "white",
             "minorgridcolor": "white",
             "startlinecolor": "#2a3f5f"
            },
            "type": "carpet"
           }
          ],
          "choropleth": [
           {
            "colorbar": {
             "outlinewidth": 0,
             "ticks": ""
            },
            "type": "choropleth"
           }
          ],
          "contour": [
           {
            "colorbar": {
             "outlinewidth": 0,
             "ticks": ""
            },
            "colorscale": [
             [
              0,
              "#0d0887"
             ],
             [
              0.1111111111111111,
              "#46039f"
             ],
             [
              0.2222222222222222,
              "#7201a8"
             ],
             [
              0.3333333333333333,
              "#9c179e"
             ],
             [
              0.4444444444444444,
              "#bd3786"
             ],
             [
              0.5555555555555556,
              "#d8576b"
             ],
             [
              0.6666666666666666,
              "#ed7953"
             ],
             [
              0.7777777777777778,
              "#fb9f3a"
             ],
             [
              0.8888888888888888,
              "#fdca26"
             ],
             [
              1,
              "#f0f921"
             ]
            ],
            "type": "contour"
           }
          ],
          "contourcarpet": [
           {
            "colorbar": {
             "outlinewidth": 0,
             "ticks": ""
            },
            "type": "contourcarpet"
           }
          ],
          "heatmap": [
           {
            "colorbar": {
             "outlinewidth": 0,
             "ticks": ""
            },
            "colorscale": [
             [
              0,
              "#0d0887"
             ],
             [
              0.1111111111111111,
              "#46039f"
             ],
             [
              0.2222222222222222,
              "#7201a8"
             ],
             [
              0.3333333333333333,
              "#9c179e"
             ],
             [
              0.4444444444444444,
              "#bd3786"
             ],
             [
              0.5555555555555556,
              "#d8576b"
             ],
             [
              0.6666666666666666,
              "#ed7953"
             ],
             [
              0.7777777777777778,
              "#fb9f3a"
             ],
             [
              0.8888888888888888,
              "#fdca26"
             ],
             [
              1,
              "#f0f921"
             ]
            ],
            "type": "heatmap"
           }
          ],
          "heatmapgl": [
           {
            "colorbar": {
             "outlinewidth": 0,
             "ticks": ""
            },
            "colorscale": [
             [
              0,
              "#0d0887"
             ],
             [
              0.1111111111111111,
              "#46039f"
             ],
             [
              0.2222222222222222,
              "#7201a8"
             ],
             [
              0.3333333333333333,
              "#9c179e"
             ],
             [
              0.4444444444444444,
              "#bd3786"
             ],
             [
              0.5555555555555556,
              "#d8576b"
             ],
             [
              0.6666666666666666,
              "#ed7953"
             ],
             [
              0.7777777777777778,
              "#fb9f3a"
             ],
             [
              0.8888888888888888,
              "#fdca26"
             ],
             [
              1,
              "#f0f921"
             ]
            ],
            "type": "heatmapgl"
           }
          ],
          "histogram": [
           {
            "marker": {
             "colorbar": {
              "outlinewidth": 0,
              "ticks": ""
             }
            },
            "type": "histogram"
           }
          ],
          "histogram2d": [
           {
            "colorbar": {
             "outlinewidth": 0,
             "ticks": ""
            },
            "colorscale": [
             [
              0,
              "#0d0887"
             ],
             [
              0.1111111111111111,
              "#46039f"
             ],
             [
              0.2222222222222222,
              "#7201a8"
             ],
             [
              0.3333333333333333,
              "#9c179e"
             ],
             [
              0.4444444444444444,
              "#bd3786"
             ],
             [
              0.5555555555555556,
              "#d8576b"
             ],
             [
              0.6666666666666666,
              "#ed7953"
             ],
             [
              0.7777777777777778,
              "#fb9f3a"
             ],
             [
              0.8888888888888888,
              "#fdca26"
             ],
             [
              1,
              "#f0f921"
             ]
            ],
            "type": "histogram2d"
           }
          ],
          "histogram2dcontour": [
           {
            "colorbar": {
             "outlinewidth": 0,
             "ticks": ""
            },
            "colorscale": [
             [
              0,
              "#0d0887"
             ],
             [
              0.1111111111111111,
              "#46039f"
             ],
             [
              0.2222222222222222,
              "#7201a8"
             ],
             [
              0.3333333333333333,
              "#9c179e"
             ],
             [
              0.4444444444444444,
              "#bd3786"
             ],
             [
              0.5555555555555556,
              "#d8576b"
             ],
             [
              0.6666666666666666,
              "#ed7953"
             ],
             [
              0.7777777777777778,
              "#fb9f3a"
             ],
             [
              0.8888888888888888,
              "#fdca26"
             ],
             [
              1,
              "#f0f921"
             ]
            ],
            "type": "histogram2dcontour"
           }
          ],
          "mesh3d": [
           {
            "colorbar": {
             "outlinewidth": 0,
             "ticks": ""
            },
            "type": "mesh3d"
           }
          ],
          "parcoords": [
           {
            "line": {
             "colorbar": {
              "outlinewidth": 0,
              "ticks": ""
             }
            },
            "type": "parcoords"
           }
          ],
          "pie": [
           {
            "automargin": true,
            "type": "pie"
           }
          ],
          "scatter": [
           {
            "marker": {
             "colorbar": {
              "outlinewidth": 0,
              "ticks": ""
             }
            },
            "type": "scatter"
           }
          ],
          "scatter3d": [
           {
            "line": {
             "colorbar": {
              "outlinewidth": 0,
              "ticks": ""
             }
            },
            "marker": {
             "colorbar": {
              "outlinewidth": 0,
              "ticks": ""
             }
            },
            "type": "scatter3d"
           }
          ],
          "scattercarpet": [
           {
            "marker": {
             "colorbar": {
              "outlinewidth": 0,
              "ticks": ""
             }
            },
            "type": "scattercarpet"
           }
          ],
          "scattergeo": [
           {
            "marker": {
             "colorbar": {
              "outlinewidth": 0,
              "ticks": ""
             }
            },
            "type": "scattergeo"
           }
          ],
          "scattergl": [
           {
            "marker": {
             "colorbar": {
              "outlinewidth": 0,
              "ticks": ""
             }
            },
            "type": "scattergl"
           }
          ],
          "scattermapbox": [
           {
            "marker": {
             "colorbar": {
              "outlinewidth": 0,
              "ticks": ""
             }
            },
            "type": "scattermapbox"
           }
          ],
          "scatterpolar": [
           {
            "marker": {
             "colorbar": {
              "outlinewidth": 0,
              "ticks": ""
             }
            },
            "type": "scatterpolar"
           }
          ],
          "scatterpolargl": [
           {
            "marker": {
             "colorbar": {
              "outlinewidth": 0,
              "ticks": ""
             }
            },
            "type": "scatterpolargl"
           }
          ],
          "scatterternary": [
           {
            "marker": {
             "colorbar": {
              "outlinewidth": 0,
              "ticks": ""
             }
            },
            "type": "scatterternary"
           }
          ],
          "surface": [
           {
            "colorbar": {
             "outlinewidth": 0,
             "ticks": ""
            },
            "colorscale": [
             [
              0,
              "#0d0887"
             ],
             [
              0.1111111111111111,
              "#46039f"
             ],
             [
              0.2222222222222222,
              "#7201a8"
             ],
             [
              0.3333333333333333,
              "#9c179e"
             ],
             [
              0.4444444444444444,
              "#bd3786"
             ],
             [
              0.5555555555555556,
              "#d8576b"
             ],
             [
              0.6666666666666666,
              "#ed7953"
             ],
             [
              0.7777777777777778,
              "#fb9f3a"
             ],
             [
              0.8888888888888888,
              "#fdca26"
             ],
             [
              1,
              "#f0f921"
             ]
            ],
            "type": "surface"
           }
          ],
          "table": [
           {
            "cells": {
             "fill": {
              "color": "#EBF0F8"
             },
             "line": {
              "color": "white"
             }
            },
            "header": {
             "fill": {
              "color": "#C8D4E3"
             },
             "line": {
              "color": "white"
             }
            },
            "type": "table"
           }
          ]
         },
         "layout": {
          "annotationdefaults": {
           "arrowcolor": "#2a3f5f",
           "arrowhead": 0,
           "arrowwidth": 1
          },
          "autotypenumbers": "strict",
          "coloraxis": {
           "colorbar": {
            "outlinewidth": 0,
            "ticks": ""
           }
          },
          "colorscale": {
           "diverging": [
            [
             0,
             "#8e0152"
            ],
            [
             0.1,
             "#c51b7d"
            ],
            [
             0.2,
             "#de77ae"
            ],
            [
             0.3,
             "#f1b6da"
            ],
            [
             0.4,
             "#fde0ef"
            ],
            [
             0.5,
             "#f7f7f7"
            ],
            [
             0.6,
             "#e6f5d0"
            ],
            [
             0.7,
             "#b8e186"
            ],
            [
             0.8,
             "#7fbc41"
            ],
            [
             0.9,
             "#4d9221"
            ],
            [
             1,
             "#276419"
            ]
           ],
           "sequential": [
            [
             0,
             "#0d0887"
            ],
            [
             0.1111111111111111,
             "#46039f"
            ],
            [
             0.2222222222222222,
             "#7201a8"
            ],
            [
             0.3333333333333333,
             "#9c179e"
            ],
            [
             0.4444444444444444,
             "#bd3786"
            ],
            [
             0.5555555555555556,
             "#d8576b"
            ],
            [
             0.6666666666666666,
             "#ed7953"
            ],
            [
             0.7777777777777778,
             "#fb9f3a"
            ],
            [
             0.8888888888888888,
             "#fdca26"
            ],
            [
             1,
             "#f0f921"
            ]
           ],
           "sequentialminus": [
            [
             0,
             "#0d0887"
            ],
            [
             0.1111111111111111,
             "#46039f"
            ],
            [
             0.2222222222222222,
             "#7201a8"
            ],
            [
             0.3333333333333333,
             "#9c179e"
            ],
            [
             0.4444444444444444,
             "#bd3786"
            ],
            [
             0.5555555555555556,
             "#d8576b"
            ],
            [
             0.6666666666666666,
             "#ed7953"
            ],
            [
             0.7777777777777778,
             "#fb9f3a"
            ],
            [
             0.8888888888888888,
             "#fdca26"
            ],
            [
             1,
             "#f0f921"
            ]
           ]
          },
          "colorway": [
           "#636efa",
           "#EF553B",
           "#00cc96",
           "#ab63fa",
           "#FFA15A",
           "#19d3f3",
           "#FF6692",
           "#B6E880",
           "#FF97FF",
           "#FECB52"
          ],
          "font": {
           "color": "#2a3f5f"
          },
          "geo": {
           "bgcolor": "white",
           "lakecolor": "white",
           "landcolor": "#E5ECF6",
           "showlakes": true,
           "showland": true,
           "subunitcolor": "white"
          },
          "hoverlabel": {
           "align": "left"
          },
          "hovermode": "closest",
          "mapbox": {
           "style": "light"
          },
          "paper_bgcolor": "white",
          "plot_bgcolor": "#E5ECF6",
          "polar": {
           "angularaxis": {
            "gridcolor": "white",
            "linecolor": "white",
            "ticks": ""
           },
           "bgcolor": "#E5ECF6",
           "radialaxis": {
            "gridcolor": "white",
            "linecolor": "white",
            "ticks": ""
           }
          },
          "scene": {
           "xaxis": {
            "backgroundcolor": "#E5ECF6",
            "gridcolor": "white",
            "gridwidth": 2,
            "linecolor": "white",
            "showbackground": true,
            "ticks": "",
            "zerolinecolor": "white"
           },
           "yaxis": {
            "backgroundcolor": "#E5ECF6",
            "gridcolor": "white",
            "gridwidth": 2,
            "linecolor": "white",
            "showbackground": true,
            "ticks": "",
            "zerolinecolor": "white"
           },
           "zaxis": {
            "backgroundcolor": "#E5ECF6",
            "gridcolor": "white",
            "gridwidth": 2,
            "linecolor": "white",
            "showbackground": true,
            "ticks": "",
            "zerolinecolor": "white"
           }
          },
          "shapedefaults": {
           "line": {
            "color": "#2a3f5f"
           }
          },
          "ternary": {
           "aaxis": {
            "gridcolor": "white",
            "linecolor": "white",
            "ticks": ""
           },
           "baxis": {
            "gridcolor": "white",
            "linecolor": "white",
            "ticks": ""
           },
           "bgcolor": "#E5ECF6",
           "caxis": {
            "gridcolor": "white",
            "linecolor": "white",
            "ticks": ""
           }
          },
          "title": {
           "x": 0.05
          },
          "xaxis": {
           "automargin": true,
           "gridcolor": "white",
           "linecolor": "white",
           "ticks": "",
           "title": {
            "standoff": 15
           },
           "zerolinecolor": "white",
           "zerolinewidth": 2
          },
          "yaxis": {
           "automargin": true,
           "gridcolor": "white",
           "linecolor": "white",
           "ticks": "",
           "title": {
            "standoff": 15
           },
           "zerolinecolor": "white",
           "zerolinewidth": 2
          }
         }
        },
        "title": {
         "text": "Number of flights from origin state"
        }
       }
      },
      "text/html": [
       "<div>                            <div id=\"29a19aa6-c1a2-4294-ba38-4c514fa5e24b\" class=\"plotly-graph-div\" style=\"height:525px; width:100%;\"></div>            <script type=\"text/javascript\">                require([\"plotly\"], function(Plotly) {                    window.PLOTLYENV=window.PLOTLYENV || {};                                    if (document.getElementById(\"29a19aa6-c1a2-4294-ba38-4c514fa5e24b\")) {                    Plotly.newPlot(                        \"29a19aa6-c1a2-4294-ba38-4c514fa5e24b\",                        [{\"coloraxis\": \"coloraxis\", \"customdata\": [[\"AK\", 176.0], [\"AL\", 130.0], [\"AR\", 98.0], [\"AZ\", 862.0], [\"CA\", 3286.0], [\"CO\", 847.0], [\"CT\", 130.0], [\"FL\", 1849.0], [\"GA\", 1537.0], [\"HI\", 284.0], [\"IA\", 85.0], [\"ID\", 87.0], [\"IL\", 1777.0], [\"IN\", 194.0], [\"KS\", 47.0], [\"KY\", 407.0], [\"LA\", 302.0], [\"MA\", 495.0], [\"MD\", 396.0], [\"ME\", 41.0], [\"MI\", 754.0], [\"MN\", 651.0], [\"MO\", 717.0], [\"MS\", 64.0], [\"MT\", 83.0], [\"NC\", 931.0], [\"ND\", 47.0], [\"NE\", 113.0], [\"NH\", 41.0], [\"NJ\", 550.0], [\"NM\", 173.0], [\"NV\", 686.0], [\"NY\", 1200.0], [\"OH\", 516.0], [\"OK\", 207.0], [\"OR\", 257.0], [\"PA\", 877.0], [\"PR\", 105.0], [\"RI\", 94.0], [\"SC\", 162.0], [\"SD\", 28.0], [\"TN\", 530.0], [\"TT\", 4.0], [\"TX\", 3013.0], [\"UT\", 498.0], [\"VA\", 850.0], [\"VI\", 17.0], [\"VT\", 21.0], [\"WA\", 531.0], [\"WI\", 200.0], [\"WV\", 16.0], [\"WY\", 28.0]], \"geo\": \"geo\", \"hovertemplate\": \"OriginState=%{customdata[0]}<br>Flights=%{z}<extra></extra>\", \"locationmode\": \"USA-states\", \"locations\": [\"AK\", \"AL\", \"AR\", \"AZ\", \"CA\", \"CO\", \"CT\", \"FL\", \"GA\", \"HI\", \"IA\", \"ID\", \"IL\", \"IN\", \"KS\", \"KY\", \"LA\", \"MA\", \"MD\", \"ME\", \"MI\", \"MN\", \"MO\", \"MS\", \"MT\", \"NC\", \"ND\", \"NE\", \"NH\", \"NJ\", \"NM\", \"NV\", \"NY\", \"OH\", \"OK\", \"OR\", \"PA\", \"PR\", \"RI\", \"SC\", \"SD\", \"TN\", \"TT\", \"TX\", \"UT\", \"VA\", \"VI\", \"VT\", \"WA\", \"WI\", \"WV\", \"WY\"], \"name\": \"\", \"type\": \"choropleth\", \"z\": [176.0, 130.0, 98.0, 862.0, 3286.0, 847.0, 130.0, 1849.0, 1537.0, 284.0, 85.0, 87.0, 1777.0, 194.0, 47.0, 407.0, 302.0, 495.0, 396.0, 41.0, 754.0, 651.0, 717.0, 64.0, 83.0, 931.0, 47.0, 113.0, 41.0, 550.0, 173.0, 686.0, 1200.0, 516.0, 207.0, 257.0, 877.0, 105.0, 94.0, 162.0, 28.0, 530.0, 4.0, 3013.0, 498.0, 850.0, 17.0, 21.0, 531.0, 200.0, 16.0, 28.0]}],                        {\"coloraxis\": {\"cmax\": 3286.0, \"cmin\": 0, \"colorbar\": {\"title\": {\"text\": \"Flights\"}}, \"colorscale\": [[0.0, \"rgb(247,252,240)\"], [0.125, \"rgb(224,243,219)\"], [0.25, \"rgb(204,235,197)\"], [0.375, \"rgb(168,221,181)\"], [0.5, \"rgb(123,204,196)\"], [0.625, \"rgb(78,179,211)\"], [0.75, \"rgb(43,140,190)\"], [0.875, \"rgb(8,104,172)\"], [1.0, \"rgb(8,64,129)\"]]}, \"geo\": {\"center\": {}, \"domain\": {\"x\": [0.0, 1.0], \"y\": [0.0, 1.0]}, \"scope\": \"usa\"}, \"legend\": {\"tracegroupgap\": 0}, \"margin\": {\"t\": 60}, \"template\": {\"data\": {\"bar\": [{\"error_x\": {\"color\": \"#2a3f5f\"}, \"error_y\": {\"color\": \"#2a3f5f\"}, \"marker\": {\"line\": {\"color\": \"#E5ECF6\", \"width\": 0.5}}, \"type\": \"bar\"}], \"barpolar\": [{\"marker\": {\"line\": {\"color\": \"#E5ECF6\", \"width\": 0.5}}, \"type\": \"barpolar\"}], \"carpet\": [{\"aaxis\": {\"endlinecolor\": \"#2a3f5f\", \"gridcolor\": \"white\", \"linecolor\": \"white\", \"minorgridcolor\": \"white\", \"startlinecolor\": \"#2a3f5f\"}, \"baxis\": {\"endlinecolor\": \"#2a3f5f\", \"gridcolor\": \"white\", \"linecolor\": \"white\", \"minorgridcolor\": \"white\", \"startlinecolor\": \"#2a3f5f\"}, \"type\": \"carpet\"}], \"choropleth\": [{\"colorbar\": {\"outlinewidth\": 0, \"ticks\": \"\"}, \"type\": \"choropleth\"}], \"contour\": [{\"colorbar\": {\"outlinewidth\": 0, \"ticks\": \"\"}, \"colorscale\": [[0.0, \"#0d0887\"], [0.1111111111111111, \"#46039f\"], [0.2222222222222222, \"#7201a8\"], [0.3333333333333333, \"#9c179e\"], [0.4444444444444444, \"#bd3786\"], [0.5555555555555556, \"#d8576b\"], [0.6666666666666666, \"#ed7953\"], [0.7777777777777778, \"#fb9f3a\"], [0.8888888888888888, \"#fdca26\"], [1.0, \"#f0f921\"]], \"type\": \"contour\"}], \"contourcarpet\": [{\"colorbar\": {\"outlinewidth\": 0, \"ticks\": \"\"}, \"type\": \"contourcarpet\"}], \"heatmap\": [{\"colorbar\": {\"outlinewidth\": 0, \"ticks\": \"\"}, \"colorscale\": [[0.0, \"#0d0887\"], [0.1111111111111111, \"#46039f\"], [0.2222222222222222, \"#7201a8\"], [0.3333333333333333, \"#9c179e\"], [0.4444444444444444, \"#bd3786\"], [0.5555555555555556, \"#d8576b\"], [0.6666666666666666, \"#ed7953\"], [0.7777777777777778, \"#fb9f3a\"], [0.8888888888888888, \"#fdca26\"], [1.0, \"#f0f921\"]], \"type\": \"heatmap\"}], \"heatmapgl\": [{\"colorbar\": {\"outlinewidth\": 0, \"ticks\": \"\"}, \"colorscale\": [[0.0, \"#0d0887\"], [0.1111111111111111, \"#46039f\"], [0.2222222222222222, \"#7201a8\"], [0.3333333333333333, \"#9c179e\"], [0.4444444444444444, \"#bd3786\"], [0.5555555555555556, \"#d8576b\"], [0.6666666666666666, \"#ed7953\"], [0.7777777777777778, \"#fb9f3a\"], [0.8888888888888888, \"#fdca26\"], [1.0, \"#f0f921\"]], \"type\": \"heatmapgl\"}], \"histogram\": [{\"marker\": {\"colorbar\": {\"outlinewidth\": 0, \"ticks\": \"\"}}, \"type\": \"histogram\"}], \"histogram2d\": [{\"colorbar\": {\"outlinewidth\": 0, \"ticks\": \"\"}, \"colorscale\": [[0.0, \"#0d0887\"], [0.1111111111111111, \"#46039f\"], [0.2222222222222222, \"#7201a8\"], [0.3333333333333333, \"#9c179e\"], [0.4444444444444444, \"#bd3786\"], [0.5555555555555556, \"#d8576b\"], [0.6666666666666666, \"#ed7953\"], [0.7777777777777778, \"#fb9f3a\"], [0.8888888888888888, \"#fdca26\"], [1.0, \"#f0f921\"]], \"type\": \"histogram2d\"}], \"histogram2dcontour\": [{\"colorbar\": {\"outlinewidth\": 0, \"ticks\": \"\"}, \"colorscale\": [[0.0, \"#0d0887\"], [0.1111111111111111, \"#46039f\"], [0.2222222222222222, \"#7201a8\"], [0.3333333333333333, \"#9c179e\"], [0.4444444444444444, \"#bd3786\"], [0.5555555555555556, \"#d8576b\"], [0.6666666666666666, \"#ed7953\"], [0.7777777777777778, \"#fb9f3a\"], [0.8888888888888888, \"#fdca26\"], [1.0, \"#f0f921\"]], \"type\": \"histogram2dcontour\"}], \"mesh3d\": [{\"colorbar\": {\"outlinewidth\": 0, \"ticks\": \"\"}, \"type\": \"mesh3d\"}], \"parcoords\": [{\"line\": {\"colorbar\": {\"outlinewidth\": 0, \"ticks\": \"\"}}, \"type\": \"parcoords\"}], \"pie\": [{\"automargin\": true, \"type\": \"pie\"}], \"scatter\": [{\"marker\": {\"colorbar\": {\"outlinewidth\": 0, \"ticks\": \"\"}}, \"type\": \"scatter\"}], \"scatter3d\": [{\"line\": {\"colorbar\": {\"outlinewidth\": 0, \"ticks\": \"\"}}, \"marker\": {\"colorbar\": {\"outlinewidth\": 0, \"ticks\": \"\"}}, \"type\": \"scatter3d\"}], \"scattercarpet\": [{\"marker\": {\"colorbar\": {\"outlinewidth\": 0, \"ticks\": \"\"}}, \"type\": \"scattercarpet\"}], \"scattergeo\": [{\"marker\": {\"colorbar\": {\"outlinewidth\": 0, \"ticks\": \"\"}}, \"type\": \"scattergeo\"}], \"scattergl\": [{\"marker\": {\"colorbar\": {\"outlinewidth\": 0, \"ticks\": \"\"}}, \"type\": \"scattergl\"}], \"scattermapbox\": [{\"marker\": {\"colorbar\": {\"outlinewidth\": 0, \"ticks\": \"\"}}, \"type\": \"scattermapbox\"}], \"scatterpolar\": [{\"marker\": {\"colorbar\": {\"outlinewidth\": 0, \"ticks\": \"\"}}, \"type\": \"scatterpolar\"}], \"scatterpolargl\": [{\"marker\": {\"colorbar\": {\"outlinewidth\": 0, \"ticks\": \"\"}}, \"type\": \"scatterpolargl\"}], \"scatterternary\": [{\"marker\": {\"colorbar\": {\"outlinewidth\": 0, \"ticks\": \"\"}}, \"type\": \"scatterternary\"}], \"surface\": [{\"colorbar\": {\"outlinewidth\": 0, \"ticks\": \"\"}, \"colorscale\": [[0.0, \"#0d0887\"], [0.1111111111111111, \"#46039f\"], [0.2222222222222222, \"#7201a8\"], [0.3333333333333333, \"#9c179e\"], [0.4444444444444444, \"#bd3786\"], [0.5555555555555556, \"#d8576b\"], [0.6666666666666666, \"#ed7953\"], [0.7777777777777778, \"#fb9f3a\"], [0.8888888888888888, \"#fdca26\"], [1.0, \"#f0f921\"]], \"type\": \"surface\"}], \"table\": [{\"cells\": {\"fill\": {\"color\": \"#EBF0F8\"}, \"line\": {\"color\": \"white\"}}, \"header\": {\"fill\": {\"color\": \"#C8D4E3\"}, \"line\": {\"color\": \"white\"}}, \"type\": \"table\"}]}, \"layout\": {\"annotationdefaults\": {\"arrowcolor\": \"#2a3f5f\", \"arrowhead\": 0, \"arrowwidth\": 1}, \"autotypenumbers\": \"strict\", \"coloraxis\": {\"colorbar\": {\"outlinewidth\": 0, \"ticks\": \"\"}}, \"colorscale\": {\"diverging\": [[0, \"#8e0152\"], [0.1, \"#c51b7d\"], [0.2, \"#de77ae\"], [0.3, \"#f1b6da\"], [0.4, \"#fde0ef\"], [0.5, \"#f7f7f7\"], [0.6, \"#e6f5d0\"], [0.7, \"#b8e186\"], [0.8, \"#7fbc41\"], [0.9, \"#4d9221\"], [1, \"#276419\"]], \"sequential\": [[0.0, \"#0d0887\"], [0.1111111111111111, \"#46039f\"], [0.2222222222222222, \"#7201a8\"], [0.3333333333333333, \"#9c179e\"], [0.4444444444444444, \"#bd3786\"], [0.5555555555555556, \"#d8576b\"], [0.6666666666666666, \"#ed7953\"], [0.7777777777777778, \"#fb9f3a\"], [0.8888888888888888, \"#fdca26\"], [1.0, \"#f0f921\"]], \"sequentialminus\": [[0.0, \"#0d0887\"], [0.1111111111111111, \"#46039f\"], [0.2222222222222222, \"#7201a8\"], [0.3333333333333333, \"#9c179e\"], [0.4444444444444444, \"#bd3786\"], [0.5555555555555556, \"#d8576b\"], [0.6666666666666666, \"#ed7953\"], [0.7777777777777778, \"#fb9f3a\"], [0.8888888888888888, \"#fdca26\"], [1.0, \"#f0f921\"]]}, \"colorway\": [\"#636efa\", \"#EF553B\", \"#00cc96\", \"#ab63fa\", \"#FFA15A\", \"#19d3f3\", \"#FF6692\", \"#B6E880\", \"#FF97FF\", \"#FECB52\"], \"font\": {\"color\": \"#2a3f5f\"}, \"geo\": {\"bgcolor\": \"white\", \"lakecolor\": \"white\", \"landcolor\": \"#E5ECF6\", \"showlakes\": true, \"showland\": true, \"subunitcolor\": \"white\"}, \"hoverlabel\": {\"align\": \"left\"}, \"hovermode\": \"closest\", \"mapbox\": {\"style\": \"light\"}, \"paper_bgcolor\": \"white\", \"plot_bgcolor\": \"#E5ECF6\", \"polar\": {\"angularaxis\": {\"gridcolor\": \"white\", \"linecolor\": \"white\", \"ticks\": \"\"}, \"bgcolor\": \"#E5ECF6\", \"radialaxis\": {\"gridcolor\": \"white\", \"linecolor\": \"white\", \"ticks\": \"\"}}, \"scene\": {\"xaxis\": {\"backgroundcolor\": \"#E5ECF6\", \"gridcolor\": \"white\", \"gridwidth\": 2, \"linecolor\": \"white\", \"showbackground\": true, \"ticks\": \"\", \"zerolinecolor\": \"white\"}, \"yaxis\": {\"backgroundcolor\": \"#E5ECF6\", \"gridcolor\": \"white\", \"gridwidth\": 2, \"linecolor\": \"white\", \"showbackground\": true, \"ticks\": \"\", \"zerolinecolor\": \"white\"}, \"zaxis\": {\"backgroundcolor\": \"#E5ECF6\", \"gridcolor\": \"white\", \"gridwidth\": 2, \"linecolor\": \"white\", \"showbackground\": true, \"ticks\": \"\", \"zerolinecolor\": \"white\"}}, \"shapedefaults\": {\"line\": {\"color\": \"#2a3f5f\"}}, \"ternary\": {\"aaxis\": {\"gridcolor\": \"white\", \"linecolor\": \"white\", \"ticks\": \"\"}, \"baxis\": {\"gridcolor\": \"white\", \"linecolor\": \"white\", \"ticks\": \"\"}, \"bgcolor\": \"#E5ECF6\", \"caxis\": {\"gridcolor\": \"white\", \"linecolor\": \"white\", \"ticks\": \"\"}}, \"title\": {\"x\": 0.05}, \"xaxis\": {\"automargin\": true, \"gridcolor\": \"white\", \"linecolor\": \"white\", \"ticks\": \"\", \"title\": {\"standoff\": 15}, \"zerolinecolor\": \"white\", \"zerolinewidth\": 2}, \"yaxis\": {\"automargin\": true, \"gridcolor\": \"white\", \"linecolor\": \"white\", \"ticks\": \"\", \"title\": {\"standoff\": 15}, \"zerolinecolor\": \"white\", \"zerolinewidth\": 2}}}, \"title\": {\"text\": \"Number of flights from origin state\"}},                        {\"responsive\": true}                    ).then(function(){\n",
       "                            \n",
       "var gd = document.getElementById('29a19aa6-c1a2-4294-ba38-4c514fa5e24b');\n",
       "var x = new MutationObserver(function (mutations, observer) {{\n",
       "        var display = window.getComputedStyle(gd).display;\n",
       "        if (!display || display === 'none') {{\n",
       "            console.log([gd, 'removed!']);\n",
       "            Plotly.purge(gd);\n",
       "            observer.disconnect();\n",
       "        }}\n",
       "}});\n",
       "\n",
       "// Listen for the removal of the full notebook cells\n",
       "var notebookContainer = gd.closest('#notebook-container');\n",
       "if (notebookContainer) {{\n",
       "    x.observe(notebookContainer, {childList: true});\n",
       "}}\n",
       "\n",
       "// Listen for the clearing of the current output cell\n",
       "var outputEl = gd.closest('.output');\n",
       "if (outputEl) {{\n",
       "    x.observe(outputEl, {childList: true});\n",
       "}}\n",
       "\n",
       "                        })                };                });            </script>        </div>"
      ]
     },
     "metadata": {},
     "output_type": "display_data"
    }
   ],
   "source": [
    "map_fig = px.choropleth(map_data,  # Input data\n",
    "                    locations='OriginState', \n",
    "                    color='Flights',  \n",
    "                    hover_data=['OriginState', 'Flights'], \n",
    "                    locationmode = 'USA-states', # Set to plot as US States\n",
    "                    color_continuous_scale='GnBu',\n",
    "                    range_color=[0, map_data['Flights'].max()]) \n",
    "map_fig.update_layout(\n",
    "                    title_text = 'Number of flights from origin state', \n",
    "                    geo_scope='usa') # Plot only the USA instead of globe\n",
    "map_fig.show()"
   ]
  },
  {
   "cell_type": "markdown",
   "metadata": {},
   "source": [
    "## Author\n",
    "\n",
    "[Saishruthi Swaminathan](https://www.linkedin.com/in/saishruthi-swaminathan/?utm_email=Email&utm_source=Nurture&utm_content=000026UJ&utm_term=10006555&utm_campaign=PLACEHOLDER&utm_id=SkillsNetwork-Courses-IBMDeveloperSkillsNetwork-DV0101EN-SkillsNetwork-20297740) \n"
   ]
  },
  {
   "cell_type": "code",
   "execution_count": 21,
   "metadata": {},
   "outputs": [
    {
     "data": {
      "text/html": [
       "<div>\n",
       "<style scoped>\n",
       "    .dataframe tbody tr th:only-of-type {\n",
       "        vertical-align: middle;\n",
       "    }\n",
       "\n",
       "    .dataframe tbody tr th {\n",
       "        vertical-align: top;\n",
       "    }\n",
       "\n",
       "    .dataframe thead th {\n",
       "        text-align: right;\n",
       "    }\n",
       "</style>\n",
       "<table border=\"1\" class=\"dataframe\">\n",
       "  <thead>\n",
       "    <tr style=\"text-align: right;\">\n",
       "      <th></th>\n",
       "      <th>DestState</th>\n",
       "      <th>Reporting_Airline</th>\n",
       "      <th>Flights</th>\n",
       "    </tr>\n",
       "  </thead>\n",
       "  <tbody>\n",
       "    <tr>\n",
       "      <th>0</th>\n",
       "      <td>AK</td>\n",
       "      <td>AS</td>\n",
       "      <td>167.0</td>\n",
       "    </tr>\n",
       "    <tr>\n",
       "      <th>1</th>\n",
       "      <td>AK</td>\n",
       "      <td>CO</td>\n",
       "      <td>3.0</td>\n",
       "    </tr>\n",
       "    <tr>\n",
       "      <th>2</th>\n",
       "      <td>AK</td>\n",
       "      <td>DL</td>\n",
       "      <td>12.0</td>\n",
       "    </tr>\n",
       "    <tr>\n",
       "      <th>3</th>\n",
       "      <td>AK</td>\n",
       "      <td>NW</td>\n",
       "      <td>6.0</td>\n",
       "    </tr>\n",
       "    <tr>\n",
       "      <th>4</th>\n",
       "      <td>AK</td>\n",
       "      <td>UA</td>\n",
       "      <td>4.0</td>\n",
       "    </tr>\n",
       "    <tr>\n",
       "      <th>...</th>\n",
       "      <td>...</td>\n",
       "      <td>...</td>\n",
       "      <td>...</td>\n",
       "    </tr>\n",
       "    <tr>\n",
       "      <th>892</th>\n",
       "      <td>WY</td>\n",
       "      <td>AA</td>\n",
       "      <td>1.0</td>\n",
       "    </tr>\n",
       "    <tr>\n",
       "      <th>893</th>\n",
       "      <td>WY</td>\n",
       "      <td>DL</td>\n",
       "      <td>8.0</td>\n",
       "    </tr>\n",
       "    <tr>\n",
       "      <th>894</th>\n",
       "      <td>WY</td>\n",
       "      <td>OO</td>\n",
       "      <td>14.0</td>\n",
       "    </tr>\n",
       "    <tr>\n",
       "      <th>895</th>\n",
       "      <td>WY</td>\n",
       "      <td>UA</td>\n",
       "      <td>3.0</td>\n",
       "    </tr>\n",
       "    <tr>\n",
       "      <th>896</th>\n",
       "      <td>WY</td>\n",
       "      <td>YV</td>\n",
       "      <td>1.0</td>\n",
       "    </tr>\n",
       "  </tbody>\n",
       "</table>\n",
       "<p>897 rows × 3 columns</p>\n",
       "</div>"
      ],
      "text/plain": [
       "    DestState Reporting_Airline  Flights\n",
       "0          AK                AS    167.0\n",
       "1          AK                CO      3.0\n",
       "2          AK                DL     12.0\n",
       "3          AK                NW      6.0\n",
       "4          AK                UA      4.0\n",
       "..        ...               ...      ...\n",
       "892        WY                AA      1.0\n",
       "893        WY                DL      8.0\n",
       "894        WY                OO     14.0\n",
       "895        WY                UA      3.0\n",
       "896        WY                YV      1.0\n",
       "\n",
       "[897 rows x 3 columns]"
      ]
     },
     "execution_count": 21,
     "metadata": {},
     "output_type": "execute_result"
    }
   ],
   "source": [
    "bar_data, line_data, div_data, map_data, tree_data = compute_data_choice_1(airline_data)\n",
    "tree_data"
   ]
  },
  {
   "cell_type": "markdown",
   "metadata": {},
   "source": [
    "## Changelog\n",
    "\n",
    "| Date       | Version | Changed by | Change Description                   |\n",
    "| ---------- | ------- | ---------- | ------------------------------------ |\n",
    "| 12-18-2020 | 1.0     | Nayef      | Added dataset link and upload to Git |\n"
   ]
  },
  {
   "cell_type": "markdown",
   "metadata": {},
   "source": [
    "## <h3 align=\"center\"> © IBM Corporation 2020. All rights reserved. <h3/>\n"
   ]
  },
  {
   "cell_type": "code",
   "execution_count": null,
   "metadata": {},
   "outputs": [],
   "source": []
  }
 ],
 "metadata": {
  "kernelspec": {
   "display_name": "Python 3",
   "language": "python",
   "name": "python3"
  },
  "language_info": {
   "codemirror_mode": {
    "name": "ipython",
    "version": 3
   },
   "file_extension": ".py",
   "mimetype": "text/x-python",
   "name": "python",
   "nbconvert_exporter": "python",
   "pygments_lexer": "ipython3",
   "version": "3.8.5"
  }
 },
 "nbformat": 4,
 "nbformat_minor": 4
}
